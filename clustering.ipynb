{
 "cells": [
  {
   "cell_type": "markdown",
   "id": "9fd416b0-bd53-41dd-8a44-5a521e3527eb",
   "metadata": {},
   "source": [
    "# Import Libraries"
   ]
  },
  {
   "cell_type": "code",
   "execution_count": null,
   "id": "dc8272f0-193b-4b92-a4ae-bf3c04deb343",
   "metadata": {
    "tags": []
   },
   "outputs": [],
   "source": [
    "import pandas as pd\n",
    "from sklearn.feature_extraction.text import TfidfVectorizer\n",
    "from sklearn.cluster import KMeans\n",
    "import tkinter as tk\n",
    "from tkinter.scrolledtext import ScrolledText\n",
    "from datasets import load_dataset"
   ]
  },
  {
   "cell_type": "code",
   "execution_count": null,
   "id": "f78d2d2b-30f3-47e4-891c-a3c755a70f4e",
   "metadata": {
    "tags": []
   },
   "outputs": [],
   "source": [
    "# data = {\n",
    "#     'Title': [\n",
    "#         'Uefa Opens Proceedings against Barcelona, Juventus in Super League Row',\n",
    "#         'Amazon Blames Inflation as It Increases Cost of Prime Subscription',\n",
    "#         'Nigeria’s Parliament Passes Amended Electoral Bill amid Controversy',\n",
    "#         'Nigeria: Lagos Governor Tests Positive for Covid-19',\n",
    "#         'South Africa Calls For Calm as Electoral Reform Talks Stall'\n",
    "#     ],\n",
    "#     'Excerpt': [\n",
    "#         'Uefa has opened disciplinary proceedings against Barcelona, Juventus and Real Madrid over their involvement in the proposed breakaway Super League.',\n",
    "#         'The increases are steeper than the 17 percent jump it implemented last year.',\n",
    "#         \"Nigeria's Senate on Tuesday passed the harmonised Electoral Bill amid controversy.\",\n",
    "#         'The Lagos State Governor, Mr. Babajide Sanwo-Olu, has tested positive for COVID-19.',\n",
    "#         'South Africa has raised concerns about the deterioration of the political situation in Lesotho and called for calm.'\n",
    "#     ],\n",
    "#     'Category': ['sports', 'business', 'politics', 'health', 'politics']\n",
    "# }"
   ]
  },
  {
   "cell_type": "markdown",
   "id": "fcdbae8f-1eff-42f4-abcb-c75b0184eabe",
   "metadata": {},
   "source": [
    "# Loading Dataset"
   ]
  },
  {
   "cell_type": "code",
   "execution_count": null,
   "id": "b04469e0-35c1-4e2c-8490-8ce349bc5b2c",
   "metadata": {
    "tags": []
   },
   "outputs": [],
   "source": [
    "from datasets import load_dataset\n",
    "dataset = load_dataset(\"okite97/news-data\")\n",
    "df = pd.DataFrame(dataset['train'])\n",
    "# Filter data for only 'health', 'sports', and 'business' categories\n",
    "# df = df[df['Category'].isin(['health', 'sports', 'business'])]"
   ]
  },
  {
   "cell_type": "markdown",
   "id": "e4f34b13-ff69-40bb-bdb7-e4d7ab467afb",
   "metadata": {},
   "source": [
    "# Data Cleaning"
   ]
  },
  {
   "cell_type": "code",
   "execution_count": 5,
   "id": "f360c0bd-4972-4a20-b0c1-52b51d7757b3",
   "metadata": {
    "tags": []
   },
   "outputs": [
    {
     "name": "stdout",
     "output_type": "stream",
     "text": [
      "                                               Title  \\\n",
      "0  Uefa Opens Proceedings against Barcelona, Juve...   \n",
      "1  Amazon Blames Inflation as It Increases Cost o...   \n",
      "2  Nigeria’s Parliament Passes Amended Electoral ...   \n",
      "3  Nigeria: Lagos Governor Tests Positive for Cov...   \n",
      "4  South Africa Calls For Calm as Electoral Refor...   \n",
      "\n",
      "                                             Excerpt  Category  \n",
      "0  Uefa has opened disciplinary proceedings again...    sports  \n",
      "1  The increases are steeper than the 17 percent ...  business  \n",
      "2  Nigeria's Senate on Tuesday passed the harmoni...  politics  \n",
      "3  The Lagos State Governor, Mr. Babajide Sanwo-O...    health  \n",
      "4  South Africa has raised concerns about the det...  politics  \n"
     ]
    }
   ],
   "source": [
    "# Drop rows with missing values in 'Title' or 'Excerpt' columns\n",
    "df = df.dropna(subset=['Title', 'Excerpt'])\n",
    "print(df.head())"
   ]
  },
  {
   "cell_type": "markdown",
   "id": "724eda22-253d-467f-9bb0-8b98be30b013",
   "metadata": {},
   "source": [
    "# Vectorize the Text"
   ]
  },
  {
   "cell_type": "code",
   "execution_count": 6,
   "id": "2da144da-b53c-4925-8866-9031e5eb838b",
   "metadata": {
    "tags": []
   },
   "outputs": [],
   "source": [
    "# TF-IDF vectorization\n",
    "vectorizer = TfidfVectorizer(max_df=0.5, min_df=2, stop_words='english', use_idf=True)\n",
    "tfidf_matrix = vectorizer.fit_transform(df['Title'] + ' ' + df['Excerpt'])"
   ]
  },
  {
   "cell_type": "markdown",
   "id": "b58f8e66-70fe-4cb9-a6da-a9fdb29b6175",
   "metadata": {},
   "source": [
    "# Cluster the Data: "
   ]
  },
  {
   "cell_type": "code",
   "execution_count": 7,
   "id": "33a45a3e-de6e-4f55-90b6-960751ac129b",
   "metadata": {
    "tags": []
   },
   "outputs": [
    {
     "name": "stderr",
     "output_type": "stream",
     "text": [
      "/Users/sanjokdangol/anaconda3/lib/python3.11/site-packages/sklearn/cluster/_kmeans.py:1412: FutureWarning: The default value of `n_init` will change from 10 to 'auto' in 1.4. Set the value of `n_init` explicitly to suppress the warning\n",
      "  super()._check_params_vs_input(X, default_n_init=10)\n"
     ]
    },
    {
     "data": {
      "text/html": [
       "<style>#sk-container-id-1 {color: black;}#sk-container-id-1 pre{padding: 0;}#sk-container-id-1 div.sk-toggleable {background-color: white;}#sk-container-id-1 label.sk-toggleable__label {cursor: pointer;display: block;width: 100%;margin-bottom: 0;padding: 0.3em;box-sizing: border-box;text-align: center;}#sk-container-id-1 label.sk-toggleable__label-arrow:before {content: \"▸\";float: left;margin-right: 0.25em;color: #696969;}#sk-container-id-1 label.sk-toggleable__label-arrow:hover:before {color: black;}#sk-container-id-1 div.sk-estimator:hover label.sk-toggleable__label-arrow:before {color: black;}#sk-container-id-1 div.sk-toggleable__content {max-height: 0;max-width: 0;overflow: hidden;text-align: left;background-color: #f0f8ff;}#sk-container-id-1 div.sk-toggleable__content pre {margin: 0.2em;color: black;border-radius: 0.25em;background-color: #f0f8ff;}#sk-container-id-1 input.sk-toggleable__control:checked~div.sk-toggleable__content {max-height: 200px;max-width: 100%;overflow: auto;}#sk-container-id-1 input.sk-toggleable__control:checked~label.sk-toggleable__label-arrow:before {content: \"▾\";}#sk-container-id-1 div.sk-estimator input.sk-toggleable__control:checked~label.sk-toggleable__label {background-color: #d4ebff;}#sk-container-id-1 div.sk-label input.sk-toggleable__control:checked~label.sk-toggleable__label {background-color: #d4ebff;}#sk-container-id-1 input.sk-hidden--visually {border: 0;clip: rect(1px 1px 1px 1px);clip: rect(1px, 1px, 1px, 1px);height: 1px;margin: -1px;overflow: hidden;padding: 0;position: absolute;width: 1px;}#sk-container-id-1 div.sk-estimator {font-family: monospace;background-color: #f0f8ff;border: 1px dotted black;border-radius: 0.25em;box-sizing: border-box;margin-bottom: 0.5em;}#sk-container-id-1 div.sk-estimator:hover {background-color: #d4ebff;}#sk-container-id-1 div.sk-parallel-item::after {content: \"\";width: 100%;border-bottom: 1px solid gray;flex-grow: 1;}#sk-container-id-1 div.sk-label:hover label.sk-toggleable__label {background-color: #d4ebff;}#sk-container-id-1 div.sk-serial::before {content: \"\";position: absolute;border-left: 1px solid gray;box-sizing: border-box;top: 0;bottom: 0;left: 50%;z-index: 0;}#sk-container-id-1 div.sk-serial {display: flex;flex-direction: column;align-items: center;background-color: white;padding-right: 0.2em;padding-left: 0.2em;position: relative;}#sk-container-id-1 div.sk-item {position: relative;z-index: 1;}#sk-container-id-1 div.sk-parallel {display: flex;align-items: stretch;justify-content: center;background-color: white;position: relative;}#sk-container-id-1 div.sk-item::before, #sk-container-id-1 div.sk-parallel-item::before {content: \"\";position: absolute;border-left: 1px solid gray;box-sizing: border-box;top: 0;bottom: 0;left: 50%;z-index: -1;}#sk-container-id-1 div.sk-parallel-item {display: flex;flex-direction: column;z-index: 1;position: relative;background-color: white;}#sk-container-id-1 div.sk-parallel-item:first-child::after {align-self: flex-end;width: 50%;}#sk-container-id-1 div.sk-parallel-item:last-child::after {align-self: flex-start;width: 50%;}#sk-container-id-1 div.sk-parallel-item:only-child::after {width: 0;}#sk-container-id-1 div.sk-dashed-wrapped {border: 1px dashed gray;margin: 0 0.4em 0.5em 0.4em;box-sizing: border-box;padding-bottom: 0.4em;background-color: white;}#sk-container-id-1 div.sk-label label {font-family: monospace;font-weight: bold;display: inline-block;line-height: 1.2em;}#sk-container-id-1 div.sk-label-container {text-align: center;}#sk-container-id-1 div.sk-container {/* jupyter's `normalize.less` sets `[hidden] { display: none; }` but bootstrap.min.css set `[hidden] { display: none !important; }` so we also need the `!important` here to be able to override the default hidden behavior on the sphinx rendered scikit-learn.org. See: https://github.com/scikit-learn/scikit-learn/issues/21755 */display: inline-block !important;position: relative;}#sk-container-id-1 div.sk-text-repr-fallback {display: none;}</style><div id=\"sk-container-id-1\" class=\"sk-top-container\"><div class=\"sk-text-repr-fallback\"><pre>KMeans(n_clusters=6, random_state=42)</pre><b>In a Jupyter environment, please rerun this cell to show the HTML representation or trust the notebook. <br />On GitHub, the HTML representation is unable to render, please try loading this page with nbviewer.org.</b></div><div class=\"sk-container\" hidden><div class=\"sk-item\"><div class=\"sk-estimator sk-toggleable\"><input class=\"sk-toggleable__control sk-hidden--visually\" id=\"sk-estimator-id-1\" type=\"checkbox\" checked><label for=\"sk-estimator-id-1\" class=\"sk-toggleable__label sk-toggleable__label-arrow\">KMeans</label><div class=\"sk-toggleable__content\"><pre>KMeans(n_clusters=6, random_state=42)</pre></div></div></div></div></div>"
      ],
      "text/plain": [
       "KMeans(n_clusters=6, random_state=42)"
      ]
     },
     "execution_count": 7,
     "metadata": {},
     "output_type": "execute_result"
    }
   ],
   "source": [
    "# Clustering (K-means)\n",
    "n_clusters = 6  # Number of clusters\n",
    "kmeans = KMeans(n_clusters=n_clusters, random_state=42)\n",
    "kmeans.fit(tfidf_matrix)"
   ]
  },
  {
   "cell_type": "markdown",
   "id": "c7374d8b-dbbf-405e-ac42-b92681e2d6b0",
   "metadata": {},
   "source": [
    "# Predict Cluster: "
   ]
  },
  {
   "cell_type": "code",
   "execution_count": 8,
   "id": "0c443192-4823-408a-9e5f-772403586743",
   "metadata": {
    "tags": []
   },
   "outputs": [],
   "source": [
    "# Predict cluster for user input\n",
    "def predict_cluster_and_category(input_text):\n",
    "    input_vector = vectorizer.transform([input_text])\n",
    "    cluster = kmeans.predict(input_vector)[0]\n",
    "    category = df.iloc[cluster]['Category']\n",
    "    return cluster, category"
   ]
  },
  {
   "cell_type": "markdown",
   "id": "7a01fad6-0dfa-469a-8225-b51b6069923f",
   "metadata": {},
   "source": [
    "# Display Cluster Documents"
   ]
  },
  {
   "cell_type": "code",
   "execution_count": 9,
   "id": "0b43466c-703c-4a6a-912d-069654c127d1",
   "metadata": {
    "tags": []
   },
   "outputs": [
    {
     "name": "stdout",
     "output_type": "stream",
     "text": [
      "Predicted Cluster: 3\n",
      "Category Name: health\n",
      "Predicted Cluster: 3\n",
      "Category Name: health\n"
     ]
    }
   ],
   "source": [
    "window = tk.Tk()\n",
    "window.title(\"Document Clustering\")\n",
    "window.minsize(600, 400)\n",
    "\n",
    "text_box = ScrolledText(window)\n",
    "text_box.grid(row=0, column=0, padx=5, pady=5, sticky=\"nsew\")\n",
    "\n",
    "predicted_cluster_label = tk.Label(window, text=\"Predicted Cluster:\")\n",
    "predicted_cluster_label.grid(row=1, column=0, padx=5, pady=5, sticky=\"w\")\n",
    "\n",
    "predicted_category_label = tk.Label(window, text=\"Predicted Category:\")\n",
    "predicted_category_label.grid(row=2, column=0, padx=5, pady=5, sticky=\"w\")\n",
    "\n",
    "def process_input():\n",
    "    input_text = text_box.get(\"1.0\", tk.END)\n",
    "    predicted_cluster, category = predict_cluster_and_category(input_text)\n",
    "    predicted_cluster_label.config(text=f\"Predicted Cluster: {predicted_cluster}\")\n",
    "    predicted_category_label.config(text=f\"Predicted Category: {category}\")\n",
    "    print(\"Predicted Cluster:\", predicted_cluster)\n",
    "    print(\"Category Name:\", category)\n",
    "\n",
    "# Tkinter GUI components\n",
    "btn = tk.Button(window, text=\"Cluster Documents\", command=process_input)\n",
    "btn.grid(row=3, column=0, padx=5, pady=5)\n",
    "\n",
    "window.mainloop()"
   ]
  },
  {
   "cell_type": "code",
   "execution_count": null,
   "id": "47fae5a6-d85a-41f0-a0fb-a86b3f7aea1f",
   "metadata": {},
   "outputs": [],
   "source": []
  }
 ],
 "metadata": {
  "kernelspec": {
   "display_name": "Python 3 (ipykernel)",
   "language": "python",
   "name": "python3"
  },
  "language_info": {
   "codemirror_mode": {
    "name": "ipython",
    "version": 3
   },
   "file_extension": ".py",
   "mimetype": "text/x-python",
   "name": "python",
   "nbconvert_exporter": "python",
   "pygments_lexer": "ipython3",
   "version": "3.11.5"
  }
 },
 "nbformat": 4,
 "nbformat_minor": 5
}
