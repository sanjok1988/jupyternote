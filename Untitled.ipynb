{
 "cells": [
  {
   "cell_type": "code",
   "execution_count": 2,
   "id": "7397fb10-82ec-422c-865a-9fda6b8dd6c7",
   "metadata": {
    "tags": []
   },
   "outputs": [
    {
     "name": "stdout",
     "output_type": "stream",
     "text": [
      "The new document belongs to cluster 1\n"
     ]
    },
    {
     "name": "stderr",
     "output_type": "stream",
     "text": [
      "[nltk_data] Downloading package punkt to\n",
      "[nltk_data]     /Users/sanjokdangol/nltk_data...\n",
      "[nltk_data]   Package punkt is already up-to-date!\n",
      "[nltk_data] Downloading package stopwords to\n",
      "[nltk_data]     /Users/sanjokdangol/nltk_data...\n",
      "[nltk_data]   Package stopwords is already up-to-date!\n",
      "/Users/sanjokdangol/anaconda3/lib/python3.11/site-packages/sklearn/cluster/_kmeans.py:1412: FutureWarning: The default value of `n_init` will change from 10 to 'auto' in 1.4. Set the value of `n_init` explicitly to suppress the warning\n",
      "  super()._check_params_vs_input(X, default_n_init=10)\n"
     ]
    }
   ],
   "source": [
    "import nltk\n",
    "from nltk.tokenize import word_tokenize\n",
    "from nltk.corpus import stopwords\n",
    "from sklearn.feature_extraction.text import TfidfVectorizer\n",
    "from sklearn.cluster import KMeans\n",
    "import numpy as np\n",
    "\n",
    "# Sample documents\n",
    "documents = [\n",
    "    \"Football is a popular sport played worldwide.\",\n",
    "    \"Running and jogging are good for health.\",\n",
    "    \"The stock market is experiencing volatility.\",\n",
    "    \"Healthy eating habits contribute to overall well-being.\",\n",
    "    \"Businesses are investing in new technologies.\",\n",
    "    \"Exercise is important for maintaining fitness.\",\n",
    "    \"The economy is showing signs of recovery.\",\n",
    "    \"Proper sleep is essential for good health.\",\n",
    "    \"Entrepreneurs are launching innovative startups.\",\n",
    "    \"Sports events attract large audiences.\"\n",
    "]\n",
    "\n",
    "# Tokenization and preprocessing\n",
    "nltk.download('punkt')\n",
    "nltk.download('stopwords')\n",
    "stop_words = set(stopwords.words('english'))\n",
    "tokenized_documents = [word_tokenize(doc.lower()) for doc in documents]\n",
    "filtered_documents = [[word for word in doc if word not in stop_words] for doc in tokenized_documents]\n",
    "\n",
    "# Convert documents to TF-IDF vectors\n",
    "tfidf_vectorizer = TfidfVectorizer()\n",
    "tfidf_matrix = tfidf_vectorizer.fit_transform([\" \".join(doc) for doc in filtered_documents])\n",
    "\n",
    "# Clustering using K-means\n",
    "k = 3  # Number of clusters\n",
    "kmeans = KMeans(n_clusters=k)\n",
    "kmeans.fit(tfidf_matrix)\n",
    "\n",
    "# Predict cluster for new document\n",
    "def predict_cluster(new_document):\n",
    "    new_doc_tokens = word_tokenize(new_document.lower())\n",
    "    new_doc_filtered = [word for word in new_doc_tokens if word not in stop_words]\n",
    "    new_doc_tfidf = tfidf_vectorizer.transform([\" \".join(new_doc_filtered)])\n",
    "    predicted_cluster = kmeans.predict(new_doc_tfidf)\n",
    "    return predicted_cluster[0]\n",
    "\n",
    "# Test the clustering system with a new document\n",
    "new_document = \"The importance of The economy is showing signs of recovery.\"\n",
    "predicted_cluster_index = predict_cluster(new_document)\n",
    "print(f\"The new document belongs to cluster {predicted_cluster_index+1}\")\n"
   ]
  },
  {
   "cell_type": "code",
   "execution_count": null,
   "id": "f7b3c4bc-e12f-4c4b-b0fe-7f8c07772c69",
   "metadata": {},
   "outputs": [],
   "source": []
  }
 ],
 "metadata": {
  "kernelspec": {
   "display_name": "Python 3 (ipykernel)",
   "language": "python",
   "name": "python3"
  },
  "language_info": {
   "codemirror_mode": {
    "name": "ipython",
    "version": 3
   },
   "file_extension": ".py",
   "mimetype": "text/x-python",
   "name": "python",
   "nbconvert_exporter": "python",
   "pygments_lexer": "ipython3",
   "version": "3.11.5"
  }
 },
 "nbformat": 4,
 "nbformat_minor": 5
}
