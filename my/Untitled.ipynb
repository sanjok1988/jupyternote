{
 "cells": [
  {
   "cell_type": "code",
   "execution_count": 2,
   "id": "6648727f-cb07-4f0a-9397-966f3947da79",
   "metadata": {
    "tags": []
   },
   "outputs": [
    {
     "name": "stdout",
     "output_type": "stream",
     "text": [
      "Collecting pynput\n",
      "  Obtaining dependency information for pynput from https://files.pythonhosted.org/packages/02/27/4de87850ff87c8dcecaaf8d27f28cec89ef17eeb6938f250449cb2635e06/pynput-1.7.6-py2.py3-none-any.whl.metadata\n",
      "  Downloading pynput-1.7.6-py2.py3-none-any.whl.metadata (30 kB)\n",
      "Requirement already satisfied: six in /Users/sanjokdangol/anaconda3/lib/python3.11/site-packages (from pynput) (1.16.0)\n",
      "Collecting pyobjc-framework-ApplicationServices>=8.0 (from pynput)\n",
      "  Obtaining dependency information for pyobjc-framework-ApplicationServices>=8.0 from https://files.pythonhosted.org/packages/49/90/35e8476138534bdf9afb53c8d9de14da954a21a6b1a56ca30c004d3ef63c/pyobjc_framework_ApplicationServices-10.2-cp311-cp311-macosx_10_9_universal2.whl.metadata\n",
      "  Downloading pyobjc_framework_ApplicationServices-10.2-cp311-cp311-macosx_10_9_universal2.whl.metadata (2.5 kB)\n",
      "Collecting pyobjc-framework-Quartz>=8.0 (from pynput)\n",
      "  Obtaining dependency information for pyobjc-framework-Quartz>=8.0 from https://files.pythonhosted.org/packages/b2/74/a9ff599fd1c3af4cd1966e0bcedcd026cb35bac0283f228a99ea896bf324/pyobjc_framework_Quartz-10.2-cp311-cp311-macosx_10_9_universal2.whl.metadata\n",
      "  Downloading pyobjc_framework_Quartz-10.2-cp311-cp311-macosx_10_9_universal2.whl.metadata (3.3 kB)\n",
      "Collecting pyobjc-core>=10.2 (from pyobjc-framework-ApplicationServices>=8.0->pynput)\n",
      "  Obtaining dependency information for pyobjc-core>=10.2 from https://files.pythonhosted.org/packages/7b/82/4b1ea2ce365633fba89499fae6006eb5fd28368357d25630297df48d534a/pyobjc_core-10.2-cp311-cp311-macosx_10_9_universal2.whl.metadata\n",
      "  Downloading pyobjc_core-10.2-cp311-cp311-macosx_10_9_universal2.whl.metadata (2.5 kB)\n",
      "Collecting pyobjc-framework-Cocoa>=10.2 (from pyobjc-framework-ApplicationServices>=8.0->pynput)\n",
      "  Obtaining dependency information for pyobjc-framework-Cocoa>=10.2 from https://files.pythonhosted.org/packages/d4/cc/26fcd7b14a08257a938ddf6ce5a7055cc331943e14275ec1d8ffb53c673c/pyobjc_framework_Cocoa-10.2-cp311-cp311-macosx_10_9_universal2.whl.metadata\n",
      "  Downloading pyobjc_framework_Cocoa-10.2-cp311-cp311-macosx_10_9_universal2.whl.metadata (2.3 kB)\n",
      "Collecting pyobjc-framework-CoreText>=10.2 (from pyobjc-framework-ApplicationServices>=8.0->pynput)\n",
      "  Obtaining dependency information for pyobjc-framework-CoreText>=10.2 from https://files.pythonhosted.org/packages/81/7e/4ca1fc0c35dab6bcb5412a325eaa0876bb9757e9c2204104143e0d51a3b5/pyobjc_framework_CoreText-10.2-cp311-cp311-macosx_10_9_universal2.whl.metadata\n",
      "  Downloading pyobjc_framework_CoreText-10.2-cp311-cp311-macosx_10_9_universal2.whl.metadata (2.5 kB)\n",
      "Downloading pynput-1.7.6-py2.py3-none-any.whl (89 kB)\n",
      "\u001b[2K   \u001b[90m━━━━━━━━━━━━━━━━━━━━━━━━━━━━━━━━━━━━━━━━\u001b[0m \u001b[32m89.2/89.2 kB\u001b[0m \u001b[31m1.4 MB/s\u001b[0m eta \u001b[36m0:00:00\u001b[0ma \u001b[36m0:00:01\u001b[0m\n",
      "\u001b[?25hDownloading pyobjc_framework_ApplicationServices-10.2-cp311-cp311-macosx_10_9_universal2.whl (32 kB)\n",
      "Downloading pyobjc_framework_Quartz-10.2-cp311-cp311-macosx_10_9_universal2.whl (226 kB)\n",
      "\u001b[2K   \u001b[90m━━━━━━━━━━━━━━━━━━━━━━━━━━━━━━━━━━━━━━━━\u001b[0m \u001b[32m226.9/226.9 kB\u001b[0m \u001b[31m2.5 MB/s\u001b[0m eta \u001b[36m0:00:00\u001b[0ma \u001b[36m0:00:01\u001b[0m\n",
      "\u001b[?25hDownloading pyobjc_core-10.2-cp311-cp311-macosx_10_9_universal2.whl (749 kB)\n",
      "\u001b[2K   \u001b[90m━━━━━━━━━━━━━━━━━━━━━━━━━━━━━━━━━━━━━━━━\u001b[0m \u001b[32m749.7/749.7 kB\u001b[0m \u001b[31m7.3 MB/s\u001b[0m eta \u001b[36m0:00:00\u001b[0ma \u001b[36m0:00:01\u001b[0mm\n",
      "\u001b[?25hDownloading pyobjc_framework_Cocoa-10.2-cp311-cp311-macosx_10_9_universal2.whl (391 kB)\n",
      "\u001b[2K   \u001b[90m━━━━━━━━━━━━━━━━━━━━━━━━━━━━━━━━━━━━━━━━\u001b[0m \u001b[32m391.0/391.0 kB\u001b[0m \u001b[31m10.5 MB/s\u001b[0m eta \u001b[36m0:00:00\u001b[0m\n",
      "\u001b[?25hDownloading pyobjc_framework_CoreText-10.2-cp311-cp311-macosx_10_9_universal2.whl (31 kB)\n",
      "Installing collected packages: pyobjc-core, pyobjc-framework-Cocoa, pyobjc-framework-Quartz, pyobjc-framework-CoreText, pyobjc-framework-ApplicationServices, pynput\n",
      "  Attempting uninstall: pyobjc-core\n",
      "    Found existing installation: pyobjc-core 9.0\n",
      "    Uninstalling pyobjc-core-9.0:\n",
      "      Successfully uninstalled pyobjc-core-9.0\n",
      "  Attempting uninstall: pyobjc-framework-Cocoa\n",
      "    Found existing installation: pyobjc-framework-Cocoa 9.0\n",
      "    Uninstalling pyobjc-framework-Cocoa-9.0:\n",
      "      Successfully uninstalled pyobjc-framework-Cocoa-9.0\n",
      "Successfully installed pynput-1.7.6 pyobjc-core-10.2 pyobjc-framework-ApplicationServices-10.2 pyobjc-framework-Cocoa-10.2 pyobjc-framework-CoreText-10.2 pyobjc-framework-Quartz-10.2\n"
     ]
    }
   ],
   "source": [
    "!pip3 install pynput"
   ]
  },
  {
   "cell_type": "code",
   "execution_count": null,
   "id": "c7009144-11a0-4252-a19f-e235f0c5f2d3",
   "metadata": {
    "tags": []
   },
   "outputs": [
    {
     "name": "stderr",
     "output_type": "stream",
     "text": [
      "This process is not trusted! Input event monitoring will not be possible until it is added to accessibility clients.\n"
     ]
    }
   ],
   "source": [
    "import time\n",
    "import threading\n",
    "from pynput.mouse import Controller, Button\n",
    "from pynput.keyboard import Listener, KeyCode\n",
    "\n",
    "TOGGLE_KEY = KeyCode(char=\"t\")\n",
    "\n",
    "clicking = False\n",
    "mouse = Controller()\n",
    "\n",
    "def clicker():\n",
    "    while True:\n",
    "        if clicking:\n",
    "            mouse.click(Button.left, 1)\n",
    "        time.sleep(0.001)\n",
    "\n",
    "\n",
    "def toggle_event(key):\n",
    "    if key == TOGGLE_KEY:\n",
    "        global clicking\n",
    "        clicking = not clicking\n",
    "\n",
    "\n",
    "click_thread = threading.Thread(target=clicker)\n",
    "click_thread.start()\n",
    "\n",
    "with Listener(on_press=toggle_event) as listener:\n",
    "    listener.join()"
   ]
  },
  {
   "cell_type": "code",
   "execution_count": null,
   "id": "f2e5b31a-239c-4ec9-923b-12d4a811837a",
   "metadata": {},
   "outputs": [],
   "source": []
  }
 ],
 "metadata": {
  "kernelspec": {
   "display_name": "Python 3 (ipykernel)",
   "language": "python",
   "name": "python3"
  },
  "language_info": {
   "codemirror_mode": {
    "name": "ipython",
    "version": 3
   },
   "file_extension": ".py",
   "mimetype": "text/x-python",
   "name": "python",
   "nbconvert_exporter": "python",
   "pygments_lexer": "ipython3",
   "version": "3.11.5"
  }
 },
 "nbformat": 4,
 "nbformat_minor": 5
}
