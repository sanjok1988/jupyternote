{
 "cells": [
  {
   "cell_type": "code",
   "execution_count": 1,
   "id": "c3f590d0-6d1a-4117-b843-6e67c7c246c8",
   "metadata": {
    "tags": []
   },
   "outputs": [
    {
     "ename": "ImportError",
     "evalue": "cannot import name 'joblib' from 'sklearn.externals' (/Users/sanjokdangol/anaconda3/lib/python3.11/site-packages/sklearn/externals/__init__.py)",
     "output_type": "error",
     "traceback": [
      "\u001b[0;31m---------------------------------------------------------------------------\u001b[0m",
      "\u001b[0;31mImportError\u001b[0m                               Traceback (most recent call last)",
      "Cell \u001b[0;32mIn[1], line 3\u001b[0m\n\u001b[1;32m      1\u001b[0m \u001b[38;5;28;01mimport\u001b[39;00m \u001b[38;5;21;01mtkinter\u001b[39;00m \u001b[38;5;28;01mas\u001b[39;00m \u001b[38;5;21;01mtk\u001b[39;00m\n\u001b[1;32m      2\u001b[0m \u001b[38;5;28;01mfrom\u001b[39;00m \u001b[38;5;21;01mtkinter\u001b[39;00m\u001b[38;5;21;01m.\u001b[39;00m\u001b[38;5;21;01mscrolledtext\u001b[39;00m \u001b[38;5;28;01mimport\u001b[39;00m ScrolledText\n\u001b[0;32m----> 3\u001b[0m \u001b[38;5;28;01mfrom\u001b[39;00m \u001b[38;5;21;01msklearn\u001b[39;00m\u001b[38;5;21;01m.\u001b[39;00m\u001b[38;5;21;01mexternals\u001b[39;00m \u001b[38;5;28;01mimport\u001b[39;00m joblib\n\u001b[1;32m      5\u001b[0m \u001b[38;5;66;03m# Load your classifier\u001b[39;00m\n\u001b[1;32m      6\u001b[0m CLASSYfier \u001b[38;5;241m=\u001b[39m joblib\u001b[38;5;241m.\u001b[39mload(\u001b[38;5;124m'\u001b[39m\u001b[38;5;124myour_classifier_model.pkl\u001b[39m\u001b[38;5;124m'\u001b[39m)\n",
      "\u001b[0;31mImportError\u001b[0m: cannot import name 'joblib' from 'sklearn.externals' (/Users/sanjokdangol/anaconda3/lib/python3.11/site-packages/sklearn/externals/__init__.py)"
     ]
    }
   ],
   "source": [
    "import tkinter as tk\n",
    "from tkinter.scrolledtext import ScrolledText\n",
    "from sklearn.externals import joblib\n",
    "\n",
    "# Load your classifier\n",
    "CLASSYfier = joblib.load('your_classifier_model.pkl')\n",
    "\n",
    "def result(res, pr):\n",
    "    BUSINESS, HEALTH, SPORT = [round(p, 3) for p in pr[0]]\n",
    "    lines = [f\"Business: {BUSINESS}\", f\"Health: {HEALTH}\", f\"Sport: {SPORT}\"]\n",
    "    tk.messagebox.showinfo(message=f\"Predicted Category: {res.capitalize()}\\n\\n\\n\" + \"\\n\".join(lines))\n",
    "\n",
    "def clickMe():\n",
    "    input_text = text_box.get(\"1.0\", tk.END)\n",
    "    classification, probabilities = classify_text(input_text)\n",
    "    result(classification, probabilities)\n",
    "\n",
    "def classify_text(input_text):\n",
    "    out = CLASSYfier.predict([input_text])[0]\n",
    "    probs = CLASSYfier.predict_proba([input_text])\n",
    "    return out, probs\n",
    "\n",
    "window = tk.Tk()\n",
    "window.title(\"TEXT CLASSIFIER\")\n",
    "window.minsize(600, 400)\n",
    "\n",
    "text_box = ScrolledText(window)\n",
    "text_box.grid(column=0, row=1, padx=5, pady=5)\n",
    "\n",
    "label = tk.Label(window, text=\"Enter Text to be classified\")\n",
    "label.grid(column=0, row=0)\n",
    "\n",
    "btn = tk.Button(window, text=\"Classify\", command=clickMe)\n",
    "btn.grid(column=0, row=2)\n",
    "\n",
    "window.mainloop()\n"
   ]
  },
  {
   "cell_type": "code",
   "execution_count": null,
   "id": "0c2a2d36-0491-4e65-bd26-8f0fc3524ce7",
   "metadata": {},
   "outputs": [],
   "source": []
  }
 ],
 "metadata": {
  "kernelspec": {
   "display_name": "Python 3 (ipykernel)",
   "language": "python",
   "name": "python3"
  },
  "language_info": {
   "codemirror_mode": {
    "name": "ipython",
    "version": 3
   },
   "file_extension": ".py",
   "mimetype": "text/x-python",
   "name": "python",
   "nbconvert_exporter": "python",
   "pygments_lexer": "ipython3",
   "version": "3.11.5"
  }
 },
 "nbformat": 4,
 "nbformat_minor": 5
}
