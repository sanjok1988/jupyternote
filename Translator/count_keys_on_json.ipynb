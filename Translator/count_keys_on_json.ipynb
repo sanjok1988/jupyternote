{
 "cells": [
  {
   "cell_type": "code",
   "execution_count": 23,
   "id": "2d5b4c8f-6763-4362-a0fd-0350242c04c9",
   "metadata": {
    "tags": []
   },
   "outputs": [
    {
     "name": "stdout",
     "output_type": "stream",
     "text": [
      "Total number of keys in jp_with_ai_trans.json: 2520\n",
      "Total number of keys in en.json: 2520\n",
      "Total number of keys in final_jp_sorted.json: 2520\n",
      "Total number of keys in updated_jp_sorted.json: 444\n",
      "Total number of keys in jp_with_ai_translated_sorted.json: 2520\n",
      "Total number of keys in jp.json: 2180\n",
      "Total number of keys in vn.json: 2647\n",
      "Total number of keys in jp_sorted.json: 2180\n",
      "Total number of keys in final_vn_sorted.json: 2783\n",
      "Total number of keys in updated_vn_sorted.json: 249\n",
      "Total number of keys in en_sorted.json: 2520\n"
     ]
    }
   ],
   "source": [
    "import json\n",
    "import os\n",
    "\n",
    "def count_nested_keys(obj):\n",
    "    key_count = {}\n",
    "    \n",
    "    def traverse(obj):\n",
    "        if isinstance(obj, dict):\n",
    "            for key, value in obj.items():\n",
    "                if isinstance(value, dict) or isinstance(value, list):\n",
    "                    traverse(value)\n",
    "                key_count[key] = key_count.get(key, 0) + 1\n",
    "        elif isinstance(obj, list):\n",
    "            for item in obj:\n",
    "                traverse(item)\n",
    "    \n",
    "    traverse(obj)\n",
    "    return key_count\n",
    "\n",
    "def calculate_total_keys(obj):\n",
    "    key_count = count_nested_keys(obj)\n",
    "    total_keys = sum(key_count.values())\n",
    "    return total_keys\n",
    "\n",
    "def process_json_file(file_path):\n",
    "    with open(file_path, 'r') as file:\n",
    "        data = json.load(file)\n",
    "    total_keys = calculate_total_keys(data)\n",
    "    return total_keys\n",
    "\n",
    "# Directory containing the JSON files\n",
    "directory = '/Users/sanjokdangol/Projects/jupyternote/Translator/data/'\n",
    "\n",
    "# Iterate over all JSON files in the directory\n",
    "total_keys_per_file = {}\n",
    "for filename in os.listdir(directory):\n",
    "    if filename.endswith(\".json\"):\n",
    "        file_path = os.path.join(directory, filename)\n",
    "        total_keys_per_file[filename] = process_json_file(file_path)\n",
    "\n",
    "# Print the total number of keys for each file\n",
    "for filename, total_keys in total_keys_per_file.items():\n",
    "    print(f\"Total number of keys in {filename}: {total_keys}\")\n"
   ]
  },
  {
   "cell_type": "code",
   "execution_count": null,
   "id": "52d67964-89a9-461f-858d-70be692bc6f0",
   "metadata": {},
   "outputs": [],
   "source": []
  }
 ],
 "metadata": {
  "kernelspec": {
   "display_name": "Python 3 (ipykernel)",
   "language": "python",
   "name": "python3"
  },
  "language_info": {
   "codemirror_mode": {
    "name": "ipython",
    "version": 3
   },
   "file_extension": ".py",
   "mimetype": "text/x-python",
   "name": "python",
   "nbconvert_exporter": "python",
   "pygments_lexer": "ipython3",
   "version": "3.11.5"
  }
 },
 "nbformat": 4,
 "nbformat_minor": 5
}
