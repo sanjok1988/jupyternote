{
 "cells": [
  {
   "cell_type": "code",
   "execution_count": 21,
   "id": "7ec0cf0b-43b4-44f8-8b7c-7dd12c7fc4c3",
   "metadata": {
    "tags": []
   },
   "outputs": [],
   "source": [
    "import json\n",
    "from collections import OrderedDict\n",
    "\n",
    "def comp_sort(obj):\n",
    "    if isinstance(obj, dict):\n",
    "        sorted_obj = {}\n",
    "        for key in sorted(obj.keys()):\n",
    "            sorted_obj[key] = comp_sort(obj[key])\n",
    "        return sorted_obj\n",
    "    elif isinstance(obj, list):\n",
    "        return [comp_sort(item) for item in obj]\n",
    "    else:\n",
    "        return obj\n",
    "\n",
    "# Load the contents of the JSON file\n",
    "file_path = '/Users/sanjokdangol/Projects/gec/gec-frontend/src/libs/i18n/locales/en.json'\n",
    "with open(file_path, 'r') as file:\n",
    "    data = json.load(file)\n",
    "\n",
    "# Sort the contents of the JSON file alphabetically\n",
    "sorted_data = comp_sort(data)\n",
    "\n",
    "# Write the sorted data back to the file\n",
    "with open('/Users/sanjokdangol/Projects/jupyternote/Translator/data/en_gec_sorted.json', 'w', encoding='utf-8') as file:\n",
    "    json.dump(sorted_data, file, indent=4, ensure_ascii=False)\n"
   ]
  },
  {
   "cell_type": "code",
   "execution_count": null,
   "id": "3493630a-f15f-4514-aabc-b838f3d2c7b1",
   "metadata": {},
   "outputs": [],
   "source": []
  }
 ],
 "metadata": {
  "kernelspec": {
   "display_name": "Python 3 (ipykernel)",
   "language": "python",
   "name": "python3"
  },
  "language_info": {
   "codemirror_mode": {
    "name": "ipython",
    "version": 3
   },
   "file_extension": ".py",
   "mimetype": "text/x-python",
   "name": "python",
   "nbconvert_exporter": "python",
   "pygments_lexer": "ipython3",
   "version": "3.11.5"
  }
 },
 "nbformat": 4,
 "nbformat_minor": 5
}
