{
 "cells": [
  {
   "cell_type": "code",
   "execution_count": 7,
   "id": "6b05a995-1d6a-4194-bc00-83329f9b50c4",
   "metadata": {
    "tags": []
   },
   "outputs": [
    {
     "name": "stdout",
     "output_type": "stream",
     "text": [
      "Missing keys from file 2 have been written to: /Users/sanjokdangol/Projects/jupyternote/Translator/data/missed_suman.json\n"
     ]
    }
   ],
   "source": [
    "import json\n",
    "\n",
    "def find_missing_keys(file1_path, file2_path):\n",
    "    with open(file1_path, 'r') as file1:\n",
    "        data1 = json.load(file1)\n",
    "    with open(file2_path, 'r') as file2:\n",
    "        data2 = json.load(file2)\n",
    "    \n",
    "    missing_keys = {}\n",
    "    for key, value in data2.items():\n",
    "        if key not in data1:\n",
    "            missing_keys[key] = value\n",
    "    \n",
    "    return missing_keys\n",
    "\n",
    "def write_missing_keys(file1_path, file2_path, output_file_path):\n",
    "    missing_keys = find_missing_keys(file1_path, file2_path)\n",
    "    \n",
    "    with open(output_file_path, 'w', encoding='utf-8') as output_file:\n",
    "        json.dump(missing_keys, output_file, indent=4, ensure_ascii=False)\n",
    "\n",
    "# Paths to the JSON files\n",
    "file2_path = '/Users/sanjokdangol/Projects/jupyternote/Translator/data/suman.json'\n",
    "file1_path = '/Users/sanjokdangol/Projects/jupyternote/Translator/data/jp_sorted.json'\n",
    "output_file_path = '/Users/sanjokdangol/Projects/jupyternote/Translator/data/missed_suman.json'\n",
    "\n",
    "# Write the missing keys from file 2 into another JSON file\n",
    "write_missing_keys(file1_path, file2_path, output_file_path)\n",
    "\n",
    "# Print confirmation message\n",
    "print(f\"Missing keys from file 2 have been written to: {output_file_path}\")\n"
   ]
  },
  {
   "cell_type": "code",
   "execution_count": null,
   "id": "32f722b2-8106-47a2-87db-ca1365f71f9b",
   "metadata": {},
   "outputs": [],
   "source": []
  }
 ],
 "metadata": {
  "kernelspec": {
   "display_name": "Python 3 (ipykernel)",
   "language": "python",
   "name": "python3"
  },
  "language_info": {
   "codemirror_mode": {
    "name": "ipython",
    "version": 3
   },
   "file_extension": ".py",
   "mimetype": "text/x-python",
   "name": "python",
   "nbconvert_exporter": "python",
   "pygments_lexer": "ipython3",
   "version": "3.11.5"
  }
 },
 "nbformat": 4,
 "nbformat_minor": 5
}
