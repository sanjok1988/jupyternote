{
 "cells": [
  {
   "cell_type": "code",
   "execution_count": 6,
   "id": "a1bb7b76-73d1-4925-a536-384393cc192a",
   "metadata": {
    "tags": []
   },
   "outputs": [
    {
     "ename": "TypeError",
     "evalue": "expected string or bytes-like object, got 'dict'",
     "output_type": "error",
     "traceback": [
      "\u001b[0;31m---------------------------------------------------------------------------\u001b[0m",
      "\u001b[0;31mTypeError\u001b[0m                                 Traceback (most recent call last)",
      "Cell \u001b[0;32mIn[6], line 44\u001b[0m\n\u001b[1;32m     41\u001b[0m child_file_path \u001b[38;5;241m=\u001b[39m \u001b[38;5;124m'\u001b[39m\u001b[38;5;124mfix_it/old_vn.json\u001b[39m\u001b[38;5;124m'\u001b[39m\n\u001b[1;32m     42\u001b[0m output_file_path \u001b[38;5;241m=\u001b[39m \u001b[38;5;124m'\u001b[39m\u001b[38;5;124mfix_it/final.json\u001b[39m\u001b[38;5;124m'\u001b[39m\n\u001b[0;32m---> 44\u001b[0m merge_files(master_file_path, child_file_path, output_file_path)\n",
      "Cell \u001b[0;32mIn[6], line 28\u001b[0m, in \u001b[0;36mmerge_files\u001b[0;34m(master_file_path, child_file_path, output_file_path)\u001b[0m\n\u001b[1;32m     26\u001b[0m master_value \u001b[38;5;241m=\u001b[39m master_data[key]\n\u001b[1;32m     27\u001b[0m child_value \u001b[38;5;241m=\u001b[39m child_data[key]\n\u001b[0;32m---> 28\u001b[0m \u001b[38;5;28;01mif\u001b[39;00m is_vietnamese(master_value) \u001b[38;5;129;01mand\u001b[39;00m \u001b[38;5;129;01mnot\u001b[39;00m is_vietnamese(child_value):\n\u001b[1;32m     29\u001b[0m     child_data[key] \u001b[38;5;241m=\u001b[39m master_value\n\u001b[1;32m     30\u001b[0m     \u001b[38;5;28mprint\u001b[39m(\u001b[38;5;124mf\u001b[39m\u001b[38;5;124m\"\u001b[39m\u001b[38;5;124mReplaced value for key \u001b[39m\u001b[38;5;124m'\u001b[39m\u001b[38;5;132;01m{\u001b[39;00mkey\u001b[38;5;132;01m}\u001b[39;00m\u001b[38;5;124m'\u001b[39m\u001b[38;5;124m in child file with Vietnamese word: \u001b[39m\u001b[38;5;124m'\u001b[39m\u001b[38;5;132;01m{\u001b[39;00mmaster_value\u001b[38;5;132;01m}\u001b[39;00m\u001b[38;5;124m'\u001b[39m\u001b[38;5;124m\"\u001b[39m)\n",
      "Cell \u001b[0;32mIn[6], line 7\u001b[0m, in \u001b[0;36mis_vietnamese\u001b[0;34m(text)\u001b[0m\n\u001b[1;32m      6\u001b[0m \u001b[38;5;28;01mdef\u001b[39;00m \u001b[38;5;21mis_vietnamese\u001b[39m(text):\n\u001b[0;32m----> 7\u001b[0m     matches \u001b[38;5;241m=\u001b[39m re\u001b[38;5;241m.\u001b[39mfindall(vietnamese_pattern, text)\n\u001b[1;32m      8\u001b[0m     \u001b[38;5;28;01mreturn\u001b[39;00m \u001b[38;5;28mbool\u001b[39m(matches)\n",
      "File \u001b[0;32m~/anaconda3/lib/python3.11/re/__init__.py:216\u001b[0m, in \u001b[0;36mfindall\u001b[0;34m(pattern, string, flags)\u001b[0m\n\u001b[1;32m    208\u001b[0m \u001b[38;5;28;01mdef\u001b[39;00m \u001b[38;5;21mfindall\u001b[39m(pattern, string, flags\u001b[38;5;241m=\u001b[39m\u001b[38;5;241m0\u001b[39m):\n\u001b[1;32m    209\u001b[0m \u001b[38;5;250m    \u001b[39m\u001b[38;5;124;03m\"\"\"Return a list of all non-overlapping matches in the string.\u001b[39;00m\n\u001b[1;32m    210\u001b[0m \n\u001b[1;32m    211\u001b[0m \u001b[38;5;124;03m    If one or more capturing groups are present in the pattern, return\u001b[39;00m\n\u001b[0;32m   (...)\u001b[0m\n\u001b[1;32m    214\u001b[0m \n\u001b[1;32m    215\u001b[0m \u001b[38;5;124;03m    Empty matches are included in the result.\"\"\"\u001b[39;00m\n\u001b[0;32m--> 216\u001b[0m     \u001b[38;5;28;01mreturn\u001b[39;00m _compile(pattern, flags)\u001b[38;5;241m.\u001b[39mfindall(string)\n",
      "\u001b[0;31mTypeError\u001b[0m: expected string or bytes-like object, got 'dict'"
     ]
    }
   ],
   "source": [
    "import json\n",
    "import re\n",
    "\n",
    "vietnamese_pattern = r'\\b[a-zA-Z]*[àáảãạâầấẩẫậăằắẳẵặèéẻẽẹêềếểễệđìíỉĩịòóỏõọôồốổỗộơờớởỡợùúủũụưừứửữựỳýỷỹỵ]+\\b'\n",
    "\n",
    "def is_vietnamese(text):\n",
    "    matches = re.findall(vietnamese_pattern, text)\n",
    "    return bool(matches)\n",
    "\n",
    "def load_json(file_path):\n",
    "    with open(file_path, 'r', encoding='utf-8') as file:\n",
    "        return json.load(file)\n",
    "\n",
    "def save_json(data, file_path):\n",
    "    with open(file_path, 'w', encoding='utf-8') as file:\n",
    "        json.dump(data, file, indent=4, ensure_ascii=False)\n",
    "\n",
    "def merge_files(master_file_path, child_file_path, output_file_path):\n",
    "    master_data = load_json(master_file_path)\n",
    "    child_data = load_json(child_file_path)\n",
    "    \n",
    "    merged_data = {}\n",
    "\n",
    "    for key in master_data:\n",
    "        if key in child_data:\n",
    "            master_value = master_data[key]\n",
    "            child_value = child_data[key]\n",
    "            if is_vietnamese(master_value) and not is_vietnamese(child_value):\n",
    "                child_data[key] = master_value\n",
    "                print(f\"Replaced value for key '{key}' in child file with Vietnamese word: '{master_value}'\")\n",
    "        merged_data[key] = child_data.get(key, master_data[key])\n",
    "\n",
    "    for key in child_data:\n",
    "        if key not in master_data:\n",
    "            merged_data[key] = child_data[key]\n",
    "\n",
    "    save_json(merged_data, output_file_path)\n",
    "\n",
    "# Example usage:\n",
    "master_file_path = 'fix_it/vn.json'\n",
    "child_file_path = 'fix_it/old_vn.json'\n",
    "output_file_path = 'fix_it/final.json'\n",
    "\n",
    "merge_files(master_file_path, child_file_path, output_file_path)\n"
   ]
  },
  {
   "cell_type": "code",
   "execution_count": null,
   "id": "1e6c121f-d5d3-496f-a59a-d516b7f19612",
   "metadata": {},
   "outputs": [],
   "source": []
  },
  {
   "cell_type": "code",
   "execution_count": null,
   "id": "27225af0-6d24-4a1f-8a9e-ee6116c6dcb0",
   "metadata": {},
   "outputs": [],
   "source": []
  }
 ],
 "metadata": {
  "kernelspec": {
   "display_name": "Python 3 (ipykernel)",
   "language": "python",
   "name": "python3"
  },
  "language_info": {
   "codemirror_mode": {
    "name": "ipython",
    "version": 3
   },
   "file_extension": ".py",
   "mimetype": "text/x-python",
   "name": "python",
   "nbconvert_exporter": "python",
   "pygments_lexer": "ipython3",
   "version": "3.11.5"
  }
 },
 "nbformat": 4,
 "nbformat_minor": 5
}
