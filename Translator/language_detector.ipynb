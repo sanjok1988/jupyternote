{
 "cells": [
  {
   "cell_type": "code",
   "execution_count": 37,
   "id": "2b072b63-a460-445f-8d7f-add326802404",
   "metadata": {
    "tags": []
   },
   "outputs": [
    {
     "name": "stdout",
     "output_type": "stream",
     "text": [
      "['Add New', 'Add Points', 'Blog', 'Breadcrumb', 'Carousel', 'Chartjs', 'Date Created:', 'Dashboard', 'echart', 'Email', 'FAQ', 'I18n', 'Popover', 'Radio', 'Swiper', 'Tab', 'Email', 'Add Subject', 'Email', 'Chung', 'Logo', 'Xem', 'Add Assets', 'Copy ID', 'Copy Path', 'Delete Assets', 'Edit Assets', 'ID', 'path', 'Search Assets', 'Upload Assets', 'Vibes can be received when a teacher or a student sends you vibes.', 'Vibes can be sent from chat.', 'Vibes can be sent from student lab.', 'Click here', 's in this classroom yet.', 'received no', 'Points can be received by completing the lessons', 'Send Vibes from Chat', 'Send Vibes from Student Lab', 'Step', 'In the chat, click on the smileys icon.', 'Then, click on the vibes icon to view the available vibes.', 'Click on any vibes you would like to send.', 'In the student lab, click on the name of the student whom you want to send vibes.', 'A box will appear with available vibes. Click on any vibes that you would like to send to the particular person.', 'In student lab, vibes can only be sent to the students who have scored the highest points (highest point gainer) or have completed the lesson first (first lesson achiever) or have completed the most lessons in the class (most lesson achiever).', 'Once you meet the threshold of {threshold} points, those points will be automatically converted into coins. Complete the lessons to receive more points and more coins.', 'to know more about the badges and how to receive them.', 'Badges can be received in various ways.', 's yet.', 'You Have', 'All', 'Clone Template', 'Delete Template', 'Filters', 'Follow-up', 'Instructions', 'Isolate Template', 'Non-sequence', 'Schedule Type', 'Sequenced', 'Unlockable sequenced', 'Add Event', 'Clone Template', 'Isolate Template', 'School', 'Co-teachers', 'End Date', 'End Time', 'Calendar', 'Highest Points', 'List of Classrooms', 'Reports', 'Start Date', 'Start Time', 'Cond', 'Teachers', 'Unlockable Sequenced', 'All Courses', 'Completed', 'In Progress', 'Permission', 'Please select a Domain', 'Please select grades', 'Please select a Standard', 'Please select subjects', 'Publish', 'Sample', 'action', 'Default Engine', 'PDF', 'Image', 'Is Public', 'Lesson name', 'Upload Excel File (supported xlsx,xls)', 'Action', 'All Libraries', 'Download Sample', 'Four-level', 'Listening', 'Listening', 'Name', 'Reading', 'Speaking', 'Writing', 'Mismatched Problems', 'Name', 'Normal Lesson', 'Ok', 'Queue Explorer', 'Reading', 'Show Mismatched Problems', 'Speaking', 'Writing', 'Trang', 'Email', '3D Themes', 'Mua', 'Mua ngay', 'Companion Avatar', 'Select Theme', 'Turn On Theme', 'Turn On Alarm System', 'Essay Builder', 'Chung', 'Video', 'Xem Video', 'Hide', 'Assets Management', 'Batch Upload', 'Copy ID', 'Description', 'Error Retry Sync', 'Language Translate', 'Pick', 'Regenerate Image', 'Search Image', 'Select Language', 'Sync For Wordnet', 'synchronizing', 'Please provide the text you want to translate into Japanese.', 'Translate', 'Nghe', 'comment', 'Giao cho', 'Assign To', 'DDF', 'Custom Article', 'Default Article', 'Description', 'Your description here...', 'Featured', 'Image', 'Title', 'Video', 'Problem Theme', 'http://example.com/', 'URL Video', 'Global Language Level', 'Lesson Done', 'Lessons Done', 'Ongoing', 'PDF', 'Score', 'Show Details', 'Study Days This Month', 'Type to Search', 'Upcoming', 'Video', 'URL Video', 'Nghe', 'Queue Explorer', 'Trang', 'Add School User', 'Description', 'Error Report', 'more', 'Logo', 'URL', 'Confirmation', 'Email', 'Animated Items Marketplace', 'Calendar', 'Change Password', 'Classes', 'Diary', 'Engagements', 'Engagement Settings', 'General Settings', 'Logout', 'My Animated Items', 'Profile', 'Scorm', 'Users', 'khu', 'Email', 'Logo', 'Title: Instructions for sending an email\\nHello,\\n\\nThis email was sent in Japanese. We wanted to get in touch with you. Please reply. \\n\\nThank you. \\n\\n[Your name]', 'Slogan', 'FIB Dropdown', 'Comment', 'Comments', 'Sorry, no rating available.', 'Rate', 'Rate Course', 'Rate Teacher', 'Show All Ratings', 'Show All Ratings', 'Export and Import', 'Hide Chart', 'Show Chart', 'Search User', 'Camera', 'By Selecting this, shool will have control over to show or hide Chat Icon', 'Chat Icon', 'By Selecting this, shool will have control over to show or hide Create Class option in student', 'Create Class for Students', 'By Selecting this, shool will have control over to show or hide E-Book', 'E-Book', 'Allow students to report issues in the student lab.', 'Report Issue by Students', 'Hidden by District', 'By Selecting this, shool will have control over to show or hide PDF', 'PDF', 'By Selecting this, shool will have control over to show or hide number of student in classroom', 'Show the number of students', 'Show', 'spinner', 'Actual', 'Class Test', 'Expected', '% Complete', '% Complete', 'Rubric Title', 'Xem', 'After your request is accepted by the teacher, a \"Practice\" button will appear on this lesson. Then you can practice multiple times.', 'Hi teacher!', 'ID', 'Xem video', 'Can we have more practice for this lesson?', 'Page Link', 'It would really help me understand it better. Thanks!', 'E-Book', 'Notes', 'Academic', 'Philanthropic', 'Add Article', 'Certificate', 'Active Classrooms', 'Completed', 'Course Completed', 'Course Name', 'List of Classrooms', 'Rate Course', 'Rate Teacher', 'Continue', 'Follow up', 'Total', 'Return to Class List', 'DEP', 'POS', 'Email', 'Khu', 'Classroom Assignment', 'No Lessons Assigned Today - See Your Calendar', 'Statistics']\n",
      "\n",
      "\n",
      "Total english words:  267\n"
     ]
    }
   ],
   "source": [
    "import json\n",
    "import re\n",
    "import csv\n",
    "\n",
    "japanese_pattern = r'\\b[\\u3040-\\u309F\\u30A0-\\u30FF\\u4E00-\\u9FFF]+\\b'\n",
    "vietnamese_pattern = r'\\b[a-zA-Z]*[àáảãạâầấẩẫậăằắẳẵặèéẻẽẹêềếểễệđìíỉĩịòóỏõọôồốổỗộơờớởỡợùúủũụưừứửữựỳýỷỹỵ]+\\b'\n",
    "english_pattern = r'\\b[a-zA-Z]+\\b'\n",
    "\n",
    "\n",
    "def detect_vietnamese(text):\n",
    "    matches = re.findall(english_pattern, text)\n",
    "    return matches\n",
    "\n",
    "def detect_word_in_json(obj):\n",
    "    vietnamese_words = []\n",
    "    if isinstance(obj, dict):\n",
    "        for key, value in obj.items():\n",
    "            vietnamese_words.extend(detect_vietnamese_in_json(value))\n",
    "    elif isinstance(obj, list):\n",
    "        for item in obj:\n",
    "            vietnamese_words.extend(detect_vietnamese_in_json(item))\n",
    "    elif isinstance(obj, str):\n",
    "        vietnamese_words.extend(detect_vietnamese(obj))\n",
    "    return vietnamese_words\n",
    "\n",
    "def extract_values_from_json(obj):\n",
    "    values = []\n",
    "    if isinstance(obj, dict):\n",
    "        for value in obj.values():\n",
    "            values.extend(extract_values_from_json(value))\n",
    "    elif isinstance(obj, list):\n",
    "        for item in obj:\n",
    "            values.extend(extract_values_from_json(item))\n",
    "    elif isinstance(obj, str):\n",
    "        if obj.isascii():  # Check if the string contains only ASCII characters (indicating it's English)\n",
    "            values.append(obj.strip())  # Add the English value to the list\n",
    "    return values\n",
    "\n",
    "\n",
    "# Read JSON file\n",
    "# file_path = 'translated_json/en.json.json'  # Replace 'your_file_path.json' with the actual file path\n",
    "file_path='/Users/sanjokdangol/Projects/gec/gec-frontend/src/libs/i18n/locales/vn.json'\n",
    "with open(file_path, 'r', encoding='utf-8') as file:\n",
    "    json_data = json.load(file)\n",
    "\n",
    "# Detect Vietnamese words in JSON data\n",
    "# vietnamese_words = detect_vietnamese_in_json(json_data)\n",
    "vietnamese_words = extract_values_from_json(json_data)\n",
    "print(vietnamese_words)\n",
    "\n",
    "# Write detected Vietnamese words to CSV\n",
    "output_file_path = 'output/detected_eng_in_vietnameses.csv'\n",
    "with open(output_file_path, 'w', newline='', encoding='utf-8') as csvfile:\n",
    "    csv_writer = csv.writer(csvfile)\n",
    "    for word in vietnamese_words:\n",
    "        csv_writer.writerow([word])\n",
    "\n",
    "print(\"\\n\\nTotal english words: \",len(vietnamese_words))"
   ]
  },
  {
   "cell_type": "code",
   "execution_count": null,
   "id": "eefd8cb5-3516-47d8-a1fe-783cb8081652",
   "metadata": {},
   "outputs": [],
   "source": []
  },
  {
   "cell_type": "code",
   "execution_count": null,
   "id": "a3276212-4d22-4a7a-b423-7508c5402908",
   "metadata": {},
   "outputs": [],
   "source": []
  }
 ],
 "metadata": {
  "kernelspec": {
   "display_name": "Python 3 (ipykernel)",
   "language": "python",
   "name": "python3"
  },
  "language_info": {
   "codemirror_mode": {
    "name": "ipython",
    "version": 3
   },
   "file_extension": ".py",
   "mimetype": "text/x-python",
   "name": "python",
   "nbconvert_exporter": "python",
   "pygments_lexer": "ipython3",
   "version": "3.11.5"
  }
 },
 "nbformat": 4,
 "nbformat_minor": 5
}
