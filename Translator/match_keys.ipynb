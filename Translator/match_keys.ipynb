{
 "cells": [
  {
   "cell_type": "code",
   "execution_count": 10,
   "id": "23c99751-86f7-4aaa-8725-5098779fd30f",
   "metadata": {
    "tags": []
   },
   "outputs": [
    {
     "name": "stdout",
     "output_type": "stream",
     "text": [
      "                     key\n",
      "0         Access Control\n",
      "1       Account Settings\n",
      "2                    Add\n",
      "3                Add-New\n",
      "4             Add-Points\n",
      "...                  ...\n",
      "2495            view-all\n",
      "2496  view-all-classroom\n",
      "2497             welcome\n",
      "2498                year\n",
      "2499                 you\n",
      "\n",
      "[2500 rows x 1 columns]\n"
     ]
    }
   ],
   "source": [
    "import pandas as pd\n",
    "import json\n",
    "\n",
    "# Read the master JSON file\n",
    "with open('translated_json/en.json.json', 'r', encoding='utf-8') as f:\n",
    "    data = json.load(f)\n",
    "\n",
    "# Function to extract keys from nested JSON\n",
    "def extract_keys(json_data, parent_key=''):\n",
    "    keys = []\n",
    "    for key, value in json_data.items():\n",
    "        new_key = parent_key + '.' + key if parent_key else key\n",
    "        if isinstance(value, dict):\n",
    "            keys.extend(extract_keys(value, new_key))\n",
    "        else:\n",
    "            keys.append(new_key)\n",
    "    return keys\n",
    "\n",
    "# Extract keys from the nested JSON\n",
    "master_keys = extract_keys(data)\n",
    "\n",
    "# Convert the list of keys to a DataFrame\n",
    "df_master = pd.DataFrame(master_keys, columns=['key'])\n",
    "print(df_master)"
   ]
  },
  {
   "cell_type": "code",
   "execution_count": 11,
   "id": "a6da3249-bfc3-4ce6-8d53-9642365a0a6d",
   "metadata": {
    "tags": []
   },
   "outputs": [
    {
     "data": {
      "text/html": [
       "<div>\n",
       "<style scoped>\n",
       "    .dataframe tbody tr th:only-of-type {\n",
       "        vertical-align: middle;\n",
       "    }\n",
       "\n",
       "    .dataframe tbody tr th {\n",
       "        vertical-align: top;\n",
       "    }\n",
       "\n",
       "    .dataframe thead th {\n",
       "        text-align: right;\n",
       "    }\n",
       "</style>\n",
       "<table border=\"1\" class=\"dataframe\">\n",
       "  <thead>\n",
       "    <tr style=\"text-align: right;\">\n",
       "      <th></th>\n",
       "      <th>Key</th>\n",
       "    </tr>\n",
       "  </thead>\n",
       "  <tbody>\n",
       "    <tr>\n",
       "      <th>0</th>\n",
       "      <td>welcome</td>\n",
       "    </tr>\n",
       "    <tr>\n",
       "      <th>1</th>\n",
       "      <td>please sign-in</td>\n",
       "    </tr>\n",
       "    <tr>\n",
       "      <th>2</th>\n",
       "      <td>en</td>\n",
       "    </tr>\n",
       "    <tr>\n",
       "      <th>3</th>\n",
       "      <td>email-phone</td>\n",
       "    </tr>\n",
       "    <tr>\n",
       "      <th>4</th>\n",
       "      <td>password</td>\n",
       "    </tr>\n",
       "  </tbody>\n",
       "</table>\n",
       "</div>"
      ],
      "text/plain": [
       "              Key\n",
       "0         welcome\n",
       "1  please sign-in\n",
       "2              en\n",
       "3     email-phone\n",
       "4        password"
      ]
     },
     "execution_count": 11,
     "metadata": {},
     "output_type": "execute_result"
    }
   ],
   "source": [
    "df = pd.read_csv('data/keys.csv')\n",
    "# Remove empty cells\n",
    "df = df.dropna(axis=0, how='all').dropna(axis=1, how='all')\n",
    "df.head()"
   ]
  },
  {
   "cell_type": "code",
   "execution_count": 13,
   "id": "e50c611a-f303-4d00-8134-bcd639209e9f",
   "metadata": {
    "tags": []
   },
   "outputs": [
    {
     "name": "stdout",
     "output_type": "stream",
     "text": [
      "Missing Keys:\n",
      "                 Key\n",
      "0            welcome\n",
      "1     please sign-in\n",
      "2                 en\n",
      "3        email-phone\n",
      "4           password\n",
      "...              ...\n",
      "1625           key49\n",
      "1626           key50\n",
      "1627           key51\n",
      "1628        standard\n",
      "1629            code\n",
      "\n",
      "[1630 rows x 1 columns]\n"
     ]
    }
   ],
   "source": [
    "# Compare the keys\n",
    "missing_keys = df[~df.isin(df_master)]\n",
    "\n",
    "# Display missing keys\n",
    "print(\"Missing Keys:\")\n",
    "print(missing_keys)"
   ]
  },
  {
   "cell_type": "code",
   "execution_count": null,
   "id": "36317ddf-d6a2-4181-bf62-533b1dc42842",
   "metadata": {},
   "outputs": [],
   "source": []
  }
 ],
 "metadata": {
  "kernelspec": {
   "display_name": "Python 3 (ipykernel)",
   "language": "python",
   "name": "python3"
  },
  "language_info": {
   "codemirror_mode": {
    "name": "ipython",
    "version": 3
   },
   "file_extension": ".py",
   "mimetype": "text/x-python",
   "name": "python",
   "nbconvert_exporter": "python",
   "pygments_lexer": "ipython3",
   "version": "3.11.5"
  }
 },
 "nbformat": 4,
 "nbformat_minor": 5
}
