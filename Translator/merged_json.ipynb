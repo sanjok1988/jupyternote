{
 "cells": [
  {
   "cell_type": "code",
   "execution_count": 2,
   "id": "431687ec-c157-46e3-888b-96eb85851f83",
   "metadata": {
    "tags": []
   },
   "outputs": [],
   "source": [
    "import json\n",
    "\n",
    "def compare_json_files(file1_path, file2_path):\n",
    "    with open(file1_path, 'r') as file1:\n",
    "        data1 = json.load(file1)\n",
    "    with open(file2_path, 'r') as file2:\n",
    "        data2 = json.load(file2)\n",
    "    \n",
    "    # Find keys present in file1 but not in file2\n",
    "    keys_only_in_file1 = set(data1.keys()) - set(data2.keys())\n",
    "    \n",
    "    # Find keys present in file2 but not in file1\n",
    "    keys_only_in_file2 = set(data2.keys()) - set(data1.keys())\n",
    "    \n",
    "    # Find keys present in both files but with different values\n",
    "    different_values = {}\n",
    "    for key in set(data1.keys()) & set(data2.keys()):\n",
    "        if data1[key] != data2[key]:\n",
    "            different_values[key] = (data1[key], data2[key])\n",
    "    \n",
    "    return keys_only_in_file1, keys_only_in_file2, different_values\n",
    "\n",
    "def merge_json_files(file1_path, file2_path, output_file_path):\n",
    "    with open(file1_path, 'r') as file1:\n",
    "        data1 = json.load(file1)\n",
    "    with open(file2_path, 'r') as file2:\n",
    "        data2 = json.load(file2)\n",
    "    \n",
    "    # Compare the two JSON files\n",
    "    keys_only_in_file1, keys_only_in_file2, different_values = compare_json_files(file1_path, file2_path)\n",
    "    \n",
    "    # Merge the two JSON files\n",
    "    merged_data = {**data1, **data2}\n",
    "    \n",
    "    # Add the differences as a separate key in the merged data\n",
    "    merged_data['_differences'] = {\n",
    "        'keys_only_in_file1': list(keys_only_in_file1),\n",
    "        'keys_only_in_file2': list(keys_only_in_file2),\n",
    "        'different_values': different_values\n",
    "    }\n",
    "    \n",
    "    # Write the merged data into another JSON file\n",
    "    with open(output_file_path, 'w', encoding='utf-8') as output_file:\n",
    "        json.dump(merged_data, output_file, indent=4, ensure_ascii=False)\n",
    "\n",
    "# Paths to the JSON files\n",
    "file1_path = '/Users/sanjokdangol/Projects/jupyternote/Translator/data/en_sorted.json'\n",
    "file2_path = '/Users/sanjokdangol/Projects/jupyternote/Translator/data/jp_sorted.json'\n",
    "output_file_path = '/Users/sanjokdangol/Projects/jupyternote/Translator/data/merged.json'\n",
    "\n",
    "# Merge the two JSON files and write the result into another JSON file\n",
    "merge_json_files(file1_path, file2_path, output_file_path)\n"
   ]
  },
  {
   "cell_type": "code",
   "execution_count": null,
   "id": "e0407b27-3f37-4b9d-ba8b-555b99e707dc",
   "metadata": {},
   "outputs": [],
   "source": []
  }
 ],
 "metadata": {
  "kernelspec": {
   "display_name": "Python 3 (ipykernel)",
   "language": "python",
   "name": "python3"
  },
  "language_info": {
   "codemirror_mode": {
    "name": "ipython",
    "version": 3
   },
   "file_extension": ".py",
   "mimetype": "text/x-python",
   "name": "python",
   "nbconvert_exporter": "python",
   "pygments_lexer": "ipython3",
   "version": "3.11.5"
  }
 },
 "nbformat": 4,
 "nbformat_minor": 5
}
