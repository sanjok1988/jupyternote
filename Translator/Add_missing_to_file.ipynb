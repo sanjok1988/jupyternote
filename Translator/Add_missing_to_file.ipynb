{
 "cells": [
  {
   "cell_type": "markdown",
   "id": "84f68905-921e-4ce6-9a61-4644f2792c90",
   "metadata": {},
   "source": [
    "# Compare Two json file and add missing keys to next json. user this method to get updated json file for localization in GEC"
   ]
  },
  {
   "cell_type": "code",
   "execution_count": 3,
   "id": "fc363897-67f7-4648-af0c-af5a21159459",
   "metadata": {
    "tags": []
   },
   "outputs": [],
   "source": [
    "import json\n",
    "from collections import OrderedDict\n",
    "import os\n",
    "\n",
    "def merge_dicts(d1, d2):\n",
    "    result = {}\n",
    "    for key in d1.keys() | d2.keys():\n",
    "        if key in d1 and key in d2:\n",
    "            if isinstance(d1[key], dict) and isinstance(d2[key], dict):\n",
    "                result[key] = merge_dicts(d1[key], d2[key])\n",
    "            else:\n",
    "                result[key] = d2[key]\n",
    "        elif key in d1:\n",
    "            result[key] = d1[key]\n",
    "        else:\n",
    "            result[key] = d2[key]\n",
    "    return result\n",
    "\n",
    "def find_missing_keys(d1, d2):\n",
    "    missing_keys = {}\n",
    "    for key, value in d2.items():\n",
    "        if isinstance(value, dict):\n",
    "            # Recursively find missing keys in nested dictionaries\n",
    "            missing_keys[key] = find_missing_keys(d1.setdefault(key, {}), value)\n",
    "        elif key not in d1:\n",
    "            # Add missing key to the dictionary with value of null\n",
    "            # translated = translate_to(value, 'japanese')\n",
    "            translated = value\n",
    "            d1[key] = translated\n",
    "            missing_keys[key] = translated\n",
    "    return missing_keys\n",
    "\n",
    "def write_missing_keys(file1_path, file2_path, output_file_path):\n",
    "    with open(file1_path, 'r', encoding='utf-8') as file1:\n",
    "        d1 = json.load(file1)\n",
    "    with open(file2_path, 'r', encoding='utf-8') as file2:\n",
    "        d2 = json.load(file2)\n",
    "    \n",
    "    missing_keys = find_missing_keys(d1, d2)\n",
    "    \n",
    "    with open(output_file_path, 'w', encoding='utf-8') as output_file:\n",
    "        json.dump(missing_keys, output_file, indent=4, ensure_ascii=False)\n",
    "\n",
    "\n",
    "def sort_json(obj):\n",
    "    if isinstance(obj, dict):\n",
    "        return OrderedDict(sorted((k, sort_json(v)) for k, v in obj.items()))\n",
    "    if isinstance(obj, list):\n",
    "        return sorted(sort_json(x) for x in obj)\n",
    "    elif obj is not None:  # Add this condition to handle None values\n",
    "        return obj\n",
    "    else:\n",
    "        return \"\"\n",
    "\n",
    "def merge_and_sort(file1_path, missing_file_path, output_file_path):\n",
    "    with open(file1_path, 'r', encoding='utf-8') as file1:\n",
    "        data1 = json.load(file1)\n",
    "\n",
    "    with open(missing_file_path, 'r', encoding='utf-8') as missing_file:\n",
    "        missing_data = json.load(missing_file)\n",
    "    \n",
    "    merged_data = merge_dicts(data1, missing_data)\n",
    "    sorted_data = sort_json(merged_data)\n",
    "    \n",
    "    with open(output_file_path, 'w', encoding='utf-8') as output_file:\n",
    "        json.dump(sorted_data, output_file, indent=4, ensure_ascii=False)\n",
    "        "
   ]
  },
  {
   "cell_type": "code",
   "execution_count": 10,
   "id": "ad591a98-fe16-479a-9ed6-bec6b66f236b",
   "metadata": {
    "tags": []
   },
   "outputs": [
    {
     "name": "stdout",
     "output_type": "stream",
     "text": [
      "Missing keys from file 2 have been merged and sorted into: /Users/sanjokdangol/Projects/jupyternote/Translator/translated_json/vn.json.json\n"
     ]
    }
   ],
   "source": [
    "# Paths to the JSON files\n",
    "# add missing keys from file 1 to file 2\n",
    "file1_path = '/Users/sanjokdangol/Projects/gec/gec-frontend/src/libs/i18n/locales/vn.json'\n",
    "file2_path = '/Users/sanjokdangol/Projects/gec/gec-frontend/src/libs/i18n/locales/en.json'\n",
    "\n",
    "filename = os.path.basename(file1_path)\n",
    "\n",
    "output_file_path = '/Users/sanjokdangol/Projects/jupyternote/Translator/translated_json/'+filename+'.json'\n",
    "final_output_file_path = '/Users/sanjokdangol/Projects/jupyternote/Translator/translated_json/'+filename+'.json'\n",
    "\n",
    "\n",
    "# Write the missing keys from file 2 into a new file\n",
    "write_missing_keys(file1_path, file2_path, output_file_path)\n",
    "merge_and_sort(file1_path, output_file_path, final_output_file_path)\n",
    "\n",
    "# Print confirmation message\n",
    "print(f\"Missing keys from file 2 have been merged and sorted into: {final_output_file_path}\")\n"
   ]
  },
  {
   "cell_type": "code",
   "execution_count": null,
   "id": "53b993e0-c5f2-4025-b675-9b32cb2078d0",
   "metadata": {},
   "outputs": [],
   "source": []
  },
  {
   "cell_type": "code",
   "execution_count": null,
   "id": "9f5b56f5-ec86-4598-84d1-053875b6940a",
   "metadata": {},
   "outputs": [],
   "source": []
  }
 ],
 "metadata": {
  "kernelspec": {
   "display_name": "Python 3 (ipykernel)",
   "language": "python",
   "name": "python3"
  },
  "language_info": {
   "codemirror_mode": {
    "name": "ipython",
    "version": 3
   },
   "file_extension": ".py",
   "mimetype": "text/x-python",
   "name": "python",
   "nbconvert_exporter": "python",
   "pygments_lexer": "ipython3",
   "version": "3.11.5"
  }
 },
 "nbformat": 4,
 "nbformat_minor": 5
}
