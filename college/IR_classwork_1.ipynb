{
 "cells": [
  {
   "cell_type": "code",
   "execution_count": 2,
   "id": "47f5cbc0-c2f4-451d-8560-f52bf5381318",
   "metadata": {},
   "outputs": [],
   "source": [
    "# Crawler Example"
   ]
  },
  {
   "cell_type": "code",
   "execution_count": 3,
   "id": "fcf62a88-af41-408d-b212-475a91c9addd",
   "metadata": {},
   "outputs": [
    {
     "name": "stdout",
     "output_type": "stream",
     "text": [
      "Requirement already satisfied: beautifulsoup4 in /Users/sanjokdangol/anaconda3/lib/python3.11/site-packages (4.12.2)\n",
      "Requirement already satisfied: soupsieve>1.2 in /Users/sanjokdangol/anaconda3/lib/python3.11/site-packages (from beautifulsoup4) (2.4)\n"
     ]
    }
   ],
   "source": [
    "!pip3 install beautifulsoup4\n",
    "\n",
    "import requests\n",
    "from bs4 import BeautifulSoup\n",
    "import csv"
   ]
  },
  {
   "cell_type": "code",
   "execution_count": 4,
   "id": "431ea1b2-c3bd-4871-a817-b2cd54e34441",
   "metadata": {},
   "outputs": [
    {
     "name": "stdout",
     "output_type": "stream",
     "text": [
      "<Response [200]>\n"
     ]
    }
   ],
   "source": [
    "url=\"https://pureportal.coventry.ac.uk/en/organisations/ihw-centre-for-health-and-life-sciences-chls/publications/\"\n",
    "output_file = \"output.csv\"\n",
    "response = requests.get(url)\n",
    "print(response)"
   ]
  },
  {
   "cell_type": "code",
   "execution_count": 5,
   "id": "dbd02c29-1045-4abd-9e74-b580de473ff1",
   "metadata": {},
   "outputs": [
    {
     "name": "stdout",
     "output_type": "stream",
     "text": [
      "Barriers and Facilitators to Participation and Key Components of Sleep Health Programs: perspectives for the corporate work environment\n",
      "Authors: ['Roden, L.']\n",
      "Publication Year: 1 Jan 2024\n",
      "Human gut microbiota and endocrinology: paradigm shift from genome to its regulation\n",
      "Authors: ['Turner, M. C.', 'Morozov, I.']\n",
      "Publication Year: 22 Jan 2024\n",
      "SGABU computational platform for multiscale modeling: Bridging the gap between education and research\n",
      "Authors: ['Jakovljević, D.']\n",
      "Publication Year: 1 Jan 2024\n",
      "A Comparative Study of FLL and PLL in Boost PFC Converter Control for Smart Greenhouse Farming Application\n",
      "Authors: ['Pay, M. L.', 'Christensen, J.', 'He, F.', 'Roden, L. C.']\n",
      "Publication Year: 28 Sept 2023\n",
      "A comprehensive review of bioleaching optimization by statistical approaches: recycling mechanisms, factors affecting, challenges, and sustainability\n",
      "Authors: ['Farnaud, S.']\n",
      "Publication Year: 7 Aug 2023\n",
      "Age-Related Differences in Trunk Kinematics and Interplanar Decoupling with the Pelvis during Gait in Healthy Older versus Younger Men\n",
      "Authors: ['Duncan, M.', 'Tallis, J.', 'Renshaw, D.']\n",
      "Publication Year: 18 Apr 2023\n",
      "Application of non‐invasive bioreactance to assess hemodynamic function in patients with hypertrophic cardiomyopathy\n",
      "Authors: ['Okwose, N. C.', 'Jakovljevic, D. G.']\n",
      "Publication Year: 18 Jun 2023\n",
      "Associations between the Gut Microbiome and Metabolic, Inflammatory and Appetitive Effects of Sleeve Gastrectomy\n",
      "Authors: ['Renshaw, D.', 'Farnaud, S.', 'Turner, M.']\n",
      "Publication Year: Sept 2023\n",
      "Behavioural and physiological indicators of anxiety reflect shared and distinct profiles across individuals with neurogenetic syndromes\n",
      "Authors: ['Renshaw, D.']\n",
      "Publication Year: Aug 2023\n",
      "Big Data in multiscale modelling: from medical image processing to personalized models\n",
      "Authors: ['Jakovljević, D.']\n",
      "Publication Year: 22 May 2023\n",
      "CellShip®: an ambient temperature transport and short-term storage medium for mammalian cell cultures\n",
      "Authors: ['Turner, M.', 'Renshaw, D.', 'Farnaud, S.']\n",
      "Publication Year: 28 Dec 2023\n",
      "Challenges in the Management of Non-Alcoholic Fatty Liver Disease (NAFLD): Towards a Compassionate Approach\n",
      "Authors: ['Kyrou, I.']\n",
      "Publication Year: Sept 2023\n",
      "Computer-aided de novo design and optimization of novel potential inhibitors of HIV-1 Nef protein\n",
      "Authors: ['Deganutti, G.', 'Pipitò, L.']\n",
      "Publication Year: Jun 2023\n",
      "Designer GLP1 poly-agonist peptides in the management of diabesity\n",
      "Authors: ['Kyrou, I.']\n",
      "Publication Year: 24 Apr 2023\n",
      "Disruption of Dcp1 leads to a Dcp2‐dependent aberrant ribosome profiles in Aspergillus nidulans\n",
      "Authors: ['Morozov, I. Y.']\n",
      "Publication Year: May 2023\n",
      "Effects of Acute Caffeine Ingestion on Cognitive Performance before and after Repeated Small-Sided Games in Professional Soccer Players: A Placebo-Controlled, Randomized Crossover Trial\n",
      "Authors: ['Clivatti Furigo, I.', 'Tallis, J.', 'Guimarães-Ferreira, L.']\n",
      "Publication Year: 10 Jul 2023\n",
      "Effects of resistance exercise and whey protein supplementation on metabolic flexibility and glucose homeostasis in healthy older men\n",
      "Authors: ['Renshaw, D.', 'Duncan, M.']\n",
      "Publication Year: 5 Dec 2023\n",
      "GWAS of random glucose in 476,326 individuals provide insights into diabetes pathophysiology, complications and treatment stratification\n",
      "Authors: ['Deganutti, G.', 'Reynolds, C.']\n",
      "Publication Year: 7 Sept 2023\n",
      "Heart rate variability and haemodynamic function in individuals with hypertrophic cardiomyopathy\n",
      "Authors: ['Okwose, N. C.', 'Jakovljevic, D. G.']\n",
      "Publication Year: Nov 2023\n",
      "Influence of mobile genetic elements and insertion sequences in long- and short-term adaptive processes of Acidithiobacillus ferrooxidans strains\n",
      "Authors: ['Johnson, D. B.']\n",
      "Publication Year: 5 Jul 2023\n",
      "Klotho, the Greek goddess controlling the fate of skeletal muscle satellite cells\n",
      "Authors: ['Turner, M. C.']\n",
      "Publication Year: 1 Dec 2023\n",
      "Longitudinal associations between self-reported sleep duration and cardiometabolic disease risk in corporate executives\n",
      "Authors: ['Roden, L.']\n",
      "Publication Year: 10 Oct 2023\n",
      "Machine learning and physical based modeling for cardiac hypertrophy\n",
      "Authors: ['Jakovljević, Đ.']\n",
      "Publication Year: 3 Jun 2023\n",
      "Physical Activity, Inactivity and Sleep in Individuals with Hypertrophic Cardiomyopathy\n",
      "Authors: ['Okwose, N.', 'Fuller, A.', 'Jakovljevic, D.']\n",
      "Publication Year: 27 Oct 2023\n",
      "PLL-based Enhanced Control of Boost PFC Converter for Smart Farming Lighting Application\n",
      "Authors: ['Lin Pay, M.', 'Christensen, J.', 'He, F.', 'Roden, L.']\n",
      "Publication Year: Dec 2023\n",
      "Probing the Interactions of Thiazole Abietane Inhibitors with the Human Serine Hydrolases ABHD16A and ABHD12\n",
      "Authors: ['Ng, C. P.', 'Reynolds, C.', 'Greaves, J.']\n",
      "Publication Year: 12 Oct 2023\n",
      "Random glucose GWAS in 493,036 individuals provides insights into diabetes pathophysiology, complications and treatment stratification\n",
      "Authors: []\n",
      "Publication Year: 2023\n",
      "Sacubitril/valsartan reverses cardiac structure and function in experimental model of hypertension-induced hypertrophic cardiomyopathy\n",
      "Authors: []\n",
      "Publication Year: 30 Mar 2023\n",
      "Targeting hPKM2 in cancer: A bio isosteric approach for ligand design\n",
      "Authors: ['Pipitò, L.', 'Deganutti, G.']\n",
      "Publication Year: May 2023\n",
      "The effect of medical grade compression garments on the repeated-bout effect in non-resistance trained men\n",
      "Authors: ['Brown, F.', 'Hill, M.', 'Renshaw, D.', 'Tallis, J.']\n",
      "Publication Year: 1 Dec 2023\n",
      "The impact of metabolic endotoxaemia on the browning process in human adipocytes\n",
      "Authors: ['Kyrou, I.']\n",
      "Publication Year: 19 Apr 2023\n",
      "The Role of Cardiopulmonary Exercise Testing in Hypertrophic Cardiomyopathy\n",
      "Authors: ['Jakovljevic, D. G.']\n",
      "Publication Year: 13 Jul 2023\n",
      "Transcriptional Landscape of 3D vs. 2D Ovarian Cancer Cell Models\n",
      "Authors: ['Kyrou, I.']\n",
      "Publication Year: Jul 2023\n",
      "Triplex metallohelices have enantiomer-dependent mechanisms of action in colon cancer cells\n",
      "Authors: ['Bridgewater, H. E.']\n",
      "Publication Year: 18 Apr 2023\n",
      "Unlocking Dendritic Cell-Based Vaccine Efficacy through Genetic Modulation: How Soon Is Now?\n",
      "Authors: ['Elwakeel, A. A. S. A.', 'Bridgewater, H.']\n",
      "Publication Year: 23 Nov 2023\n",
      "Prolonged Sedentary Time May Modulate Glycemic Response To A 12-week Dietary Intervention In Obesity\n",
      "Authors: ['Mackenzie, R. W. A.']\n",
      "Publication Year: Sept 2022\n",
      "Data has been written to output.csv\n"
     ]
    }
   ],
   "source": [
    "if response.status_code == 200:\n",
    "    soup = BeautifulSoup(response.content, \"html.parser\")\n",
    "    publication_elements = soup.find_all('div', class_=\"result-container\")\n",
    "\n",
    "    with open(output_file, mode='w', encoding='utf-8', newline='') as csv_file:\n",
    "        fieldnames = ['Title', 'Authors', 'Publication Year']\n",
    "        writer = csv.DictWriter(csv_file, fieldnames=fieldnames)\n",
    "        writer.writeheader()\n",
    "        \n",
    "        for publication in publication_elements:\n",
    "            title_element = publication.find(\"h3\", class_=\"title\")\n",
    "            \n",
    "            if title_element:\n",
    "                title = title_element.get_text(strip = True)\n",
    "                print(title)\n",
    "                \n",
    "            authors_elements = publication.find_all(\"a\", class_=\"link person\")  # Use find_all instead of find\n",
    "            authors = [author.get_text(strip=True) for author in authors_elements]\n",
    "            print(\"Authors:\", authors)\n",
    "    \n",
    "            publication_year_element = publication.find(\"span\", class_=\"date\")\n",
    "            if publication_year_element:\n",
    "                publication_year = publication_year_element.get_text(strip=True)\n",
    "                print(\"Publication Year:\", publication_year)\n",
    "\n",
    "# Write the information to the CSV file\n",
    "            writer.writerow({'Title': title, 'Authors': ', '.join(authors), 'Publication Year': publication_year})\n",
    "\n",
    "print(f\"Data has been written to {output_file}\")\n"
   ]
  },
  {
   "cell_type": "code",
   "execution_count": 6,
   "id": "64eda8ed-2177-4be3-bca2-ffd950af33c7",
   "metadata": {},
   "outputs": [
    {
     "ename": "SyntaxError",
     "evalue": "unterminated string literal (detected at line 2) (1150269874.py, line 2)",
     "output_type": "error",
     "traceback": [
      "\u001b[0;36m  Cell \u001b[0;32mIn[6], line 2\u001b[0;36m\u001b[0m\n\u001b[0;31m    input_file = \"\u001b[0m\n\u001b[0m                 ^\u001b[0m\n\u001b[0;31mSyntaxError\u001b[0m\u001b[0;31m:\u001b[0m unterminated string literal (detected at line 2)\n"
     ]
    }
   ],
   "source": [
    "# Initialize lists to store data\n",
    "input_file = \"\n",
    "titles = []\n",
    "authors_list = []\n",
    "publication_years = []\n",
    "\n",
    "with open(input_file, mode='r', encoding='utf-8') as csv_file:\n",
    "    reader = csv.DictReader(csv_file)\n",
    "    \n",
    "    # Loop through each row in the CSV file\n",
    "    for row in reader:\n",
    "        titles.append(row['Title'])\n",
    "        authors_list.append(row['Authors'])\n",
    "        publication_years.append(row['Publication Year'])\n",
    "\n",
    "# Now you can use the data as needed\n",
    "for title, authors, year in zip(titles, authors_list, publication_years):\n",
    "    print(f\"Title: {title}\")\n",
    "    print(f\"Authors: {authors}\")\n",
    "    print(f\"Publication Year: {year}\")\n",
    "    print()"
   ]
  },
  {
   "cell_type": "code",
   "execution_count": null,
   "id": "8b8efc10-7b6f-4d79-9abf-061522572d6a",
   "metadata": {},
   "outputs": [],
   "source": []
  }
 ],
 "metadata": {
  "kernelspec": {
   "display_name": "Python 3 (ipykernel)",
   "language": "python",
   "name": "python3"
  },
  "language_info": {
   "codemirror_mode": {
    "name": "ipython",
    "version": 3
   },
   "file_extension": ".py",
   "mimetype": "text/x-python",
   "name": "python",
   "nbconvert_exporter": "python",
   "pygments_lexer": "ipython3",
   "version": "3.11.5"
  }
 },
 "nbformat": 4,
 "nbformat_minor": 5
}
