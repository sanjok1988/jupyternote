{
 "cells": [
  {
   "cell_type": "code",
   "execution_count": 16,
   "id": "334f9934-68fb-49cf-ad4e-7f3edab89fc8",
   "metadata": {
    "tags": []
   },
   "outputs": [
    {
     "name": "stderr",
     "output_type": "stream",
     "text": [
      "Found cached dataset csv (/Users/sanjokdangol/.cache/huggingface/datasets/okite97___csv/okite97--news-data-40e98cfd881f0955/0.0.0/6954658bab30a358235fa864b05cf819af0e179325c740e4bc853bcc7ec513e1)\n"
     ]
    },
    {
     "data": {
      "application/vnd.jupyter.widget-view+json": {
       "model_id": "722601172f1744109c713845143d568c",
       "version_major": 2,
       "version_minor": 0
      },
      "text/plain": [
       "  0%|          | 0/2 [00:00<?, ?it/s]"
      ]
     },
     "metadata": {},
     "output_type": "display_data"
    },
    {
     "name": "stdout",
     "output_type": "stream",
     "text": [
      "                                               Title  \\\n",
      "0  Uefa Opens Proceedings against Barcelona, Juve...   \n",
      "1  Amazon Blames Inflation as It Increases Cost o...   \n",
      "3  Nigeria: Lagos Governor Tests Positive for Cov...   \n",
      "5  Guardiola To Leave Man City When Contract Expi...   \n",
      "9  Premier League Clubs Reject ‘Project Big Picture’   \n",
      "\n",
      "                                             Excerpt  Category  \n",
      "0  Uefa has opened disciplinary proceedings again...    sports  \n",
      "1  The increases are steeper than the 17 percent ...  business  \n",
      "3  The Lagos State Governor, Mr. Babajide Sanwo-O...    health  \n",
      "5  Pep Guardiola has said that he will leave Manc...    sports  \n",
      "9  Premier League clubs have \"unanimously agreed\"...    sports  \n",
      "Predicted Cluster: 0\n",
      "                                                  Title  \\\n",
      "1     Amazon Blames Inflation as It Increases Cost o...   \n",
      "11    Old Trafford Modified for 23,500 Socially Dist...   \n",
      "12           CBN Eyes $200bn from Fresh Non-Oil Exports   \n",
      "15    Buhari Returns Ownership of Four Oil Blocks to...   \n",
      "16    Indigenous Participation in Nigeria’s Gas Sect...   \n",
      "...                                                 ...   \n",
      "4679  Oil Prices Tumble Below $100 to Pre-Russia-Ukr...   \n",
      "4682                 NNPC Cuts Directors’ Fees by 60.2%   \n",
      "4683  Nigeria’s External Reserves Hit $37bn with $3....   \n",
      "4684  Transcorp Hilton Wins Africa’s Leading Busines...   \n",
      "4685  IHS Towers to Become Largest African Company o...   \n",
      "\n",
      "                                                Excerpt  Category  \n",
      "1     The increases are steeper than the 17 percent ...  business  \n",
      "11    Manchester United have modified Old Trafford t...    sports  \n",
      "12    The Governor of the Central Bank of Nigeria (C...  business  \n",
      "15    Nigeria's President Muhammadu Buhari has appro...  business  \n",
      "16    Chief Executive of the Nigerian Upstream Petro...  business  \n",
      "...                                                 ...       ...  \n",
      "4679  Both major crude benchmarks shed more than $5 ...  business  \n",
      "4682  The Nigerian National Petroleum Corporation (N...  business  \n",
      "4683  Nigeria’s foreign reserves will get a timely b...  business  \n",
      "4684  Transcorp Hilton Abuja has been honoured with ...  business  \n",
      "4685  An African operator of mobile phone masts, IHS...  business  \n",
      "\n",
      "[2215 rows x 3 columns]\n"
     ]
    },
    {
     "name": "stderr",
     "output_type": "stream",
     "text": [
      "/Users/sanjokdangol/anaconda3/lib/python3.11/site-packages/sklearn/cluster/_kmeans.py:1412: FutureWarning: The default value of `n_init` will change from 10 to 'auto' in 1.4. Set the value of `n_init` explicitly to suppress the warning\n",
      "  super()._check_params_vs_input(X, default_n_init=10)\n"
     ]
    }
   ],
   "source": [
    "import pandas as pd\n",
    "from sklearn.feature_extraction.text import TfidfVectorizer\n",
    "from sklearn.cluster import KMeans\n",
    "import tkinter as tk\n",
    "from tkinter.scrolledtext import ScrolledText\n",
    "from datasets import load_dataset\n",
    "\n",
    "# Sample data\n",
    "data = {\n",
    "    'Title': [\n",
    "        'Uefa Opens Proceedings against Barcelona, Juventus in Super League Row',\n",
    "        'Amazon Blames Inflation as It Increases Cost of Prime Subscription',\n",
    "        'Nigeria’s Parliament Passes Amended Electoral Bill amid Controversy',\n",
    "        'Nigeria: Lagos Governor Tests Positive for Covid-19',\n",
    "        'South Africa Calls For Calm as Electoral Reform Talks Stall'\n",
    "    ],\n",
    "    'Excerpt': [\n",
    "        'Uefa has opened disciplinary proceedings against Barcelona, Juventus and Real Madrid over their involvement in the proposed breakaway Super League.',\n",
    "        'The increases are steeper than the 17 percent jump it implemented last year.',\n",
    "        \"Nigeria's Senate on Tuesday passed the harmonised Electoral Bill amid controversy.\",\n",
    "        'The Lagos State Governor, Mr. Babajide Sanwo-Olu, has tested positive for COVID-19.',\n",
    "        'South Africa has raised concerns about the deterioration of the political situation in Lesotho and called for calm.'\n",
    "    ],\n",
    "    'Category': ['sports', 'business', 'politics', 'health', 'politics']\n",
    "}\n",
    "\n",
    "dataset = load_dataset(\"okite97/news-data\")\n",
    "\n",
    "# Convert data to DataFrame\n",
    "df = pd.DataFrame(dataset['train'])\n",
    "\n",
    "# Filter data for only 'health', 'sports', and 'business' categories\n",
    "df = df[df['Category'].isin(['health', 'sports', 'business'])]\n",
    "\n",
    "# Drop rows with missing values in 'Title' or 'Excerpt' columns\n",
    "df = df.dropna(subset=['Title', 'Excerpt'])\n",
    "print(df.head())\n",
    "\n",
    "# TF-IDF vectorization\n",
    "vectorizer = TfidfVectorizer(max_df=0.5, min_df=2, stop_words='english', use_idf=True)\n",
    "tfidf_matrix = vectorizer.fit_transform(df['Title'] + ' ' + df['Excerpt'])\n",
    "\n",
    "# Clustering (K-means)\n",
    "n_clusters = 3  # Number of clusters\n",
    "kmeans = KMeans(n_clusters=n_clusters, random_state=42)\n",
    "kmeans.fit(tfidf_matrix)\n",
    "\n",
    "# Predict cluster for user input\n",
    "def predict_cluster(input_text):\n",
    "    input_vector = vectorizer.transform([input_text])\n",
    "    cluster = kmeans.predict(input_vector)\n",
    "    return cluster[0]\n",
    "\n",
    "# Sample user input\n",
    "user_input = \"Barcelona and Juventus disciplinary proceedings\"\n",
    "predicted_cluster = predict_cluster(user_input)\n",
    "print(\"Predicted Cluster:\", predicted_cluster)\n",
    "\n",
    "# Display documents in the predicted cluster\n",
    "clustered_documents = df[kmeans.labels_ == predicted_cluster]\n",
    "print(clustered_documents)\n"
   ]
  },
  {
   "cell_type": "code",
   "execution_count": 17,
   "id": "3d8cbebd-4084-41cc-aed2-302f07243544",
   "metadata": {
    "tags": []
   },
   "outputs": [],
   "source": [
    "# Function to predict cluster and category\n",
    "def predict_cluster_and_category(input_text):\n",
    "    input_vector = vectorizer.transform([input_text])\n",
    "    cluster = kmeans.predict(input_vector)[0]\n",
    "    category = df.iloc[cluster]['Category']\n",
    "    return cluster, category"
   ]
  },
  {
   "cell_type": "code",
   "execution_count": 18,
   "id": "970bd2a8-3439-45e0-935f-02668fc5cd3e",
   "metadata": {
    "tags": []
   },
   "outputs": [
    {
     "name": "stdout",
     "output_type": "stream",
     "text": [
      "Predicted Cluster: 0\n",
      "Category Name: sports\n"
     ]
    }
   ],
   "source": [
    "# Tkinter GUI\n",
    "window = tk.Tk()\n",
    "window.title(\"Document Clustering\")\n",
    "window.minsize(600, 400)\n",
    "\n",
    "text_box = ScrolledText(window)\n",
    "text_box.grid(row=0, column=0, padx=5, pady=5, sticky=\"nsew\")\n",
    "\n",
    "predicted_cluster_label = tk.Label(window, text=\"Predicted Cluster:\")\n",
    "predicted_cluster_label.grid(row=1, column=0, padx=5, pady=5, sticky=\"w\")\n",
    "\n",
    "predicted_category_label = tk.Label(window, text=\"Predicted Category:\")\n",
    "predicted_category_label.grid(row=2, column=0, padx=5, pady=5, sticky=\"w\")\n",
    "\n",
    "def process_input():\n",
    "    input_text = text_box.get(\"1.0\", tk.END)\n",
    "    predicted_cluster, category = predict_cluster_and_category(input_text)\n",
    "    predicted_cluster_label.config(text=f\"Predicted Cluster: {predicted_cluster}\")\n",
    "    predicted_category_label.config(text=f\"Predicted Category: {category}\")\n",
    "    print(\"Predicted Cluster:\", predicted_cluster)\n",
    "    print(\"Category Name:\", category)\n",
    "\n",
    "# Tkinter GUI components\n",
    "btn = tk.Button(window, text=\"Cluster Documents\", command=process_input)\n",
    "btn.grid(row=3, column=0, padx=5, pady=5)\n",
    "\n",
    "window.mainloop()"
   ]
  },
  {
   "cell_type": "code",
   "execution_count": null,
   "id": "e99b5d85-5cfa-4e67-ac75-850818d4e93c",
   "metadata": {},
   "outputs": [],
   "source": []
  },
  {
   "cell_type": "code",
   "execution_count": null,
   "id": "97d3fd2f-3cbb-4c8e-a50f-91f69c5d221d",
   "metadata": {},
   "outputs": [],
   "source": [
    "\n",
    "\n",
    "from sklearn.datasets import make_blobs\n",
    "from sklearn.cluster import KMeans, DBSCAN\n",
    "from sklearn.preprocessing import LabelEncoder\n",
    "\n",
    "import matplotlib.pyplot as plt\n",
    "\n",
    "# df=result\n",
    "# label_encoder = LabelEncoder()\n",
    "# df['category_encoded'] = label_encoder.fit_transform(df['category'])\n",
    "# df['title'] = label_encoder.fit_transform(df['title'])\n",
    "# df['category'] = label_encoder.fit_transform(df['category'])\n",
    "\n",
    "# print(df['title'].head())\n",
    "\n",
    "# # Extract features (X) from the dataset\n",
    "# X = df[['title', 'category_encoded']]  # Adjust features accordingly\n",
    "# Generate sample data with varying densities\n",
    "X, _ = make_blobs(n_samples=1000, centers=3, cluster_std=[1.0, 2.0, 3.0], random_state=42)\n",
    "\n",
    "# Perform KMeans clustering\n",
    "kmeans = KMeans(n_clusters=3, random_state=42)\n",
    "kmeans_labels = kmeans.fit_predict(X)\n",
    "\n",
    "# Perform DBSCAN clustering\n",
    "dbscan = DBSCAN(eps=0.5, min_samples=5)\n",
    "dbscan_labels = dbscan.fit_predict(X)\n",
    "\n",
    "# Plot results\n",
    "plt.figure(figsize=(12, 5))\n",
    "\n",
    "plt.subplot(1, 2, 1)\n",
    "plt.scatter(X[:, 0], X[:, 1], c=kmeans_labels, cmap='viridis', s=50, alpha=0.7)\n",
    "plt.title('KMeans Clustering')\n",
    "plt.xlabel('Feature 1')\n",
    "plt.ylabel('Feature 2')\n",
    "\n",
    "plt.subplot(1, 2, 2)\n",
    "plt.scatter(X[:, 0], X[:, 1], c=dbscan_labels, cmap='viridis', s=50, alpha=0.7)\n",
    "plt.title('DBSCAN Clustering')\n",
    "plt.xlabel('Feature 1')\n",
    "plt.ylabel('Feature 2')\n",
    "\n",
    "plt.tight_layout()\n",
    "plt.show()\n"
   ]
  },
  {
   "cell_type": "code",
   "execution_count": null,
   "id": "6ce5ee88-4875-4707-8298-59714c545748",
   "metadata": {},
   "outputs": [],
   "source": [
    "# Create sample data\n",
    "X, _ = make_blobs(n_samples=1000, centers=3, cluster_std=[1.0, 2.0, 3.0], random_state=42)\n",
    "\n",
    "# Perform DBSCAN clustering\n",
    "dbscan = DBSCAN(eps=0.5, min_samples=5)\n",
    "dbscan_labels = dbscan.fit_predict(X)\n",
    "\n",
    "# Plot results\n",
    "plt.scatter(X[:, 0], X[:, 1], c=dbscan_labels, cmap='viridis', s=50, alpha=0.7)\n",
    "plt.title('DBSCAN Clustering')\n",
    "plt.xlabel('Feature 1')\n",
    "plt.ylabel('Feature 2')\n",
    "plt.show()"
   ]
  }
 ],
 "metadata": {
  "kernelspec": {
   "display_name": "Python 3 (ipykernel)",
   "language": "python",
   "name": "python3"
  },
  "language_info": {
   "codemirror_mode": {
    "name": "ipython",
    "version": 3
   },
   "file_extension": ".py",
   "mimetype": "text/x-python",
   "name": "python",
   "nbconvert_exporter": "python",
   "pygments_lexer": "ipython3",
   "version": "3.11.5"
  }
 },
 "nbformat": 4,
 "nbformat_minor": 5
}
