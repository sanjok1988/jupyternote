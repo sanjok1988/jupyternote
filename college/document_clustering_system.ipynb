{
 "cells": [
  {
   "cell_type": "code",
   "execution_count": null,
   "id": "3bf6fe8f-3121-483f-a628-e0baa139e0ad",
   "metadata": {
    "tags": []
   },
   "outputs": [],
   "source": [
    "from sklearn.feature_extraction.text import TfidfVectorizer\n",
    "from sklearn.cluster import KMeans\n",
    "import numpy as np\n",
    "import pandas as pd\n",
    "from sklearn.pipeline import make_pipeline\n",
    "from sklearn.preprocessing import Normalizer"
   ]
  },
  {
   "cell_type": "code",
   "execution_count": null,
   "id": "15547cbd-7a5d-4197-8210-6595c9646ba1",
   "metadata": {
    "tags": []
   },
   "outputs": [],
   "source": [
    "# Sample documents in different categories\n",
    "from datasets import load_dataset\n",
    "\n",
    "dataset = load_dataset(\"okite97/news-data\")\n",
    "\n",
    "df = pd.DataFrame(dataset['train'])"
   ]
  },
  {
   "cell_type": "code",
   "execution_count": null,
   "id": "e94c82c7-ee6c-468b-86c0-7102a774ad37",
   "metadata": {
    "tags": []
   },
   "outputs": [],
   "source": [
    "from sklearn.preprocessing import OneHotEncoder\n",
    "from scipy.sparse import hstack\n",
    "\n",
    "# Convert category labels to one-hot encoding\n",
    "encoder = OneHotEncoder()\n",
    "category_encoded = encoder.fit_transform(df['Category'].values.reshape(-1, 1))\n",
    "\n",
    "# print(category_encoded)\n",
    "# TF-IDF vectorization\n",
    "vectorizer = TfidfVectorizer(max_df=0.5,min_df=2,stop_words='english')\n",
    "\n",
    "tfidf_matrix = vectorizer.fit_transform(df['Title'])\n",
    "\n",
    "# Combine TF-IDF features with category information\n",
    "combined_features = hstack((tfidf_matrix, category_encoded))"
   ]
  },
  {
   "cell_type": "code",
   "execution_count": null,
   "id": "595d9539-4222-434b-88dd-5f269c489992",
   "metadata": {
    "tags": []
   },
   "outputs": [],
   "source": [
    "\n",
    "\n",
    "# Clustering (K-means)\n",
    "n_clusters = 6  # Number of categories\n",
    "kmeans = KMeans(n_clusters=n_clusters, init=3 ,max_iter=200, n_init=10, random_state=42)\n",
    "kmeans.fit(combined_features)\n",
    "\n",
    "# clusters = kmeans.labels_.tolist()\n",
    "# print(clusters)"
   ]
  },
  {
   "cell_type": "code",
   "execution_count": null,
   "id": "dce6edef-61d3-4029-807a-0520ff42c7c8",
   "metadata": {
    "tags": []
   },
   "outputs": [],
   "source": [
    "# Preprocess the documents\n",
    "preprocessed_documents = [doc.lower().replace('.', '') for doc in documents.values()]\n",
    "\n",
    "# Feature extraction (TF-IDF)\n",
    "vectorizer = TfidfVectorizer()\n",
    "tfidf_matrix = vectorizer.fit_transform(preprocessed_documents)\n",
    "\n",
    "# Clustering (K-means)\n",
    "n_clusters = 3\n",
    "kmeans = KMeans(n_clusters=n_clusters, random_state=42)\n",
    "kmeans.fit(tfidf_matrix)\n",
    "\n",
    "def predict_new_document(new_document, vectorizer, kmeans_model):\n",
    "    \"\"\"\n",
    "    Predicts the cluster for a new document.\n",
    "    \n",
    "    Args:\n",
    "    - new_document (str): The new document text.\n",
    "    - vectorizer (TfidfVectorizer): The TF-IDF vectorizer fitted on the training data.\n",
    "    - kmeans_model (KMeans): The K-means model trained on the training data.\n",
    "    \n",
    "    Returns:\n",
    "    - int: The predicted cluster for the new document.\n",
    "    \"\"\"\n",
    "    # Preprocess the new document\n",
    "    preprocessed_new_document = new_document.lower().replace('.', '')\n",
    "    \n",
    "    # Transform the new document into a numerical vector using the fitted TF-IDF vectorizer\n",
    "    new_document_vector = vectorizer.transform([preprocessed_new_document])\n",
    "    \n",
    "    # Predict the cluster for the new document using the fitted K-means model\n",
    "    predicted_cluster = kmeans_model.predict(new_document_vector)\n",
    "    \n",
    "    return predicted_cluster[0]\n",
    "\n",
    "# Example usage:\n",
    "new_document_text = \"The latest research findings suggest that regular physical activity can improve mental health.\"\n",
    "predicted_cluster = predict_new_document(new_document_text, vectorizer, kmeans)\n",
    "print(\"Predicted Cluster:\", predicted_cluster)"
   ]
  },
  {
   "cell_type": "code",
   "execution_count": null,
   "id": "93cb04ba-9cdd-4093-b65b-eeaa8f45de20",
   "metadata": {
    "tags": []
   },
   "outputs": [],
   "source": [
    "print(df.head())"
   ]
  },
  {
   "cell_type": "code",
   "execution_count": null,
   "id": "77d70aa1-4c17-4838-9a97-e53088514892",
   "metadata": {
    "tags": []
   },
   "outputs": [],
   "source": [
    "df['Category'].value_counts()"
   ]
  },
  {
   "cell_type": "code",
   "execution_count": null,
   "id": "c6fb85b9-f595-4e39-9b00-0d58c20a5a0b",
   "metadata": {
    "tags": []
   },
   "outputs": [],
   "source": [
    "# Drop rows with missing values in 'Title' or 'Excerpt' columns\n",
    "df = df.dropna(subset=['Title', 'Excerpt'])\n",
    "\n",
    "# Sample text data\n",
    "text_data = df['Title'] + ' ' + df['Excerpt']\n",
    "\n",
    "# Define the number of clusters\n",
    "n_clusters = 3\n",
    "\n",
    "\n",
    "# Create a pipeline with TF-IDF Vectorizer, Normalizer, and KMeans\n",
    "pipeline = make_pipeline(\n",
    "    TfidfVectorizer(max_df=0.5, min_df=2, stop_words='english', use_idf=True),\n",
    "    Normalizer(),\n",
    "    KMeans(n_clusters=n_clusters, init='k-means++', max_iter=100, n_init=1)\n",
    ")\n",
    "\n",
    "# Fit the pipeline to the text data\n",
    "pipeline.fit(text_data)\n",
    "\n",
    "\n",
    "# Assign clusters to the data\n",
    "df.loc[:, 'Cluster'] = pipeline.predict(text_data)\n",
    "\n",
    "# Display the clustered data\n",
    "print(df[['Title', 'Excerpt', 'Category', 'Cluster']])"
   ]
  },
  {
   "cell_type": "code",
   "execution_count": 43,
   "id": "9dc84456-c330-4c07-aca4-3462d8f798c9",
   "metadata": {
    "tags": []
   },
   "outputs": [
    {
     "name": "stdout",
     "output_type": "stream",
     "text": [
      "Cluster 0: 2409 documents\n",
      "Cluster 1: 1862 documents\n",
      "Cluster 2: 414 documents\n"
     ]
    }
   ],
   "source": [
    "def count_cluster(df, vectorizer, kmeans_model):\n",
    "    \"\"\"\n",
    "    Counts the number of documents in each cluster.\n",
    "    \n",
    "    Args:\n",
    "    - df (DataFrame): The DataFrame containing the clustered data.\n",
    "    - vectorizer (TfidfVectorizer): The TF-IDF vectorizer fitted on the training data.\n",
    "    - kmeans_model (KMeans): The K-means model trained on the training data.\n",
    "    \"\"\"\n",
    "    # Transform text data into TF-IDF vectors\n",
    "    tfidf_matrix = vectorizer.transform(df['Title'])\n",
    "    \n",
    "    # Predict clusters for each document\n",
    "    predicted_clusters = kmeans_model.predict(tfidf_matrix)\n",
    "    \n",
    "    # Add predicted clusters to DataFrame\n",
    "    df['Cluster'] = predicted_clusters\n",
    "    \n",
    "    # Count the number of documents in each cluster\n",
    "    cluster_counts = df['Cluster'].value_counts().sort_index()\n",
    "    \n",
    "    # Print the counts\n",
    "    for cluster, count in cluster_counts.items():\n",
    "        print(f\"Cluster {cluster}: {count} documents\")\n",
    "    \n",
    "# Example usage:\n",
    "count_cluster(df, vectorizer, kmeans)\n"
   ]
  },
  {
   "cell_type": "code",
   "execution_count": 49,
   "id": "65672c14-7752-40e4-a663-71ce22a3bebb",
   "metadata": {
    "tags": []
   },
   "outputs": [
    {
     "data": {
      "image/png": "[encoded data removed]",
      "text/plain": [
       "<Figure size 1000x600 with 1 Axes>"
      ]
     },
     "metadata": {},
     "output_type": "display_data"
    }
   ],
   "source": [
    "from sklearn.decomposition import PCA\n",
    "\n",
    "def plot_cluster_documents(df, vectorizer, kmeans_model):\n",
    "    \"\"\"\n",
    "    Plots a scatter plot showing the relationship between clusters and documents.\n",
    "    \n",
    "    Args:\n",
    "    - df (DataFrame): The DataFrame containing the clustered data.\n",
    "    - vectorizer (TfidfVectorizer): The TF-IDF vectorizer fitted on the training data.\n",
    "    - kmeans_model (KMeans): The K-means model trained on the training data.\n",
    "    \"\"\"\n",
    "    # Transform text data into TF-IDF vectors\n",
    "    tfidf_matrix = vectorizer.transform(df['Title'])\n",
    "    \n",
    "    # Predict clusters for each document\n",
    "    predicted_clusters = kmeans_model.predict(tfidf_matrix)\n",
    "    \n",
    "    # Add predicted clusters to DataFrame\n",
    "    df['Cluster'] = predicted_clusters\n",
    "    \n",
    "    # Convert sparse matrix to dense matrix\n",
    "    dense_matrix = tfidf_matrix.toarray()\n",
    "    \n",
    "    # Reduce dimensionality using PCA\n",
    "    pca = PCA(n_components=2, random_state=42)\n",
    "    pca_embedded = pca.fit_transform(dense_matrix)\n",
    "    \n",
    "    # Plot the clusters and documents\n",
    "    plt.figure(figsize=(10, 6))\n",
    "    for cluster in df['Cluster'].unique():\n",
    "        plt.scatter(pca_embedded[df['Cluster'] == cluster, 0], \n",
    "                    pca_embedded[df['Cluster'] == cluster, 1], \n",
    "                    label=f'Cluster {cluster}')\n",
    "    plt.xlabel('PCA Component 1')\n",
    "    plt.ylabel('PCA Component 2')\n",
    "    plt.title('PCA Plot of Clusters and Documents')\n",
    "    plt.legend()\n",
    "    plt.grid()\n",
    "    plt.show()\n",
    "\n",
    "# Example usage:\n",
    "plot_cluster_documents(df, vectorizer, kmeans)\n"
   ]
  },
  {
   "cell_type": "code",
   "execution_count": 45,
   "id": "f58402e9-e6c0-4977-bfbc-fa85d5900c14",
   "metadata": {
    "tags": []
   },
   "outputs": [
    {
     "data": {
      "image/png": "[encoded data removed]",
      "text/plain": [
       "<Figure size 1000x600 with 1 Axes>"
      ]
     },
     "metadata": {},
     "output_type": "display_data"
    }
   ],
   "source": [
    "import matplotlib.pyplot as plt\n",
    "\n",
    "def plot_cluster_counts(df, vectorizer, kmeans_model):\n",
    "    \"\"\"\n",
    "    Plots a bar plot showing the number of documents in each cluster.\n",
    "    \n",
    "    Args:\n",
    "    - df (DataFrame): The DataFrame containing the clustered data.\n",
    "    - vectorizer (TfidfVectorizer): The TF-IDF vectorizer fitted on the training data.\n",
    "    - kmeans_model (KMeans): The K-means model trained on the training data.\n",
    "    \"\"\"\n",
    "    # Transform text data into TF-IDF vectors\n",
    "    tfidf_matrix = vectorizer.transform(df['Title'])\n",
    "    \n",
    "    # Predict clusters for each document\n",
    "    predicted_clusters = kmeans_model.predict(tfidf_matrix)\n",
    "    \n",
    "    # Add predicted clusters to DataFrame\n",
    "    df['Cluster'] = predicted_clusters\n",
    "    \n",
    "    # Count the number of documents in each cluster\n",
    "    cluster_counts = df['Cluster'].value_counts().sort_index()\n",
    "    \n",
    "    # Plot the counts\n",
    "    plt.figure(figsize=(10, 6))\n",
    "    plt.bar(cluster_counts.index, cluster_counts.values, color='skyblue')\n",
    "    plt.xlabel('Cluster')\n",
    "    plt.ylabel('Number of Documents')\n",
    "    plt.title('Number of Documents in Each Cluster')\n",
    "    plt.xticks(cluster_counts.index)\n",
    "    plt.grid(axis='y', linestyle='--', alpha=0.7)\n",
    "    plt.show()\n",
    "\n",
    "# Example usage:\n",
    "plot_cluster_counts(df, vectorizer, kmeans)\n"
   ]
  },
  {
   "cell_type": "code",
   "execution_count": 52,
   "id": "b011e2a2-326c-4f44-b033-0018d14eb895",
   "metadata": {
    "tags": []
   },
   "outputs": [
    {
     "name": "stdout",
     "output_type": "stream",
     "text": [
      "Predicted Cluster: 2\n"
     ]
    }
   ],
   "source": [
    "def predict_new_document(new_document, pipeline):\n",
    "    \"\"\"\n",
    "    Predicts the cluster for a new document.\n",
    "    \n",
    "    Args:\n",
    "    - new_document (str): The new document text.\n",
    "    - pipeline (Pipeline): The pipeline containing TF-IDF vectorizer and KMeans model.\n",
    "    \n",
    "    Returns:\n",
    "    - int: The predicted cluster for the new document.\n",
    "    \"\"\"\n",
    "    # Transform the new document into a numerical vector using the fitted TF-IDF vectorizer\n",
    "    new_document_vector = pipeline.named_steps['tfidfvectorizer'].transform([new_document])\n",
    "    \n",
    "    # Predict the cluster for the new document using the fitted KMeans model\n",
    "    predicted_cluster = pipeline.named_steps['kmeans'].predict(new_document_vector)\n",
    "    \n",
    "    return predicted_cluster[0]\n",
    "\n",
    "# Example usage:\n",
    "# new_document_text = \"This is a new document about technology and artificial intelligence.\"\n",
    "# predicted_cluster = predict_new_document(new_document_text, pipeline)\n",
    "# print(\"Predicted Cluster:\", predicted_cluster)\n",
    "\n",
    "new_document_text = \"This is a new document about sports\"\n",
    "predicted_cluster = predict_new_document(new_document_text, pipeline)\n",
    "print(\"Predicted Cluster:\", predicted_cluster)"
   ]
  },
  {
   "cell_type": "markdown",
   "id": "c85d7a78-9542-4fbb-b602-dfd936d46533",
   "metadata": {},
   "source": [
    "# Prints a list of clusters along with the documents that belong to each cluster"
   ]
  },
  {
   "cell_type": "code",
   "execution_count": 78,
   "id": "27ea3f63-b723-4a77-8d95-0fd59449ba92",
   "metadata": {
    "tags": []
   },
   "outputs": [],
   "source": [
    "def print_cluster_list(df):\n",
    "    \"\"\"\n",
    "    Prints a list of clusters along with the documents that belong to each cluster.\n",
    "    \n",
    "    Args:\n",
    "    - df (DataFrame): The DataFrame containing the clustered data.\n",
    "    \"\"\"\n",
    "    # Group DataFrame by Cluster\n",
    "    grouped = df.groupby('Cluster')\n",
    "    \n",
    "    # Print documents for each cluster\n",
    "    for cluster, data in grouped:\n",
    "        print(f\"Cluster {cluster}:\")\n",
    "        for idx, row in data.iterrows():\n",
    "            print(f\"Title: {row['Title']} - Excerpt: {row['Excerpt']}\")\n",
    "        print(\"\\n\")\n",
    "\n",
    "# Example usage:\n",
    "# print_cluster_list(df)"
   ]
  },
  {
   "cell_type": "markdown",
   "id": "1da4c5c1-5fa1-443a-b605-70948856cfa3",
   "metadata": {
    "tags": []
   },
   "source": [
    "# Prints documents belonging to each category"
   ]
  },
  {
   "cell_type": "code",
   "execution_count": 79,
   "id": "c41eeab5-418c-4d93-adf5-e3a82f45eb49",
   "metadata": {
    "tags": []
   },
   "outputs": [],
   "source": [
    "def map_cluster_to_category(cluster):\n",
    "    \"\"\"\n",
    "    Maps clusters to categories.\n",
    "    \n",
    "    Args:\n",
    "    - cluster (int): The cluster number.\n",
    "    \n",
    "    Returns:\n",
    "    - str: The category corresponding to the cluster.\n",
    "    \"\"\"\n",
    "    # Define the mapping of clusters to categories\n",
    "    cluster_to_category = {\n",
    "        0: 'sports',\n",
    "        1: 'business',\n",
    "        2: 'politics'\n",
    "        # Add more mappings if needed\n",
    "    }\n",
    "    \n",
    "    return cluster_to_category.get(cluster, 'unknown')\n",
    "\n",
    "def print_category_documents(df):\n",
    "    \"\"\"\n",
    "    Prints documents belonging to each category.\n",
    "    \n",
    "    Args:\n",
    "    - df (DataFrame): The DataFrame containing the clustered data.\n",
    "    \"\"\"\n",
    "    # Group DataFrame by Cluster\n",
    "    grouped = df.groupby('Cluster')\n",
    "    \n",
    "    # Print documents for each category\n",
    "    for cluster, data in grouped:\n",
    "        category = map_cluster_to_category(cluster)\n",
    "        print(f\"Category: {category}:\")\n",
    "        for idx, row in data.iterrows():\n",
    "            print(f\"Title: {row['Title']} - Excerpt: {row['Excerpt']}\")\n",
    "        print(\"\\n\")\n",
    "\n",
    "# Example usage:\n",
    "# print_category_documents(df)\n"
   ]
  },
  {
   "cell_type": "code",
   "execution_count": 81,
   "id": "8128d056-7023-433c-81cc-065ca4e34fff",
   "metadata": {
    "tags": []
   },
   "outputs": [
    {
     "name": "stdout",
     "output_type": "stream",
     "text": [
      "Collecting Queries\n",
      "  Downloading queries-2.1.1.tar.gz (21 kB)\n",
      "  Preparing metadata (setup.py) ... \u001b[?25ldone\n",
      "\u001b[?25hCollecting psycopg2<3,>=2.5.1 (from Queries)\n",
      "  Using cached psycopg2-2.9.9.tar.gz (384 kB)\n",
      "  Preparing metadata (setup.py) ... \u001b[?25ldone\n",
      "\u001b[?25hBuilding wheels for collected packages: Queries, psycopg2\n",
      "  Building wheel for Queries (setup.py) ... \u001b[?25ldone\n",
      "\u001b[?25h  Created wheel for Queries: filename=queries-2.1.1-py3-none-any.whl size=21721 sha256=833b6ff00be9e5d57a7c1ad2e503e6e483f3fb56a2f9b15b8e509b494628a036\n",
      "  Stored in directory: /Users/sanjokdangol/Library/Caches/pip/wheels/a2/e5/c2/042b81acecb11359e8fded34ed5c5e2cdffa22c25251da3bbb\n",
      "  Building wheel for psycopg2 (setup.py) ... \u001b[?25ldone\n",
      "\u001b[?25h  Created wheel for psycopg2: filename=psycopg2-2.9.9-cp311-cp311-macosx_11_0_arm64.whl size=132036 sha256=2394bec57ad952e567c77fe9339aac4922f776a0ef20216bc0bc5fa9deb7fe50\n",
      "  Stored in directory: /Users/sanjokdangol/Library/Caches/pip/wheels/ab/34/b9/78ebef1b3220b4840ee482461e738566c3c9165d2b5c914f51\n",
      "Successfully built Queries psycopg2\n",
      "Installing collected packages: psycopg2, Queries\n",
      "Successfully installed Queries-2.1.1 psycopg2-2.9.9\n"
     ]
    }
   ],
   "source": [
    "!pip3 install Queries"
   ]
  },
  {
   "cell_type": "code",
   "execution_count": 1,
   "id": "70c929d1-d7d8-4a5c-aada-62a0438b3912",
   "metadata": {
    "tags": []
   },
   "outputs": [],
   "source": [
    "from tkinter import *\n",
    "from tkinter import messagebox\n",
    "\n",
    "# Function to display search result message\n",
    "def show_result_message():\n",
    "    messagebox.showinfo('Search Result', 'Your search result is here')\n",
    "\n",
    "# Function to process the query\n",
    "def process_query():\n",
    "    query = query_entry.get()\n",
    "    if query:\n",
    "        result = f\"Query processed: {query}\"\n",
    "        result_label.config(text=result)\n",
    "        # Display message when search button is clicked\n",
    "        show_result_message()\n",
    "    else:\n",
    "        messagebox.showerror('Error', 'Please enter a query')\n",
    "\n",
    "root = Tk()\n",
    "root.geometry('400x200')\n",
    "root.title('Simple Query Processor')\n",
    "root.config(bg='white')\n",
    "\n",
    "# Entry for user to input query\n",
    "query_label = Label(root, text='Enter Query:', bg='white')\n",
    "query_label.grid(row=0, column=0, padx=10, pady=10)\n",
    "query_entry = Entry(root, width=30)\n",
    "query_entry.grid(row=0, column=1, padx=10, pady=10)\n",
    "\n",
    "# Button to trigger query processing\n",
    "search_button = Button(root, text='Search', command=process_query)\n",
    "search_button.grid(row=1, column=1, padx=10, pady=10)\n",
    "\n",
    "# Label to display the result\n",
    "result_label = Label(root, bg='white')\n",
    "result_label.grid(row=2, column=0, columnspan=2, padx=10, pady=10)\n",
    "\n",
    "root.mainloop()\n"
   ]
  },
  {
   "cell_type": "code",
   "execution_count": null,
   "id": "0e001625-82d6-4821-ae71-19076d65688a",
   "metadata": {},
   "outputs": [],
   "source": []
  }
 ],
 "metadata": {
  "kernelspec": {
   "display_name": "Python 3 (ipykernel)",
   "language": "python",
   "name": "python3"
  },
  "language_info": {
   "codemirror_mode": {
    "name": "ipython",
    "version": 3
   },
   "file_extension": ".py",
   "mimetype": "text/x-python",
   "name": "python",
   "nbconvert_exporter": "python",
   "pygments_lexer": "ipython3",
   "version": "3.11.5"
  }
 },
 "nbformat": 4,
 "nbformat_minor": 5
}
