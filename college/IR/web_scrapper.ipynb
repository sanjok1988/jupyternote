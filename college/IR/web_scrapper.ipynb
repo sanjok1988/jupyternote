{
 "cells": [
  {
   "cell_type": "code",
   "execution_count": 30,
   "id": "891ba64c-cf99-440b-8984-31d03e949841",
   "metadata": {
    "tags": []
   },
   "outputs": [],
   "source": [
    "import requests\n",
    "from bs4 import BeautifulSoup\n",
    "import pandas as pd"
   ]
  },
  {
   "cell_type": "code",
   "execution_count": 34,
   "id": "6f4c8a64-083c-4d2c-b20c-0e9c468708c7",
   "metadata": {
    "tags": []
   },
   "outputs": [],
   "source": [
    "url = \"https://pureportal.coventry.ac.uk/en/organisations/ihw-centre-for-health-and-life-sciences-chls/publications/\"\n",
    "storage = \"storage\""
   ]
  },
  {
   "cell_type": "code",
   "execution_count": 35,
   "id": "d7eabcba-96df-48b1-b1ca-544490c65a91",
   "metadata": {
    "tags": []
   },
   "outputs": [],
   "source": [
    "df = pd.DataFrame(columns=['title'])\n",
    "\n",
    "titles = []\n",
    "\n",
    "for x in range(0, 1):\n",
    "    html = requests.get(url)\n",
    "    soup = BeautifulSoup(html.content, \"html.parser\")\n",
    "    subSoup = soup.find_all('h3', class_='title')\n",
    "    for elm in subSoup:\n",
    "        title = elm.get_text(strip = True)\n",
    "        df = titles.append({'title': title})\n",
    "\n",
    "df = pd.DataFrame(titles)\n",
    "df.to_csv('Scraped_titles.csv', index=False)"
   ]
  },
  {
   "cell_type": "code",
   "execution_count": 36,
   "id": "719bebe1-4187-4eaa-8d1f-fa561e907464",
   "metadata": {
    "tags": []
   },
   "outputs": [
    {
     "name": "stdout",
     "output_type": "stream",
     "text": [
      "                                                title\n",
      "0   Barriers and Facilitators to Participation and...\n",
      "1   Doxorubicin alters G-protein coupled receptor-...\n",
      "2   Human gut microbiota and endocrinology: paradi...\n",
      "3   SGABU computational platform for multiscale mo...\n",
      "4   A Comparative Study of FLL and PLL in Boost PF...\n",
      "5   A comprehensive review of bioleaching optimiza...\n",
      "6   Age-Related Differences in Trunk Kinematics an...\n",
      "7   Application of non‐invasive bioreactance to as...\n",
      "8   Associations between the Gut Microbiome and Me...\n",
      "9   Behavioural and physiological indicators of an...\n",
      "10  Big Data in multiscale modelling: from medical...\n",
      "11  CellShip®: an ambient temperature transport an...\n",
      "12  Challenges in the Management of Non-Alcoholic ...\n",
      "13  Computer-aided de novo design and optimization...\n",
      "14  Designer GLP1 poly-agonist peptides in the man...\n",
      "15  Disruption of Dcp1 leads to a Dcp2‐dependent a...\n",
      "16  Effects of Acute Caffeine Ingestion on Cogniti...\n",
      "17  Effects of resistance exercise and whey protei...\n",
      "18  GWAS of random glucose in 476,326 individuals ...\n",
      "19  Heart rate variability and haemodynamic functi...\n",
      "20  Influence of mobile genetic elements and inser...\n",
      "21  Klotho, the Greek goddess controlling the fate...\n",
      "22  Longitudinal associations between self-reporte...\n",
      "23  Machine learning and physical based modeling f...\n",
      "24  Physical Activity, Inactivity and Sleep in Ind...\n",
      "25  PLL-based Enhanced Control of Boost PFC Conver...\n",
      "26  Probing the Interactions of Thiazole Abietane ...\n",
      "27  Random glucose GWAS in 493,036 individuals pro...\n",
      "28  Sacubitril/valsartan reverses cardiac structur...\n",
      "29  Targeting hPKM2 in cancer: A bio isosteric app...\n",
      "30  The effect of medical grade compression garmen...\n",
      "31  The impact of metabolic endotoxaemia on the br...\n",
      "32  The Role of Cardiopulmonary Exercise Testing i...\n",
      "33  Transcriptional Landscape of 3D vs. 2D Ovarian...\n",
      "34  Triplex metallohelices have enantiomer-depende...\n",
      "35  Unlocking Dendritic Cell-Based Vaccine Efficac...\n",
      "36  Prolonged Sedentary Time May Modulate Glycemic...\n"
     ]
    }
   ],
   "source": [
    "df = pd.read_csv('Scraped_titles.csv')\n",
    "# Set the 'title' column as the index\n",
    "# df.set_index('title', inplace=True)\n",
    "print(df)"
   ]
  },
  {
   "cell_type": "code",
   "execution_count": 37,
   "id": "13137b87-72f7-4b48-a103-b0651cf00933",
   "metadata": {
    "tags": []
   },
   "outputs": [
    {
     "name": "stdin",
     "output_type": "stream",
     "text": [
      "Enter a keyword to search titles:  Greenhouse Farming Application\n"
     ]
    },
    {
     "name": "stdout",
     "output_type": "stream",
     "text": [
      "Search results:\n",
      "                                               title\n",
      "4  A Comparative Study of FLL and PLL in Boost PF...\n"
     ]
    }
   ],
   "source": [
    "def search_titles(keyword):\n",
    "    # Filter rows containing the keyword in the 'title' column\n",
    "    search_results = df[df['title'].str.contains(keyword, case=False)]\n",
    "    \n",
    "    # Print search results\n",
    "    if not search_results.empty:\n",
    "        print(\"Search results:\")\n",
    "        print(search_results)\n",
    "    else:\n",
    "        print(\"No results found for the keyword:\", keyword)\n",
    "\n",
    "# Example usage:\n",
    "search_keyword = input(\"Enter a keyword to search titles: \")\n",
    "search_titles(search_keyword)"
   ]
  },
  {
   "cell_type": "code",
   "execution_count": null,
   "id": "61af21ac-e626-435a-bc6b-5370149d9983",
   "metadata": {},
   "outputs": [],
   "source": []
  }
 ],
 "metadata": {
  "kernelspec": {
   "display_name": "Python 3 (ipykernel)",
   "language": "python",
   "name": "python3"
  },
  "language_info": {
   "codemirror_mode": {
    "name": "ipython",
    "version": 3
   },
   "file_extension": ".py",
   "mimetype": "text/x-python",
   "name": "python",
   "nbconvert_exporter": "python",
   "pygments_lexer": "ipython3",
   "version": "3.11.5"
  }
 },
 "nbformat": 4,
 "nbformat_minor": 5
}
