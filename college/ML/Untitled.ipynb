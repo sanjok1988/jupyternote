{
 "cells": [
  {
   "cell_type": "code",
   "execution_count": 7,
   "id": "b4da9c6d-ca71-4e8e-865f-18b8ff561f3e",
   "metadata": {
    "tags": []
   },
   "outputs": [
    {
     "name": "stdout",
     "output_type": "stream",
     "text": [
      "Mean Squared Error: 2572491.5\n",
      "The model does not perfectly fit the training data.\n"
     ]
    }
   ],
   "source": [
    "import numpy as np\n",
    "import pandas as pd\n",
    "from sklearn.linear_model import LinearRegression\n",
    "from sklearn.metrics import mean_squared_error\n",
    "\n",
    "data = {\n",
    "    'age': [19, 33, 46, 60],\n",
    "    'children': [0, 1, 2, 0],\n",
    "    'bmi': [27.9, 33.8, 22.7, 33],\n",
    "    'charges': [100, 1726, 4449, 3867]\n",
    "}\n",
    "\n",
    "df = pd.DataFrame(data)\n",
    "\n",
    "# Calculate predictions with a0 = 0 and a1 = 100\n",
    "y_pred_100 = 100 * X_train['age']\n",
    "\n",
    "\n",
    "# X_train = df[['age', 'children', 'bmi']]\n",
    "y_train = df['charges']\n",
    "\n",
    "# Fit a linear regression model\n",
    "# model = LinearRegression()\n",
    "# model.fit(X_train, y_train)\n",
    "\n",
    "# Predictions on the training data\n",
    "# y_pred = model.predict(X_train)\n",
    "\n",
    "# Calculate mean squared error\n",
    "mse = mean_squared_error(y_train, y_pred_100)\n",
    "\n",
    "print(\"Mean Squared Error:\", mse)\n",
    "\n",
    "if mse == 0:\n",
    "    print(\"The model perfectly fits the training data.\")\n",
    "else:\n",
    "    print(\"The model does not perfectly fit the training data.\")\n"
   ]
  },
  {
   "cell_type": "code",
   "execution_count": null,
   "id": "06720e82-7c9b-4aaf-a27d-d629f013aed3",
   "metadata": {},
   "outputs": [],
   "source": []
  }
 ],
 "metadata": {
  "kernelspec": {
   "display_name": "Python 3 (ipykernel)",
   "language": "python",
   "name": "python3"
  },
  "language_info": {
   "codemirror_mode": {
    "name": "ipython",
    "version": 3
   },
   "file_extension": ".py",
   "mimetype": "text/x-python",
   "name": "python",
   "nbconvert_exporter": "python",
   "pygments_lexer": "ipython3",
   "version": "3.11.5"
  }
 },
 "nbformat": 4,
 "nbformat_minor": 5
}
