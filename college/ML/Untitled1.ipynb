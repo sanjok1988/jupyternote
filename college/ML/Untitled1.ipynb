{
 "cells": [
  {
   "cell_type": "code",
   "execution_count": 1,
   "id": "89164a26-30bd-42fa-a368-19c1a0a97569",
   "metadata": {
    "tags": []
   },
   "outputs": [
    {
     "name": "stdout",
     "output_type": "stream",
     "text": [
      "Parameters (theta): [100.64127764 632.67408585 -70.44948692 153.35640989]\n"
     ]
    }
   ],
   "source": [
    "import numpy as np\n",
    "import pandas as pd\n",
    "\n",
    "# Create a DataFrame with age, children, BMI, and charges\n",
    "data = {\n",
    "    'age': [19, 33, 46, 60],\n",
    "    'children': [0, 1, 2, 0],\n",
    "    'bmi': [27.9, 33.8, 22.7, 33],\n",
    "    'charges': [100, 1726, 4449, 3867]\n",
    "}\n",
    "\n",
    "df = pd.DataFrame(data)\n",
    "\n",
    "# Set up the feature matrix X and target variable y\n",
    "X_train = df[['age', 'children', 'bmi']]\n",
    "y_train = df['charges']\n",
    "\n",
    "# Add a column of ones to X_train for the intercept term\n",
    "X_train['intercept'] = 1\n",
    "\n",
    "# Calculate parameters using the normal equation\n",
    "X_transpose = np.transpose(X_train)\n",
    "X_transpose_X = np.dot(X_transpose, X_train)\n",
    "X_transpose_X_inv = np.linalg.inv(X_transpose_X)\n",
    "X_transpose_y = np.dot(X_transpose, y_train)\n",
    "theta = np.dot(X_transpose_X_inv, X_transpose_y)\n",
    "\n",
    "print(\"Parameters (theta):\", theta)\n"
   ]
  },
  {
   "cell_type": "code",
   "execution_count": null,
   "id": "efa557ac-e98a-44cc-ad8b-7e796bfdb32a",
   "metadata": {},
   "outputs": [],
   "source": []
  }
 ],
 "metadata": {
  "kernelspec": {
   "display_name": "Python 3 (ipykernel)",
   "language": "python",
   "name": "python3"
  },
  "language_info": {
   "codemirror_mode": {
    "name": "ipython",
    "version": 3
   },
   "file_extension": ".py",
   "mimetype": "text/x-python",
   "name": "python",
   "nbconvert_exporter": "python",
   "pygments_lexer": "ipython3",
   "version": "3.11.5"
  }
 },
 "nbformat": 4,
 "nbformat_minor": 5
}
