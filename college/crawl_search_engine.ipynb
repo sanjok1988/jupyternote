{
 "cells": [
  {
   "cell_type": "markdown",
   "id": "35dc48af-6cf2-4e7a-a235-24bc20799e09",
   "metadata": {
    "tags": []
   },
   "source": [
    "### Crawler and search system"
   ]
  },
  {
   "cell_type": "code",
   "execution_count": 4,
   "id": "f9d3a174-de80-43f4-8499-15ed4e13c477",
   "metadata": {
    "tags": []
   },
   "outputs": [],
   "source": [
    "import os\n",
    "import requests\n",
    "from bs4 import BeautifulSoup \n",
    "from whoosh.fields import Schema, TEXT, KEYWORD, ID, STORED\n",
    "from whoosh.index import create_in, open_dir\n",
    "from urllib.parse import urljoin\n",
    "from whoosh.qparser import QueryParser\n",
    "from whoosh import scoring"
   ]
  },
  {
   "cell_type": "code",
   "execution_count": 5,
   "id": "b9b2adfb-41dd-4d79-9816-3e1fafb76f34",
   "metadata": {
    "tags": []
   },
   "outputs": [],
   "source": [
    "BASE_URL = \"https://pureportal.coventry.ac.uk/en/organisations/ihw-centre-for-health-and-life-sciences-chls/publications/\"\n",
    "INDEX_PATH = \"storage\""
   ]
  },
  {
   "cell_type": "code",
   "execution_count": 6,
   "id": "58469107-192d-4213-bcee-c2492e440988",
   "metadata": {
    "tags": []
   },
   "outputs": [],
   "source": [
    "\n",
    "def crawl():\n",
    "    response = requests.get(BASE_URL)\n",
    "    soup = BeautifulSoup(response.text, \"html.parser\")\n",
    "                         \n",
    "    schema = Schema(title=TEXT(stored=True), authors=TEXT(stored=True), year=ID(stored=True),publication_url=ID(stored=True, unique=True))\n",
    "                         \n",
    "    if not os.path.exists(INDEX_PATH):\n",
    "        os.mkdir(INDEX_PATH)\n",
    "                         \n",
    "    ix = create_in(INDEX_PATH, schema)\n",
    "    writer = ix.writer()\n",
    "                         \n",
    "    # Extract publication information\n",
    "    for publication_div in soup.find_all('div', class_='result-container'):\n",
    "        title = publication_div.find('h3', class_='title')\n",
    "        title = title.text.strip()\n",
    "                         \n",
    "                         \n",
    "        authors_tags = publication_div.find_all('span')\n",
    "        authors = [author.text.strip() for author in authors_tags]\n",
    "                         \n",
    "        year = publication_div.find('span', class_='date')\n",
    "        year = year.text.strip() if year else [\"N/A\"]\n",
    "                         \n",
    "        url = publication_div.find('a', class_='link person')\n",
    "        url = urljoin(BASE_URL, url['href'])\n",
    "                         \n",
    "        writer.add_document(title=title, authors=' ,'.join(authors), year=year, publication_url=url)\n",
    "                         \n",
    "    print(\"commiting please wait\")\n",
    "    writer.commit()\n",
    "    print(\"data download completed\")\n",
    "\n",
    "                         "
   ]
  },
  {
   "cell_type": "code",
   "execution_count": 7,
   "id": "cfee88a1-8104-4607-8d94-a6e273047b03",
   "metadata": {
    "tags": []
   },
   "outputs": [
    {
     "ename": "TypeError",
     "evalue": "'NoneType' object is not subscriptable",
     "output_type": "error",
     "traceback": [
      "\u001b[0;31m---------------------------------------------------------------------------\u001b[0m",
      "\u001b[0;31mTypeError\u001b[0m                                 Traceback (most recent call last)",
      "Cell \u001b[0;32mIn[7], line 1\u001b[0m\n\u001b[0;32m----> 1\u001b[0m crawl()\n",
      "Cell \u001b[0;32mIn[6], line 26\u001b[0m, in \u001b[0;36mcrawl\u001b[0;34m()\u001b[0m\n\u001b[1;32m     23\u001b[0m     year \u001b[38;5;241m=\u001b[39m year\u001b[38;5;241m.\u001b[39mtext\u001b[38;5;241m.\u001b[39mstrip() \u001b[38;5;28;01mif\u001b[39;00m year \u001b[38;5;28;01melse\u001b[39;00m [\u001b[38;5;124m\"\u001b[39m\u001b[38;5;124mN/A\u001b[39m\u001b[38;5;124m\"\u001b[39m]\n\u001b[1;32m     25\u001b[0m     url \u001b[38;5;241m=\u001b[39m publication_div\u001b[38;5;241m.\u001b[39mfind(\u001b[38;5;124m'\u001b[39m\u001b[38;5;124ma\u001b[39m\u001b[38;5;124m'\u001b[39m, class_\u001b[38;5;241m=\u001b[39m\u001b[38;5;124m'\u001b[39m\u001b[38;5;124mlink person\u001b[39m\u001b[38;5;124m'\u001b[39m)\n\u001b[0;32m---> 26\u001b[0m     url \u001b[38;5;241m=\u001b[39m urljoin(BASE_URL, url[\u001b[38;5;124m'\u001b[39m\u001b[38;5;124mhref\u001b[39m\u001b[38;5;124m'\u001b[39m])\n\u001b[1;32m     28\u001b[0m     writer\u001b[38;5;241m.\u001b[39madd_document(title\u001b[38;5;241m=\u001b[39mtitle, authors\u001b[38;5;241m=\u001b[39m\u001b[38;5;124m'\u001b[39m\u001b[38;5;124m ,\u001b[39m\u001b[38;5;124m'\u001b[39m\u001b[38;5;241m.\u001b[39mjoin(authors), year\u001b[38;5;241m=\u001b[39myear, publication_url\u001b[38;5;241m=\u001b[39murl)\n\u001b[1;32m     30\u001b[0m \u001b[38;5;28mprint\u001b[39m(\u001b[38;5;124m\"\u001b[39m\u001b[38;5;124mcommiting please wait\u001b[39m\u001b[38;5;124m\"\u001b[39m)\n",
      "\u001b[0;31mTypeError\u001b[0m: 'NoneType' object is not subscriptable"
     ]
    }
   ],
   "source": [
    "crawl()"
   ]
  },
  {
   "cell_type": "code",
   "execution_count": null,
   "id": "c4bcae76-5180-4005-b547-cc98c9a97699",
   "metadata": {
    "tags": []
   },
   "outputs": [],
   "source": [
    "def search(query):\n",
    "    ix = open_dir(INDEX_PATH)\n",
    "    \n",
    "    with ix.searcher(weighting=scoring.TF_IDF()) as searcher:\n",
    "        query_parser = QueryParser(\"title\", ix.schema)\n",
    "        query = query_parser.parse(query)\n",
    "        results = searcher.search(query, terms=True)\n",
    "        \n",
    "        for result in results:\n",
    "            # print(result)\n",
    "            print(f\"Title: {result['title']}\")\n",
    "            print(f\"Authors: {result['authors']}\")\n",
    "            print(f\"Publication Date: {result['year']}\")\n",
    "            print(f\"Publication URL: {result['publication_url']}\")\n",
    "            print(\"\\n\")"
   ]
  },
  {
   "cell_type": "code",
   "execution_count": 55,
   "id": "09a3e34f-1abb-4d08-b4f1-6bd1c41f83bc",
   "metadata": {
    "tags": []
   },
   "outputs": [
    {
     "name": "stdin",
     "output_type": "stream",
     "text": [
      "Enter your query: Barriers\n"
     ]
    },
    {
     "name": "stdout",
     "output_type": "stream",
     "text": [
      "Title: Barriers and Facilitators to Participation and Key Components of Sleep Health Programs: perspectives for the corporate work environment\n",
      "Authors: Barriers and Facilitators to Participation and Key Components of Sleep Health Programs: perspectives for the corporate work environment ,Pienaar, P. R. ,Bosma, A. ,Rae, D. E. ,Roden, L. ,van Mechelen, W. ,Lambert, E. V. ,Boot, C. R. L. ,1 Jan 2024 ,In: Journal of Occupational and Environmental Medicine. ,Journal of Occupational and Environmental Medicine. ,66 ,1 ,p. 35-42 ,8 p. ,Research output: ,: ,Contribution to journal › ,› ,Article ,› peer-review ,› ,Health\n",
      "100% , ,Health ,100% ,Sleep\n",
      "100% , ,Sleep ,100% ,Health Program\n",
      "100% , ,Health Program ,100% ,Work Environment\n",
      "100% , ,Work Environment ,100% ,Workplace\n",
      "75% , ,Workplace ,75%\n",
      "Publication Date: 1 Jan 2024\n",
      "Publication URL: https://pureportal.coventry.ac.uk/en/persons/laura-roden\n",
      "\n",
      "\n"
     ]
    }
   ],
   "source": [
    "user_query = input(\"Enter your query:\")\n",
    "search(user_query)"
   ]
  },
  {
   "cell_type": "code",
   "execution_count": null,
   "id": "587e6378-1e1b-4a3d-a0f5-27d43e5aa829",
   "metadata": {},
   "outputs": [],
   "source": []
  }
 ],
 "metadata": {
  "kernelspec": {
   "display_name": "Python 3 (ipykernel)",
   "language": "python",
   "name": "python3"
  },
  "language_info": {
   "codemirror_mode": {
    "name": "ipython",
    "version": 3
   },
   "file_extension": ".py",
   "mimetype": "text/x-python",
   "name": "python",
   "nbconvert_exporter": "python",
   "pygments_lexer": "ipython3",
   "version": "3.11.5"
  }
 },
 "nbformat": 4,
 "nbformat_minor": 5
}
