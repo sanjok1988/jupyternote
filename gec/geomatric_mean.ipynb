{
 "cells": [
  {
   "cell_type": "code",
   "execution_count": 14,
   "id": "76d73084-25a6-4977-ac00-df1ea74c5d68",
   "metadata": {
    "tags": []
   },
   "outputs": [],
   "source": [
    "from scipy.stats import gmean\n",
    "import pandas as pd"
   ]
  },
  {
   "cell_type": "code",
   "execution_count": 21,
   "id": "614f4ab1-85c2-4351-a771-c0abe9de72cb",
   "metadata": {
    "tags": []
   },
   "outputs": [
    {
     "name": "stdout",
     "output_type": "stream",
     "text": [
      "<class 'pandas.core.frame.DataFrame'>\n",
      "RangeIndex: 40201 entries, 0 to 40200\n",
      "Data columns (total 5 columns):\n",
      " #   Column      Non-Null Count  Dtype  \n",
      "---  ------      --------------  -----  \n",
      " 0   user_id     40201 non-null  int64  \n",
      " 1   group_id    40201 non-null  int64  \n",
      " 2   lesson_id   40201 non-null  int64  \n",
      " 3   skill_type  40201 non-null  object \n",
      " 4   value       40201 non-null  float64\n",
      "dtypes: float64(1), int64(3), object(1)\n",
      "memory usage: 1.5+ MB\n",
      "None\n"
     ]
    }
   ],
   "source": [
    "file = 'data/cefr_data.csv'\n",
    "data = pd.read_csv(file)\n",
    "print(data.info())"
   ]
  },
  {
   "cell_type": "code",
   "execution_count": 22,
   "id": "f589da9c-b9b2-4799-b607-e78954e812df",
   "metadata": {
    "tags": []
   },
   "outputs": [
    {
     "name": "stdout",
     "output_type": "stream",
     "text": [
      "Grouped data by user_id:\n",
      "user_id\n",
      "7       194\n",
      "9       305\n",
      "10       34\n",
      "60        4\n",
      "61        3\n",
      "       ... \n",
      "2460      3\n",
      "2470     10\n",
      "2475      3\n",
      "2493      4\n",
      "2494     31\n",
      "Length: 665, dtype: int64\n"
     ]
    }
   ],
   "source": [
    "grouped_data = data.groupby('user_id').size()\n",
    "\n",
    "# Print the grouped data\n",
    "print(\"Grouped data by user_id:\")\n",
    "print(grouped_data)"
   ]
  },
  {
   "cell_type": "code",
   "execution_count": 25,
   "id": "c73f82a0-1cb3-4644-b216-809f4793d36b",
   "metadata": {
    "tags": []
   },
   "outputs": [
    {
     "name": "stdout",
     "output_type": "stream",
     "text": [
      "user_id\n",
      "7        0.000000\n",
      "9        0.000000\n",
      "10       0.000000\n",
      "60      24.997500\n",
      "61      25.000000\n",
      "          ...    \n",
      "2460    61.655302\n",
      "2470     0.000000\n",
      "2475    54.084359\n",
      "2493    40.296372\n",
      "2494    86.008732\n",
      "Name: value, Length: 665, dtype: float64\n"
     ]
    }
   ],
   "source": [
    "grouped_gmean = data.groupby('user_id')['value'].apply(gmean)\n",
    "print(grouped_gmean.head()"
   ]
  },
  {
   "cell_type": "markdown",
   "id": "980ea6cd-507a-48da-ae23-3405f33fe078",
   "metadata": {},
   "source": [
    "# Filter data for user_id=2494 and group_id=1697"
   ]
  },
  {
   "cell_type": "code",
   "execution_count": 27,
   "id": "a2e4bbd9-0ecc-4adf-bda8-29d8165afc16",
   "metadata": {
    "tags": []
   },
   "outputs": [
    {
     "name": "stdout",
     "output_type": "stream",
     "text": [
      "Geometric mean of values for user_id=2494 and group_id=1697:\n",
      "group_id  user_id\n",
      "1697      2494       86.008732\n",
      "Name: value, dtype: float64\n"
     ]
    }
   ],
   "source": [
    "# Filter data for user_id=2494 and group_id=1697\n",
    "filtered_data = data.query('user_id == 2494 and group_id == 1697')\n",
    "\n",
    "# Group by group_id and user_id, then calculate geometric mean of values\n",
    "grouped_data = filtered_data.groupby(['group_id', 'user_id'])['value'].apply(gmean)\n",
    "\n",
    "# Print the grouped data\n",
    "print(\"Geometric mean of values for user_id=2494 and group_id=1697:\")\n",
    "print(grouped_data)\n"
   ]
  },
  {
   "cell_type": "code",
   "execution_count": 32,
   "id": "c375f7d6-0055-46c9-8937-18daf5a410da",
   "metadata": {
    "tags": []
   },
   "outputs": [
    {
     "name": "stdout",
     "output_type": "stream",
     "text": [
      "                  count       mean        std    min      25%     50%     75%  \\\n",
      "group_id user_id                                                                \n",
      "1165     74        13.0  35.865385  14.691643  16.67  25.0000  25.000  50.000   \n",
      "         148        4.0  61.457500  10.417000  50.00  56.2475  60.415  65.625   \n",
      "         1162     122.0  60.481885  24.511429  12.50  41.6700  61.460  83.330   \n",
      "         1174     119.0  66.846807  23.673482  15.00  50.0000  68.750  87.020   \n",
      "         1175      97.0  52.639072  24.507607  12.50  33.3300  50.000  70.830   \n",
      "         1176     119.0  62.631008  23.676229  10.00  41.6700  66.670  83.330   \n",
      "         1177     114.0  55.503509  24.215622   0.00  35.9400  52.080  75.000   \n",
      "         1178      86.0  60.449070  22.082310  16.67  44.4225  60.415  78.750   \n",
      "\n",
      "                     max  \n",
      "group_id user_id          \n",
      "1165     74        58.33  \n",
      "         148       75.00  \n",
      "         1162     100.00  \n",
      "         1174     100.00  \n",
      "         1175     100.00  \n",
      "         1176     100.00  \n",
      "         1177     100.00  \n",
      "         1178     100.00  \n",
      "group_id  user_id\n",
      "1165      74         33.105758\n",
      "          148        60.806613\n",
      "          1162       54.562094\n",
      "          1174       61.637980\n",
      "          1175       46.638366\n",
      "          1176       57.239845\n",
      "          1177        0.000000\n",
      "          1178       55.738108\n",
      "Name: value, dtype: float64\n"
     ]
    }
   ],
   "source": [
    "classroom_data = data.query('group_id==1165')\n",
    "classroom_result = classroom_data.groupby(['group_id', 'user_id'])['value'].apply(gmean)\n",
    "stats = classroom_data.groupby(['group_id', 'user_id'])['value'].describe()\n",
    "print(stats)\n",
    "print(classroom_result)"
   ]
  },
  {
   "cell_type": "code",
   "execution_count": null,
   "id": "0f26ef5b-037e-4646-b331-5cb869e926ba",
   "metadata": {},
   "outputs": [],
   "source": []
  }
 ],
 "metadata": {
  "kernelspec": {
   "display_name": "Python 3 (ipykernel)",
   "language": "python",
   "name": "python3"
  },
  "language_info": {
   "codemirror_mode": {
    "name": "ipython",
    "version": 3
   },
   "file_extension": ".py",
   "mimetype": "text/x-python",
   "name": "python",
   "nbconvert_exporter": "python",
   "pygments_lexer": "ipython3",
   "version": "3.11.5"
  }
 },
 "nbformat": 4,
 "nbformat_minor": 5
}
