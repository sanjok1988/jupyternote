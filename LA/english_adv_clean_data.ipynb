{
 "cells": [
  {
   "cell_type": "code",
   "execution_count": 2,
   "id": "897950ae-043f-4a17-af4f-326be921d291",
   "metadata": {
    "tags": []
   },
   "outputs": [],
   "source": [
    "import numpy as np\n",
    "import pandas as pd"
   ]
  },
  {
   "cell_type": "code",
   "execution_count": 3,
   "id": "46d5e560-aa5c-4ff2-9a2d-5751282e0dff",
   "metadata": {
    "tags": []
   },
   "outputs": [
    {
     "ename": "KeyError",
     "evalue": "\"['product'] not in index\"",
     "output_type": "error",
     "traceback": [
      "\u001b[0;31m---------------------------------------------------------------------------\u001b[0m",
      "\u001b[0;31mKeyError\u001b[0m                                  Traceback (most recent call last)",
      "Cell \u001b[0;32mIn[3], line 2\u001b[0m\n\u001b[1;32m      1\u001b[0m df \u001b[38;5;241m=\u001b[39m pd\u001b[38;5;241m.\u001b[39mread_csv(\u001b[38;5;124m'\u001b[39m\u001b[38;5;124moutput/english_advantage.csv\u001b[39m\u001b[38;5;124m'\u001b[39m)\n\u001b[0;32m----> 2\u001b[0m data \u001b[38;5;241m=\u001b[39m df[[\u001b[38;5;124m'\u001b[39m\u001b[38;5;124mstudent_id\u001b[39m\u001b[38;5;124m'\u001b[39m,\u001b[38;5;124m'\u001b[39m\u001b[38;5;124mproduct\u001b[39m\u001b[38;5;124m'\u001b[39m,\u001b[38;5;124m'\u001b[39m\u001b[38;5;124mskill\u001b[39m\u001b[38;5;124m'\u001b[39m,\u001b[38;5;124m'\u001b[39m\u001b[38;5;124mlevel\u001b[39m\u001b[38;5;124m'\u001b[39m]]\n\u001b[1;32m      4\u001b[0m data\u001b[38;5;241m.\u001b[39mhead(\u001b[38;5;241m12\u001b[39m)\n",
      "File \u001b[0;32m~/anaconda3/lib/python3.11/site-packages/pandas/core/frame.py:3767\u001b[0m, in \u001b[0;36mDataFrame.__getitem__\u001b[0;34m(self, key)\u001b[0m\n\u001b[1;32m   3765\u001b[0m     \u001b[38;5;28;01mif\u001b[39;00m is_iterator(key):\n\u001b[1;32m   3766\u001b[0m         key \u001b[38;5;241m=\u001b[39m \u001b[38;5;28mlist\u001b[39m(key)\n\u001b[0;32m-> 3767\u001b[0m     indexer \u001b[38;5;241m=\u001b[39m \u001b[38;5;28mself\u001b[39m\u001b[38;5;241m.\u001b[39mcolumns\u001b[38;5;241m.\u001b[39m_get_indexer_strict(key, \u001b[38;5;124m\"\u001b[39m\u001b[38;5;124mcolumns\u001b[39m\u001b[38;5;124m\"\u001b[39m)[\u001b[38;5;241m1\u001b[39m]\n\u001b[1;32m   3769\u001b[0m \u001b[38;5;66;03m# take() does not accept boolean indexers\u001b[39;00m\n\u001b[1;32m   3770\u001b[0m \u001b[38;5;28;01mif\u001b[39;00m \u001b[38;5;28mgetattr\u001b[39m(indexer, \u001b[38;5;124m\"\u001b[39m\u001b[38;5;124mdtype\u001b[39m\u001b[38;5;124m\"\u001b[39m, \u001b[38;5;28;01mNone\u001b[39;00m) \u001b[38;5;241m==\u001b[39m \u001b[38;5;28mbool\u001b[39m:\n",
      "File \u001b[0;32m~/anaconda3/lib/python3.11/site-packages/pandas/core/indexes/base.py:5877\u001b[0m, in \u001b[0;36mIndex._get_indexer_strict\u001b[0;34m(self, key, axis_name)\u001b[0m\n\u001b[1;32m   5874\u001b[0m \u001b[38;5;28;01melse\u001b[39;00m:\n\u001b[1;32m   5875\u001b[0m     keyarr, indexer, new_indexer \u001b[38;5;241m=\u001b[39m \u001b[38;5;28mself\u001b[39m\u001b[38;5;241m.\u001b[39m_reindex_non_unique(keyarr)\n\u001b[0;32m-> 5877\u001b[0m \u001b[38;5;28mself\u001b[39m\u001b[38;5;241m.\u001b[39m_raise_if_missing(keyarr, indexer, axis_name)\n\u001b[1;32m   5879\u001b[0m keyarr \u001b[38;5;241m=\u001b[39m \u001b[38;5;28mself\u001b[39m\u001b[38;5;241m.\u001b[39mtake(indexer)\n\u001b[1;32m   5880\u001b[0m \u001b[38;5;28;01mif\u001b[39;00m \u001b[38;5;28misinstance\u001b[39m(key, Index):\n\u001b[1;32m   5881\u001b[0m     \u001b[38;5;66;03m# GH 42790 - Preserve name from an Index\u001b[39;00m\n",
      "File \u001b[0;32m~/anaconda3/lib/python3.11/site-packages/pandas/core/indexes/base.py:5941\u001b[0m, in \u001b[0;36mIndex._raise_if_missing\u001b[0;34m(self, key, indexer, axis_name)\u001b[0m\n\u001b[1;32m   5938\u001b[0m     \u001b[38;5;28;01mraise\u001b[39;00m \u001b[38;5;167;01mKeyError\u001b[39;00m(\u001b[38;5;124mf\u001b[39m\u001b[38;5;124m\"\u001b[39m\u001b[38;5;124mNone of [\u001b[39m\u001b[38;5;132;01m{\u001b[39;00mkey\u001b[38;5;132;01m}\u001b[39;00m\u001b[38;5;124m] are in the [\u001b[39m\u001b[38;5;132;01m{\u001b[39;00maxis_name\u001b[38;5;132;01m}\u001b[39;00m\u001b[38;5;124m]\u001b[39m\u001b[38;5;124m\"\u001b[39m)\n\u001b[1;32m   5940\u001b[0m not_found \u001b[38;5;241m=\u001b[39m \u001b[38;5;28mlist\u001b[39m(ensure_index(key)[missing_mask\u001b[38;5;241m.\u001b[39mnonzero()[\u001b[38;5;241m0\u001b[39m]]\u001b[38;5;241m.\u001b[39munique())\n\u001b[0;32m-> 5941\u001b[0m \u001b[38;5;28;01mraise\u001b[39;00m \u001b[38;5;167;01mKeyError\u001b[39;00m(\u001b[38;5;124mf\u001b[39m\u001b[38;5;124m\"\u001b[39m\u001b[38;5;132;01m{\u001b[39;00mnot_found\u001b[38;5;132;01m}\u001b[39;00m\u001b[38;5;124m not in index\u001b[39m\u001b[38;5;124m\"\u001b[39m)\n",
      "\u001b[0;31mKeyError\u001b[0m: \"['product'] not in index\""
     ]
    }
   ],
   "source": [
    "df = pd.read_csv('output/english_advantage.csv')\n",
    "data = df[['student_id','product','skill','level']]\n",
    "\n",
    "data.head(12)"
   ]
  },
  {
   "cell_type": "code",
   "execution_count": 18,
   "id": "7b4ec219-49e0-4054-bacd-6933204cafff",
   "metadata": {
    "tags": []
   },
   "outputs": [
    {
     "name": "stdout",
     "output_type": "stream",
     "text": [
      "['Level 2' 'Level 3' 'Level 1' 'Level 4' 'Level 5' 'Level 6' 'Level 0'\n",
      " 'Level 7' 'Level 8' 'Level 9' 'Level 10']\n"
     ]
    }
   ],
   "source": [
    "unique_level = df['level'].unique()\n",
    "print(unique_level)"
   ]
  },
  {
   "cell_type": "code",
   "execution_count": 20,
   "id": "1baaf2d1-5509-41e7-ab77-c260d7694813",
   "metadata": {
    "tags": []
   },
   "outputs": [
    {
     "name": "stdout",
     "output_type": "stream",
     "text": [
      "before cleaning:  1713\n",
      "after cleaning:  1618\n",
      "       student_id                                      product  \\\n",
      "0     L0603207052      【販売停止】【e-text】English Advantage Ｌｅｖｅｌ 2   \n",
      "1     L0603207052      【販売停止】【e-text】English Advantage Ｌｅｖｅｌ 3   \n",
      "2     L0603207052  【販売停止】【e-text】【BC】English Advantage Ｌｅｖｅｌ 1   \n",
      "3     L0603207052            【e-text】English Advantage Ｌｅｖｅｌ 3   \n",
      "4     L0603207052            【e-text】English Advantage Ｌｅｖｅｌ 4   \n",
      "...           ...                                          ...   \n",
      "1708  L2401804518            【e-text】English Advantage Ｌｅｖｅｌ 5   \n",
      "1709  L2401805192            【e-text】English Advantage Ｌｅｖｅｌ 4   \n",
      "1710  L2401805205        【e-text】【BC】English Advantage Ｌｅｖｅｌ 1   \n",
      "1711  L2401806195            【e-text】English Advantage Ｌｅｖｅｌ 3   \n",
      "1712  L2401807427            【e-text】English Advantage Ｌｅｖｅｌ 2   \n",
      "\n",
      "                skill    level  class_id  \n",
      "0     General English  Level 2      1729  \n",
      "1     General English  Level 3      1730  \n",
      "2     General English  Level 1      1728  \n",
      "3     General English  Level 3      1730  \n",
      "4     General English  Level 4      1731  \n",
      "...               ...      ...       ...  \n",
      "1708  General English  Level 5      1732  \n",
      "1709  General English  Level 4      1731  \n",
      "1710  General English  Level 1      1728  \n",
      "1711  General English  Level 3      1730  \n",
      "1712  General English  Level 2      1729  \n",
      "\n",
      "[1618 rows x 5 columns]\n"
     ]
    }
   ],
   "source": [
    "gec_classrooms = {\n",
    "    'Level 0': 1738,\n",
    "    'Level 1': 1728,\n",
    "    'Level 2': 1729,\n",
    "    'Level 3': 1730,\n",
    "    'Level 4': 1731,\n",
    "    'Level 5': 1732,\n",
    "    'Level 6': 1733,\n",
    "    'Level 7': 1734,\n",
    "    'Level 8': 1735,\n",
    "    'Level 9': 1736,\n",
    "    'Level 10': 1737\n",
    "}\n",
    "\n",
    "# Add a new column 'class_id' to the DataFrame based on the 'level' column\n",
    "# data['class_id'] = data['level'].map(gec_classrooms)\n",
    "data.loc[:, 'class_id'] = data['level'].map(gec_classrooms)\n",
    "print(\"before cleaning: \", len(data))\n",
    "data = data.drop_duplicates()\n",
    "print(\"after cleaning: \", len(data))\n",
    "print(data)"
   ]
  },
  {
   "cell_type": "code",
   "execution_count": 21,
   "id": "2a01afd3-c06d-45ce-96a4-fd19a77c2070",
   "metadata": {
    "tags": []
   },
   "outputs": [],
   "source": [
    "data.to_csv('output/english_advantage_gec_clean_data.csv', index=False)"
   ]
  },
  {
   "cell_type": "code",
   "execution_count": null,
   "id": "0e607928-80ab-4f3c-ae73-bac7928405fc",
   "metadata": {},
   "outputs": [],
   "source": []
  }
 ],
 "metadata": {
  "kernelspec": {
   "display_name": "Python 3 (ipykernel)",
   "language": "python",
   "name": "python3"
  },
  "language_info": {
   "codemirror_mode": {
    "name": "ipython",
    "version": 3
   },
   "file_extension": ".py",
   "mimetype": "text/x-python",
   "name": "python",
   "nbconvert_exporter": "python",
   "pygments_lexer": "ipython3",
   "version": "3.11.5"
  }
 },
 "nbformat": 4,
 "nbformat_minor": 5
}
