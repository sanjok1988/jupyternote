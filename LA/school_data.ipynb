{
 "cells": [
  {
   "cell_type": "code",
   "execution_count": 28,
   "id": "b1c2d1f2-782f-46a7-b8a3-e871acd97769",
   "metadata": {
    "tags": []
   },
   "outputs": [
    {
     "name": "stdout",
     "output_type": "stream",
     "text": [
      "['Student number', 'Surname', 'given name', 'Name kana (last name)', 'Name in kana (first name)', 'Contract date', 'Course end date', 'Contract number', 'status', 'Contract line number', 'Subject/test/product name', 'Number of lessons after discount', 'Remaining number of courses', 'skill', 'level', 'Current school building: School building code', 'Current school building: Name']\n",
      "    student_id first_name last_name        contract_date             end_date  \\\n",
      "1  L0410300002         松田        幸子  2017-09-15 00:00:00  2018-04-28 00:00:00   \n",
      "2  L0601106753         田村        優佳  2017-10-17 00:00:00  2018-02-11 00:00:00   \n",
      "3  L0603204834        佐々木        武之  2018-09-27 00:00:00  2019-05-16 00:00:00   \n",
      "4  L0603206616         三吉        麗子  2018-11-23 00:00:00  2019-05-27 00:00:00   \n",
      "5  L0603207052         吉田        正敏  2020-08-28 00:00:00  2023-02-16 00:00:00   \n",
      "\n",
      "   status                                      product            skill  \\\n",
      "1  4：契約満了              【販売停止】English Advantage Ｌｅｖｅｌ 4  General English   \n",
      "2  5：受講修了              【販売停止】English Advantage Ｌｅｖｅｌ 3  General English   \n",
      "3  5：受講修了           【販売停止】English Advantage Foundation  General English   \n",
      "4  5：受講修了           【販売停止】English Advantage Foundation  General English   \n",
      "5  5：受講修了  【販売停止】【e-text】【BC】English Advantage Ｌｅｖｅｌ 1  General English   \n",
      "\n",
      "     level school_code school_name  \n",
      "1  Level 4         406        鹿児島校  \n",
      "2  Level 3          42        紙屋町校  \n",
      "3  Level 0         102      富士宮駅前校  \n",
      "4  Level 0         241   イオンモール扶桑校  \n",
      "5  Level 1         176      マーサ21校  \n"
     ]
    }
   ],
   "source": [
    "import pandas as pd\n",
    "\n",
    "# Replace 'your_file.xlsx' with the path to your Excel file\n",
    "file_path = 'data/schools.xlsx'\n",
    "\n",
    "# Read the Excel file into a pandas DataFrame\n",
    "df = pd.read_excel(file_path)\n",
    "df = df.drop(0)\n",
    "\n",
    "# List column names\n",
    "column_names = df.columns.tolist()\n",
    "\n",
    "# Display column names\n",
    "print(column_names)\n",
    "\n",
    "df = df.drop(columns=['Name kana (last name)','Name in kana (first name)','Contract number','Contract line number',\n",
    "                     'Number of lessons after discount','Remaining number of courses'\n",
    "                     ])\n",
    "\n",
    "# # Rename a column (replace 'old_column_name' and 'new_column_name' with actual names)\n",
    "df = df.rename(columns={'Student number': 'student_id','Surname':'first_name','given name':'last_name',\n",
    "                        'Contract date':'contract_date',\n",
    "                        'Course end date':'end_date',\n",
    "                        'Subject/test/product name':'product', \n",
    "                         'Current school building: School building code':'school_code',\n",
    "                        'Current school building: Name':'school_name'\n",
    "                       })\n",
    "# Display the DataFrame\n",
    "print(df.head())"
   ]
  },
  {
   "cell_type": "markdown",
   "id": "2a51ea72-581f-4db7-8e67-9baa9375310b",
   "metadata": {},
   "source": [
    "# explore data"
   ]
  },
  {
   "cell_type": "code",
   "execution_count": 14,
   "id": "2b81c43f-3543-4aed-921b-6c480028d47b",
   "metadata": {
    "tags": []
   },
   "outputs": [],
   "source": [
    "# # Get unique values for each column\n",
    "# unique_values_all_columns = {}\n",
    "# for column in df.columns:\n",
    "#     unique_values_all_columns[column] = df[column].unique()\n",
    "\n",
    "# # Display unique values for each column\n",
    "# for column, unique_values in unique_values_all_columns.items():\n",
    "#     print(f\"Unique values in column '{column}':\")\n",
    "#     print(unique_values)\n",
    "#     print()"
   ]
  },
  {
   "cell_type": "code",
   "execution_count": 29,
   "id": "309332b6-f92f-40b3-ba13-ee465c2a40f8",
   "metadata": {
    "tags": []
   },
   "outputs": [
    {
     "name": "stdout",
     "output_type": "stream",
     "text": [
      "Count of unique values in each column:\n",
      "student_id       4217\n",
      "first_name       2001\n",
      "last_name        2816\n",
      "contract_date    1996\n",
      "end_date         1930\n",
      "status              5\n",
      "product           185\n",
      "skill               4\n",
      "level              11\n",
      "school_code       115\n",
      "school_name       115\n",
      "dtype: int64\n"
     ]
    }
   ],
   "source": [
    "# Get the count of unique values for each column\n",
    "unique_counts_all_columns = df.nunique()\n",
    "\n",
    "# Display the count of unique values for each column\n",
    "print(\"Count of unique values in each column:\")\n",
    "print(unique_counts_all_columns)"
   ]
  },
  {
   "cell_type": "code",
   "execution_count": 30,
   "id": "f43634cf-35cf-478e-bc12-aa7ae82393c5",
   "metadata": {},
   "outputs": [
    {
     "name": "stdout",
     "output_type": "stream",
     "text": [
      "       first_name  last_name  count\n",
      "1             Kim  Changhwan      4\n",
      "2             あつみ       みつひと      3\n",
      "4             アレン         恒美      3\n",
      "5     オーサム株式会社　堀口         康弘     15\n",
      "6             チョウ        スジン      2\n",
      "...           ...        ...    ...\n",
      "4183           齋藤         弘和      2\n",
      "4184           齋藤         晴美      2\n",
      "4185           齋藤         有人      4\n",
      "4187           齋藤         由依      3\n",
      "4188           齋藤         陽一      4\n",
      "\n",
      "[2160 rows x 3 columns]\n",
      "Total count of duplicate combinations of first names and last names: 7879\n"
     ]
    }
   ],
   "source": [
    "# Find and count duplicate combinations of first names and last names\n",
    "duplicate_counts = df.groupby(['first_name', 'last_name']).size().reset_index(name='count')\n",
    "duplicate_counts = duplicate_counts[duplicate_counts['count'] > 1]\n",
    "\n",
    "# Print the duplicate counts\n",
    "print(duplicate_counts)\n",
    "\n",
    "# Calculate the total count of duplicates\n",
    "total_duplicates_count = duplicate_counts['count'].sum()\n",
    "\n",
    "# Print the total count of duplicates\n",
    "print(\"Total count of duplicate combinations of first names and last names:\", total_duplicates_count)"
   ]
  },
  {
   "cell_type": "code",
   "execution_count": 31,
   "id": "6a8dcef0-58aa-4ac4-877d-28bebabbfdcd",
   "metadata": {
    "tags": []
   },
   "outputs": [
    {
     "name": "stdout",
     "output_type": "stream",
     "text": [
      "         student_id first_name last_name        contract_date  \\\n",
      "count          9933       9933      9909                 9933   \n",
      "unique         4217       2001      2816                 1996   \n",
      "top     L2102572435         鈴木        康子  2020-12-29 00:00:00   \n",
      "freq             40        115        63                   49   \n",
      "\n",
      "                   end_date  status                          product  \\\n",
      "count                  8687    9933                             9933   \n",
      "unique                 1930       5                              185   \n",
      "top     2021-06-30 00:00:00  5：受講修了  【販売停止】English Advantage Ｌｅｖｅｌ 1   \n",
      "freq                    268    6954                              672   \n",
      "\n",
      "                  skill    level  school_code school_name  \n",
      "count              9933     9933         9933        9933  \n",
      "unique                4       11          115         115  \n",
      "top     General English  Level 1          160         銀座校  \n",
      "freq               6725     2099          747         747  \n"
     ]
    }
   ],
   "source": [
    "summary = df.describe()\n",
    "\n",
    "# Print the summary statistics\n",
    "print(summary)\n"
   ]
  },
  {
   "cell_type": "code",
   "execution_count": 40,
   "id": "ff66bbf3-6cb0-41e1-9d39-5480af3dcb56",
   "metadata": {
    "tags": []
   },
   "outputs": [
    {
     "name": "stdout",
     "output_type": "stream",
     "text": [
      "115\n"
     ]
    }
   ],
   "source": [
    "school_code = df['school_code'].unique()\n",
    "unique_school_codes_df = df.drop_duplicates(subset=['school_code'])\n",
    "\n",
    "print(len(unique_school_codes_df))\n"
   ]
  },
  {
   "cell_type": "code",
   "execution_count": 44,
   "id": "300b9f03-dca3-49f9-9534-2703e22a34e6",
   "metadata": {
    "tags": []
   },
   "outputs": [
    {
     "name": "stdout",
     "output_type": "stream",
     "text": [
      "                                email school_code     school_name\n",
      "1      LA_406@globalenglishcampus.com         406            鹿児島校\n",
      "2       LA_42@globalenglishcampus.com          42            紙屋町校\n",
      "3      LA_102@globalenglishcampus.com         102          富士宮駅前校\n",
      "4      LA_241@globalenglishcampus.com         241       イオンモール扶桑校\n",
      "5      LA_176@globalenglishcampus.com         176          マーサ21校\n",
      "...                               ...         ...             ...\n",
      "7169  LA_1030@globalenglishcampus.com        1030       西日本オンライン校\n",
      "7187   LA_701@globalenglishcampus.com         701  CloudSchool北海道\n",
      "7673   LA_702@globalenglishcampus.com         702   CloudSchool東北\n",
      "8416   LA_604@globalenglishcampus.com         604     LAI-Online校\n",
      "9843   LA_704@globalenglishcampus.com         704   CloudSchool中部\n",
      "\n",
      "[115 rows x 3 columns]\n",
      "  school_code school_name                           email\n",
      "1         406        鹿児島校  LA_406@globalenglishcampus.com\n",
      "2          42        紙屋町校   LA_42@globalenglishcampus.com\n",
      "3         102      富士宮駅前校  LA_102@globalenglishcampus.com\n",
      "4         241   イオンモール扶桑校  LA_241@globalenglishcampus.com\n",
      "5         176      マーサ21校  LA_176@globalenglishcampus.com\n",
      "     school_code     school_name                            email\n",
      "7169        1030       西日本オンライン校  LA_1030@globalenglishcampus.com\n",
      "7187         701  CloudSchool北海道   LA_701@globalenglishcampus.com\n",
      "7673         702   CloudSchool東北   LA_702@globalenglishcampus.com\n",
      "8416         604     LAI-Online校   LA_604@globalenglishcampus.com\n",
      "9843         704   CloudSchool中部   LA_704@globalenglishcampus.com\n"
     ]
    }
   ],
   "source": [
    "# Add prefix \"LA_\" to each item\n",
    "prefixed_data = [\"LA_\" + str(item) + \"@globalenglishcampus.com\" for item in school_code]\n",
    "\n",
    "# Add 'email' column to the DataFrame\n",
    "unique_school_codes_df['email'] = prefixed_data\n",
    "\n",
    "# Print the DataFrame\n",
    "print(unique_school_codes_df)\n",
    "# Create a DataFrame with the prefixed data\n",
    "unique_school_codes_df = pd.DataFrame(unique_school_codes_df, columns=[\"school_code\",\"school_name\",\"email\"])\n",
    "\n",
    "print(unique_school_codes_df.head())\n",
    "print(unique_school_codes_df.tail())\n"
   ]
  },
  {
   "cell_type": "code",
   "execution_count": 45,
   "id": "4ccb1f8f-113d-405f-bc90-88e371561539",
   "metadata": {
    "tags": []
   },
   "outputs": [],
   "source": [
    "# Write DataFrame to a CSV file\n",
    "school_df.to_csv(\"school_data.csv\", index=False)"
   ]
  },
  {
   "cell_type": "code",
   "execution_count": null,
   "id": "4b568112-b4c1-46e0-ad54-6cfb85bc4cbf",
   "metadata": {},
   "outputs": [],
   "source": []
  }
 ],
 "metadata": {
  "kernelspec": {
   "display_name": "Python 3 (ipykernel)",
   "language": "python",
   "name": "python3"
  },
  "language_info": {
   "codemirror_mode": {
    "name": "ipython",
    "version": 3
   },
   "file_extension": ".py",
   "mimetype": "text/x-python",
   "name": "python",
   "nbconvert_exporter": "python",
   "pygments_lexer": "ipython3",
   "version": "3.11.5"
  }
 },
 "nbformat": 4,
 "nbformat_minor": 5
}
