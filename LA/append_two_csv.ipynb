{
 "cells": [
  {
   "cell_type": "markdown",
   "id": "48c36a86-bf01-419c-8542-bea241638f01",
   "metadata": {},
   "source": [
    "# Classroom Mapping"
   ]
  },
  {
   "cell_type": "code",
   "execution_count": 46,
   "id": "2c8706eb-f367-466b-9183-9eb09ab72812",
   "metadata": {
    "tags": []
   },
   "outputs": [
    {
     "name": "stdout",
     "output_type": "stream",
     "text": [
      "    student_id lastname firstname lastname_long firstname_long Contract date  \\\n",
      "0  L0603207052       吉田        正敏           ヨシダ           マサトシ    2020-08-28   \n",
      "1  L0603207052       吉田        正敏           ヨシダ           マサトシ    2020-08-28   \n",
      "2  L0603207052       吉田        正敏           ヨシダ           マサトシ    2020-08-28   \n",
      "3  L0603207052       吉田        正敏           ヨシダ           マサトシ    2022-07-30   \n",
      "4  L0603207052       吉田        正敏           ヨシダ           マサトシ    2023-07-30   \n",
      "\n",
      "  Course end date Contract number  status Contract line number  \\\n",
      "0      2023-02-16       K02018365  5：受講修了           KM13604720   \n",
      "1      2023-02-16       K02018365  5：受講修了           KM13604723   \n",
      "2      2023-02-16       K02018365  5：受講修了           KM13604708   \n",
      "3      2023-10-12       K02440024  5：受講修了           KM18860131   \n",
      "4      1990-01-01       K02610028  1：契約確定           KM20877260   \n",
      "\n",
      "                     Subject/test/product name  \\\n",
      "0      【販売停止】【e-text】English Advantage Ｌｅｖｅｌ 2   \n",
      "1      【販売停止】【e-text】English Advantage Ｌｅｖｅｌ 3   \n",
      "2  【販売停止】【e-text】【BC】English Advantage Ｌｅｖｅｌ 1   \n",
      "3            【e-text】English Advantage Ｌｅｖｅｌ 3   \n",
      "4            【e-text】English Advantage Ｌｅｖｅｌ 4   \n",
      "\n",
      "   Number of lessons after discount  Remaining number of courses  \\\n",
      "0                                32                            0   \n",
      "1                                32                            0   \n",
      "2                                32                            0   \n",
      "3                                32                            0   \n",
      "4                                32                           22   \n",
      "\n",
      "             skill    level           en_status    month  class_id  \n",
      "0  General English  Level 2   Course completion  2023-02      1751  \n",
      "1  General English  Level 3   Course completion  2023-02      1752  \n",
      "2  General English  Level 1   Course completion  2023-02      1750  \n",
      "3  General English  Level 3   Course completion  2023-10      1752  \n",
      "4  General English  Level 4  Contract confirmed  1990-01      1753  \n"
     ]
    }
   ],
   "source": [
    "ea = pd.read_csv('output/english_advantage.csv')\n",
    "gec_classrooms_ea = {\n",
    "    'Level 1': 1750,\n",
    "    'Level 2': 1751,\n",
    "    'Level 3': 1752,\n",
    "    'Level 4': 1753,\n",
    "    'Level 5': 1754,\n",
    "    'Level 6': 1755,\n",
    "    'Level 7': 1756,\n",
    "    'Level 8': 1757,\n",
    "    'Level 9': 1758,\n",
    "    'Level 10': 1759,\n",
    "    'Level 0': 1760\n",
    "}\n",
    "\n",
    "ea.loc[:, 'class_id'] = ea['level'].map(gec_classrooms_ea)\n",
    "print(ea.head())"
   ]
  },
  {
   "cell_type": "code",
   "execution_count": 47,
   "id": "a91b467d-2c09-4ce5-94fc-c197b8866c67",
   "metadata": {
    "tags": []
   },
   "outputs": [],
   "source": [
    "ea.to_csv('output/semi_final_ea_cleaned_data.csv', index=False)"
   ]
  },
  {
   "cell_type": "code",
   "execution_count": 39,
   "id": "0a0db277-00c7-4555-91aa-1ecbdaccd7e0",
   "metadata": {
    "tags": []
   },
   "outputs": [],
   "source": [
    "be = pd.read_csv('output/business_edge.csv')\n",
    "gec_classrooms_be = {\n",
    "    'Level 1': 1761,\n",
    "    'Level 2': 1762,\n",
    "    'Level 3': 1763,\n",
    "    'Level 4': 1764,\n",
    "    'Level 5': 1765,\n",
    "    'Level 6': 1766,\n",
    "    'Level 0': 1767\n",
    "}\n",
    "\n",
    "be.loc[:, 'class_id'] = be['level'].map(gec_classrooms_be)\n",
    "be.to_csv('output/semi_final_be_cleaned_data.csv', index=False)"
   ]
  },
  {
   "cell_type": "code",
   "execution_count": 48,
   "id": "4d11f05d-052c-4ae8-902d-40f67a8af983",
   "metadata": {
    "tags": []
   },
   "outputs": [
    {
     "name": "stdout",
     "output_type": "stream",
     "text": [
      "Empty DataFrame\n",
      "Columns: [student_id, lastname, firstname, lastname_long, firstname_long, Contract date, Course end date, Contract number, status, Contract line number, Subject/test/product name, Number of lessons after discount, Remaining number of courses, skill, level, en_status, month, class_id]\n",
      "Index: []\n"
     ]
    }
   ],
   "source": [
    "import pandas as pd\n",
    "\n",
    "# Read the first CSV file\n",
    "df1 = pd.read_csv('output/semi_final_be_cleaned_data.csv')\n",
    "\n",
    "# Read the second CSV file\n",
    "df2 = pd.read_csv('output/semi_final_ea_cleaned_data.csv')\n",
    "\n",
    "# Append the two DataFrames\n",
    "appended_df = pd.concat([df1, df2], ignore_index=True)\n",
    "\n",
    "# Write the appended DataFrame to a new CSV file\n",
    "# appended_df.to_csv('output/appended_LA_student_to_classroom.csv', index=False)\n",
    "\n",
    "# Optionally, you can print the appended DataFrame\n",
    "# print(appended_df.head())\n",
    "# print(appended_df.tail())\n",
    "duplicate_rows = appended_df[appended_df.duplicated()]\n",
    "\n",
    "# Print the duplicate rows\n",
    "print(duplicate_rows)\n"
   ]
  },
  {
   "cell_type": "code",
   "execution_count": 49,
   "id": "6c4710fd-6bfa-4321-baf6-3029a7508e3f",
   "metadata": {
    "tags": []
   },
   "outputs": [
    {
     "name": "stdout",
     "output_type": "stream",
     "text": [
      "1784\n"
     ]
    }
   ],
   "source": [
    "print(len(appended_df))"
   ]
  },
  {
   "cell_type": "code",
   "execution_count": 50,
   "id": "87c75302-c962-4a3d-87b6-6e8922da0170",
   "metadata": {
    "tags": []
   },
   "outputs": [],
   "source": [
    "# export\n",
    "appended_df.to_csv('output/final_student_cleaned_data.csv', index=False)"
   ]
  },
  {
   "cell_type": "code",
   "execution_count": 29,
   "id": "44aa699b-9afe-4851-b36b-ca835ce203d5",
   "metadata": {
    "tags": []
   },
   "outputs": [
    {
     "name": "stdout",
     "output_type": "stream",
     "text": [
      "['Business English' 'RS Business English' 'General English' 'RS English']\n"
     ]
    }
   ],
   "source": [
    "unique_skills = appended_df['skill'].unique()\n",
    "print(unique_skills)"
   ]
  },
  {
   "cell_type": "code",
   "execution_count": 30,
   "id": "305cbaf8-d8f9-4fb0-82f5-1e2da7cda340",
   "metadata": {
    "tags": []
   },
   "outputs": [],
   "source": [
    "active_users_df = pd.DataFrame(appended_df)\n",
    "\n",
    "# Export to CSV\n",
    "active_users_df.to_csv('output/active_users_cleaned_data.csv', index=False)"
   ]
  },
  {
   "cell_type": "code",
   "execution_count": 33,
   "id": "5602fae2-5971-4689-b283-5c47bc7a04ce",
   "metadata": {
    "tags": []
   },
   "outputs": [],
   "source": [
    "gec_classrooms_be = {\n",
    "    'Level 1': 1761,\n",
    "    'Level 2': 1762,\n",
    "    'Level 3': 1763,\n",
    "    'Level 4': 1764,\n",
    "    'Level 5': 1765,\n",
    "    'Level 6': 1766,\n",
    "    'Level 0': 1767\n",
    "}\n",
    "\n",
    "appended_df.loc[appended_df['Subject/test/product name'].str.contains('Business English'), 'class_id'] = appended_df.loc[appended_df['Subject/test/product name'].str.contains('Business English'), 'level'].map(gec_classrooms_be)"
   ]
  },
  {
   "cell_type": "code",
   "execution_count": 34,
   "id": "3746ac4a-95dd-4347-9f9b-e2ca168fc373",
   "metadata": {
    "tags": []
   },
   "outputs": [
    {
     "name": "stdout",
     "output_type": "stream",
     "text": [
      "    student_id lastname firstname lastname_long firstname_long Contract date  \\\n",
      "0  L1105200352       阿部        新平            アベ           シンペイ    2023-09-23   \n",
      "1  L1803301437       平野         修           ヒラノ            オサム    2023-12-22   \n",
      "2  L1905411823       入江        勝基           イリエ           ショウキ    2022-09-18   \n",
      "3  L1905411823       入江        勝基           イリエ           ショウキ    2023-11-11   \n",
      "4  L2001464838       野村        哲司           ノムラ            テツジ    2023-10-29   \n",
      "\n",
      "  Course end date Contract number  status Contract line number  \\\n",
      "0      1990-01-01       K02633305  1：契約確定           KM21116509   \n",
      "1      1990-01-01       K02666311  1：契約確定           KM21488881   \n",
      "2      1990-01-01       K02463271  1：契約確定           KM19190287   \n",
      "3      1990-01-01       K02654916  1：契約確定           KM21368939   \n",
      "4      1990-01-01       K02649629  1：契約確定           KM21307437   \n",
      "\n",
      "  Subject/test/product name  Number of lessons after discount  \\\n",
      "0       Business Edge Book2                                32   \n",
      "1    RS Business Edge 演習 4回                                 4   \n",
      "2       Business Edge Book3                                32   \n",
      "3       Business Edge Book3                                32   \n",
      "4       Business Edge Book5                                32   \n",
      "\n",
      "   Remaining number of courses                skill    level  \\\n",
      "0                           28     Business English  Level 2   \n",
      "1                            1  RS Business English  Level 0   \n",
      "2                            5     Business English  Level 3   \n",
      "3                           32     Business English  Level 3   \n",
      "4                           32     Business English  Level 5   \n",
      "\n",
      "            en_status    month  class_id  \n",
      "0  Contract confirmed  1990-01       NaN  \n",
      "1  Contract confirmed  1990-01       NaN  \n",
      "2  Contract confirmed  1990-01       NaN  \n",
      "3  Contract confirmed  1990-01       NaN  \n",
      "4  Contract confirmed  1990-01       NaN  \n"
     ]
    }
   ],
   "source": [
    "print(appended_df.head())"
   ]
  },
  {
   "cell_type": "code",
   "execution_count": 52,
   "id": "5686e991-4108-4677-9dc2-6c2fb05e96f9",
   "metadata": {
    "tags": []
   },
   "outputs": [
    {
     "name": "stdout",
     "output_type": "stream",
     "text": [
      "[]\n"
     ]
    }
   ],
   "source": [
    "# unique_skills = appended_df[appended_df['Subject/test/product name'].str.contains('English Advantage|Business Edge', regex=True)]['Subject/test/product name'].unique()\n",
    "\n",
    "unique_skills = appended_df[appended_df['skill'].str.contains('English Advantage|Business Edge', regex=True)]['Subject/test/product name'].unique()\n",
    "\n",
    "print(unique_skills)"
   ]
  },
  {
   "cell_type": "code",
   "execution_count": 36,
   "id": "0c853294-8397-4d8f-ad76-b0fdaad148c6",
   "metadata": {
    "tags": []
   },
   "outputs": [],
   "source": [
    "gec_classrooms_ea = {\n",
    "    'Level 1': 1750,\n",
    "    'Level 2': 1751,\n",
    "    'Level 3': 1752,\n",
    "    'Level 4': 1753,\n",
    "    'Level 5': 1754,\n",
    "    'Level 6': 1755,\n",
    "    'Level 7': 1756,\n",
    "    'Level 8': 1757,\n",
    "    'Level 9': 1758,\n",
    "    'Level 10': 1759,\n",
    "    'Level 0': 1760\n",
    "}\n",
    "\n",
    "appended_df.loc[appended_df['Subject/test/product name'].str.contains('English Advantage'), 'class_id'] = appended_df.loc[appended_df['Subject/test/product name'].str.contains('English Advantage'), 'level'].map(gec_classrooms_be)"
   ]
  },
  {
   "cell_type": "code",
   "execution_count": 37,
   "id": "8b577647-5cbe-4bd7-9e24-a061fa31eed0",
   "metadata": {},
   "outputs": [],
   "source": [
    "active_users_class_df = pd.DataFrame(appended_df)\n",
    "\n",
    "# Export to CSV\n",
    "active_users_class_df.to_csv('output/active_users_cleaned_class_data.csv', index=False)"
   ]
  },
  {
   "cell_type": "code",
   "execution_count": null,
   "id": "cb1c0f69-eb64-4b43-9d4c-10f11a4c2642",
   "metadata": {},
   "outputs": [],
   "source": []
  }
 ],
 "metadata": {
  "kernelspec": {
   "display_name": "Python 3 (ipykernel)",
   "language": "python",
   "name": "python3"
  },
  "language_info": {
   "codemirror_mode": {
    "name": "ipython",
    "version": 3
   },
   "file_extension": ".py",
   "mimetype": "text/x-python",
   "name": "python",
   "nbconvert_exporter": "python",
   "pygments_lexer": "ipython3",
   "version": "3.11.5"
  }
 },
 "nbformat": 4,
 "nbformat_minor": 5
}
