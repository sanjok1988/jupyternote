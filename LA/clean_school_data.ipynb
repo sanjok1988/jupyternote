{
 "cells": [
  {
   "cell_type": "code",
   "execution_count": 70,
   "id": "f85acadf-ba1b-4fa0-ab64-424164e0f10f",
   "metadata": {
    "tags": []
   },
   "outputs": [
    {
     "name": "stdout",
     "output_type": "stream",
     "text": [
      "Requirement already satisfied: skimpy in /Users/sanjokdangol/anaconda3/lib/python3.11/site-packages (0.0.14)\n",
      "Requirement already satisfied: Pygments<3.0.0,>=2.10.0 in /Users/sanjokdangol/anaconda3/lib/python3.11/site-packages (from skimpy) (2.15.1)\n",
      "Requirement already satisfied: click<9.0.0,>=8.1.6 in /Users/sanjokdangol/anaconda3/lib/python3.11/site-packages (from skimpy) (8.1.7)\n",
      "Requirement already satisfied: ipykernel<7.0.0,>=6.7.0 in /Users/sanjokdangol/anaconda3/lib/python3.11/site-packages (from skimpy) (6.25.0)\n",
      "Requirement already satisfied: numpy<2.0.0,>=1.22.2 in /Users/sanjokdangol/anaconda3/lib/python3.11/site-packages (from skimpy) (1.24.3)\n",
      "Requirement already satisfied: pandas<3.0.0,>=2.0.3 in /Users/sanjokdangol/anaconda3/lib/python3.11/site-packages (from skimpy) (2.0.3)\n",
      "Requirement already satisfied: polars<0.21,>=0.19 in /Users/sanjokdangol/anaconda3/lib/python3.11/site-packages (from skimpy) (0.20.19)\n",
      "Requirement already satisfied: pyarrow<16,>=13 in /Users/sanjokdangol/anaconda3/lib/python3.11/site-packages (from skimpy) (15.0.2)\n",
      "Requirement already satisfied: quartodoc<0.8.0,>=0.7.2 in /Users/sanjokdangol/anaconda3/lib/python3.11/site-packages (from skimpy) (0.7.2)\n",
      "Requirement already satisfied: rich<14.0,>=10.9 in /Users/sanjokdangol/anaconda3/lib/python3.11/site-packages (from skimpy) (13.7.1)\n",
      "Requirement already satisfied: typeguard==4.1.5 in /Users/sanjokdangol/anaconda3/lib/python3.11/site-packages (from skimpy) (4.1.5)\n",
      "Requirement already satisfied: typing-extensions>=4.7.0 in /Users/sanjokdangol/anaconda3/lib/python3.11/site-packages (from typeguard==4.1.5->skimpy) (4.10.0)\n",
      "Requirement already satisfied: appnope in /Users/sanjokdangol/anaconda3/lib/python3.11/site-packages (from ipykernel<7.0.0,>=6.7.0->skimpy) (0.1.2)\n",
      "Requirement already satisfied: comm>=0.1.1 in /Users/sanjokdangol/anaconda3/lib/python3.11/site-packages (from ipykernel<7.0.0,>=6.7.0->skimpy) (0.1.2)\n",
      "Requirement already satisfied: debugpy>=1.6.5 in /Users/sanjokdangol/anaconda3/lib/python3.11/site-packages (from ipykernel<7.0.0,>=6.7.0->skimpy) (1.6.7)\n",
      "Requirement already satisfied: ipython>=7.23.1 in /Users/sanjokdangol/anaconda3/lib/python3.11/site-packages (from ipykernel<7.0.0,>=6.7.0->skimpy) (8.15.0)\n",
      "Requirement already satisfied: jupyter-client>=6.1.12 in /Users/sanjokdangol/anaconda3/lib/python3.11/site-packages (from ipykernel<7.0.0,>=6.7.0->skimpy) (7.4.9)\n",
      "Requirement already satisfied: jupyter-core!=5.0.*,>=4.12 in /Users/sanjokdangol/anaconda3/lib/python3.11/site-packages (from ipykernel<7.0.0,>=6.7.0->skimpy) (5.3.0)\n",
      "Requirement already satisfied: matplotlib-inline>=0.1 in /Users/sanjokdangol/anaconda3/lib/python3.11/site-packages (from ipykernel<7.0.0,>=6.7.0->skimpy) (0.1.6)\n",
      "Requirement already satisfied: nest-asyncio in /Users/sanjokdangol/anaconda3/lib/python3.11/site-packages (from ipykernel<7.0.0,>=6.7.0->skimpy) (1.5.6)\n",
      "Requirement already satisfied: packaging in /Users/sanjokdangol/anaconda3/lib/python3.11/site-packages (from ipykernel<7.0.0,>=6.7.0->skimpy) (23.2)\n",
      "Requirement already satisfied: psutil in /Users/sanjokdangol/anaconda3/lib/python3.11/site-packages (from ipykernel<7.0.0,>=6.7.0->skimpy) (5.9.0)\n",
      "Requirement already satisfied: pyzmq>=20 in /Users/sanjokdangol/anaconda3/lib/python3.11/site-packages (from ipykernel<7.0.0,>=6.7.0->skimpy) (23.2.0)\n",
      "Requirement already satisfied: tornado>=6.1 in /Users/sanjokdangol/anaconda3/lib/python3.11/site-packages (from ipykernel<7.0.0,>=6.7.0->skimpy) (6.3.2)\n",
      "Requirement already satisfied: traitlets>=5.4.0 in /Users/sanjokdangol/anaconda3/lib/python3.11/site-packages (from ipykernel<7.0.0,>=6.7.0->skimpy) (5.7.1)\n",
      "Requirement already satisfied: python-dateutil>=2.8.2 in /Users/sanjokdangol/anaconda3/lib/python3.11/site-packages (from pandas<3.0.0,>=2.0.3->skimpy) (2.8.2)\n",
      "Requirement already satisfied: pytz>=2020.1 in /Users/sanjokdangol/anaconda3/lib/python3.11/site-packages (from pandas<3.0.0,>=2.0.3->skimpy) (2023.3.post1)\n",
      "Requirement already satisfied: tzdata>=2022.1 in /Users/sanjokdangol/anaconda3/lib/python3.11/site-packages (from pandas<3.0.0,>=2.0.3->skimpy) (2023.3)\n",
      "Requirement already satisfied: griffe>=0.33 in /Users/sanjokdangol/anaconda3/lib/python3.11/site-packages (from quartodoc<0.8.0,>=0.7.2->skimpy) (0.42.1)\n",
      "Requirement already satisfied: sphobjinv>=2.3.1 in /Users/sanjokdangol/anaconda3/lib/python3.11/site-packages (from quartodoc<0.8.0,>=0.7.2->skimpy) (2.3.1)\n",
      "Requirement already satisfied: tabulate>=0.9.0 in /Users/sanjokdangol/anaconda3/lib/python3.11/site-packages (from quartodoc<0.8.0,>=0.7.2->skimpy) (0.9.0)\n",
      "Requirement already satisfied: importlib-metadata>=5.1.0 in /Users/sanjokdangol/anaconda3/lib/python3.11/site-packages (from quartodoc<0.8.0,>=0.7.2->skimpy) (6.0.0)\n",
      "Requirement already satisfied: importlib-resources>=5.10.2 in /Users/sanjokdangol/anaconda3/lib/python3.11/site-packages (from quartodoc<0.8.0,>=0.7.2->skimpy) (6.4.0)\n",
      "Requirement already satisfied: pydantic in /Users/sanjokdangol/anaconda3/lib/python3.11/site-packages (from quartodoc<0.8.0,>=0.7.2->skimpy) (2.6.4)\n",
      "Requirement already satisfied: pyyaml in /Users/sanjokdangol/anaconda3/lib/python3.11/site-packages (from quartodoc<0.8.0,>=0.7.2->skimpy) (6.0)\n",
      "Requirement already satisfied: watchdog>=3.0.0 in /Users/sanjokdangol/anaconda3/lib/python3.11/site-packages (from quartodoc<0.8.0,>=0.7.2->skimpy) (4.0.0)\n",
      "Requirement already satisfied: plum-dispatch>2.0.0 in /Users/sanjokdangol/anaconda3/lib/python3.11/site-packages (from quartodoc<0.8.0,>=0.7.2->skimpy) (2.3.3)\n",
      "Requirement already satisfied: markdown-it-py>=2.2.0 in /Users/sanjokdangol/anaconda3/lib/python3.11/site-packages (from rich<14.0,>=10.9->skimpy) (2.2.0)\n",
      "Requirement already satisfied: colorama>=0.4 in /Users/sanjokdangol/anaconda3/lib/python3.11/site-packages (from griffe>=0.33->quartodoc<0.8.0,>=0.7.2->skimpy) (0.4.6)\n",
      "Requirement already satisfied: zipp>=0.5 in /Users/sanjokdangol/anaconda3/lib/python3.11/site-packages (from importlib-metadata>=5.1.0->quartodoc<0.8.0,>=0.7.2->skimpy) (3.11.0)\n",
      "Requirement already satisfied: backcall in /Users/sanjokdangol/anaconda3/lib/python3.11/site-packages (from ipython>=7.23.1->ipykernel<7.0.0,>=6.7.0->skimpy) (0.2.0)\n",
      "Requirement already satisfied: decorator in /Users/sanjokdangol/anaconda3/lib/python3.11/site-packages (from ipython>=7.23.1->ipykernel<7.0.0,>=6.7.0->skimpy) (5.1.1)\n",
      "Requirement already satisfied: jedi>=0.16 in /Users/sanjokdangol/anaconda3/lib/python3.11/site-packages (from ipython>=7.23.1->ipykernel<7.0.0,>=6.7.0->skimpy) (0.18.1)\n",
      "Requirement already satisfied: pickleshare in /Users/sanjokdangol/anaconda3/lib/python3.11/site-packages (from ipython>=7.23.1->ipykernel<7.0.0,>=6.7.0->skimpy) (0.7.5)\n",
      "Requirement already satisfied: prompt-toolkit!=3.0.37,<3.1.0,>=3.0.30 in /Users/sanjokdangol/anaconda3/lib/python3.11/site-packages (from ipython>=7.23.1->ipykernel<7.0.0,>=6.7.0->skimpy) (3.0.36)\n",
      "Requirement already satisfied: stack-data in /Users/sanjokdangol/anaconda3/lib/python3.11/site-packages (from ipython>=7.23.1->ipykernel<7.0.0,>=6.7.0->skimpy) (0.2.0)\n",
      "Requirement already satisfied: pexpect>4.3 in /Users/sanjokdangol/anaconda3/lib/python3.11/site-packages (from ipython>=7.23.1->ipykernel<7.0.0,>=6.7.0->skimpy) (4.8.0)\n",
      "Requirement already satisfied: entrypoints in /Users/sanjokdangol/anaconda3/lib/python3.11/site-packages (from jupyter-client>=6.1.12->ipykernel<7.0.0,>=6.7.0->skimpy) (0.4)\n",
      "Requirement already satisfied: platformdirs>=2.5 in /Users/sanjokdangol/anaconda3/lib/python3.11/site-packages (from jupyter-core!=5.0.*,>=4.12->ipykernel<7.0.0,>=6.7.0->skimpy) (3.10.0)\n",
      "Requirement already satisfied: mdurl~=0.1 in /Users/sanjokdangol/anaconda3/lib/python3.11/site-packages (from markdown-it-py>=2.2.0->rich<14.0,>=10.9->skimpy) (0.1.0)\n",
      "Requirement already satisfied: beartype>=0.16.2 in /Users/sanjokdangol/anaconda3/lib/python3.11/site-packages (from plum-dispatch>2.0.0->quartodoc<0.8.0,>=0.7.2->skimpy) (0.18.2)\n",
      "Requirement already satisfied: six>=1.5 in /Users/sanjokdangol/anaconda3/lib/python3.11/site-packages (from python-dateutil>=2.8.2->pandas<3.0.0,>=2.0.3->skimpy) (1.16.0)\n",
      "Requirement already satisfied: attrs>=19.2 in /Users/sanjokdangol/anaconda3/lib/python3.11/site-packages (from sphobjinv>=2.3.1->quartodoc<0.8.0,>=0.7.2->skimpy) (22.1.0)\n",
      "Requirement already satisfied: certifi in /Users/sanjokdangol/anaconda3/lib/python3.11/site-packages (from sphobjinv>=2.3.1->quartodoc<0.8.0,>=0.7.2->skimpy) (2023.7.22)\n",
      "Requirement already satisfied: jsonschema>=3.0 in /Users/sanjokdangol/anaconda3/lib/python3.11/site-packages (from sphobjinv>=2.3.1->quartodoc<0.8.0,>=0.7.2->skimpy) (4.17.3)\n",
      "Requirement already satisfied: annotated-types>=0.4.0 in /Users/sanjokdangol/anaconda3/lib/python3.11/site-packages (from pydantic->quartodoc<0.8.0,>=0.7.2->skimpy) (0.6.0)\n",
      "Requirement already satisfied: pydantic-core==2.16.3 in /Users/sanjokdangol/anaconda3/lib/python3.11/site-packages (from pydantic->quartodoc<0.8.0,>=0.7.2->skimpy) (2.16.3)\n",
      "Requirement already satisfied: parso<0.9.0,>=0.8.0 in /Users/sanjokdangol/anaconda3/lib/python3.11/site-packages (from jedi>=0.16->ipython>=7.23.1->ipykernel<7.0.0,>=6.7.0->skimpy) (0.8.3)\n",
      "Requirement already satisfied: pyrsistent!=0.17.0,!=0.17.1,!=0.17.2,>=0.14.0 in /Users/sanjokdangol/anaconda3/lib/python3.11/site-packages (from jsonschema>=3.0->sphobjinv>=2.3.1->quartodoc<0.8.0,>=0.7.2->skimpy) (0.18.0)\n",
      "Requirement already satisfied: ptyprocess>=0.5 in /Users/sanjokdangol/anaconda3/lib/python3.11/site-packages (from pexpect>4.3->ipython>=7.23.1->ipykernel<7.0.0,>=6.7.0->skimpy) (0.7.0)\n",
      "Requirement already satisfied: wcwidth in /Users/sanjokdangol/anaconda3/lib/python3.11/site-packages (from prompt-toolkit!=3.0.37,<3.1.0,>=3.0.30->ipython>=7.23.1->ipykernel<7.0.0,>=6.7.0->skimpy) (0.2.5)\n",
      "Requirement already satisfied: executing in /Users/sanjokdangol/anaconda3/lib/python3.11/site-packages (from stack-data->ipython>=7.23.1->ipykernel<7.0.0,>=6.7.0->skimpy) (0.8.3)\n",
      "Requirement already satisfied: asttokens in /Users/sanjokdangol/anaconda3/lib/python3.11/site-packages (from stack-data->ipython>=7.23.1->ipykernel<7.0.0,>=6.7.0->skimpy) (2.0.5)\n",
      "Requirement already satisfied: pure-eval in /Users/sanjokdangol/anaconda3/lib/python3.11/site-packages (from stack-data->ipython>=7.23.1->ipykernel<7.0.0,>=6.7.0->skimpy) (0.2.2)\n"
     ]
    }
   ],
   "source": [
    "!pip3 install skimpy"
   ]
  },
  {
   "cell_type": "code",
   "execution_count": 71,
   "id": "53212864-8e65-4897-aecd-1dc173ad1719",
   "metadata": {
    "tags": []
   },
   "outputs": [
    {
     "name": "stdout",
     "output_type": "stream",
     "text": [
      "['Student number', 'Surname', 'given name', 'Name kana (last name)', 'Name in kana (first name)', 'Contract date', 'Course end date', 'Contract number', 'status', 'Contract line number', 'Subject/test/product name', 'Number of lessons after discount', 'Remaining number of courses', 'skill', 'level', 'Current school building: School building code', 'Current school building: Name']\n"
     ]
    },
    {
     "data": {
      "text/html": [
       "<pre style=\"white-space:pre;overflow-x:auto;line-height:normal;font-family:Menlo,'DejaVu Sans Mono',consolas,'Courier New',monospace\">╭──────────────────────────────────────────────── skimpy summary ─────────────────────────────────────────────────╮\n",
       "│ <span style=\"font-style: italic\">         Data Summary         </span> <span style=\"font-style: italic\">      Data Types       </span>                                                          │\n",
       "│ ┏━━━━━━━━━━━━━━━━━━━┳━━━━━━━━┓ ┏━━━━━━━━━━━━━┳━━━━━━━┓                                                          │\n",
       "│ ┃<span style=\"color: #008080; text-decoration-color: #008080; font-weight: bold\"> dataframe         </span>┃<span style=\"color: #008080; text-decoration-color: #008080; font-weight: bold\"> Values </span>┃ ┃<span style=\"color: #008080; text-decoration-color: #008080; font-weight: bold\"> Column Type </span>┃<span style=\"color: #008080; text-decoration-color: #008080; font-weight: bold\"> Count </span>┃                                                          │\n",
       "│ ┡━━━━━━━━━━━━━━━━━━━╇━━━━━━━━┩ ┡━━━━━━━━━━━━━╇━━━━━━━┩                                                          │\n",
       "│ │ Number of rows    │ 8100   │ │ string      │ 11    │                                                          │\n",
       "│ │ Number of columns │ 12     │ │ int64       │ 1     │                                                          │\n",
       "│ └───────────────────┴────────┘ └─────────────┴───────┘                                                          │\n",
       "│ <span style=\"font-style: italic\">                                                    number                                                    </span>  │\n",
       "│ ┏━━━━━━━━━━━━━━━━━━━━━━━━━━━━┳━━━━━┳━━━━━━━━┳━━━━━━━━┳━━━━━━━━┳━━━━━┳━━━━━━┳━━━━━━┳━━━━━━┳━━━━━━━━━┳━━━━━━━━━┓  │\n",
       "│ ┃<span style=\"font-weight: bold\"> column_name                </span>┃<span style=\"font-weight: bold\"> NA  </span>┃<span style=\"font-weight: bold\"> NA %   </span>┃<span style=\"font-weight: bold\"> mean   </span>┃<span style=\"font-weight: bold\"> sd     </span>┃<span style=\"font-weight: bold\"> p0  </span>┃<span style=\"font-weight: bold\"> p25  </span>┃<span style=\"font-weight: bold\"> p50  </span>┃<span style=\"font-weight: bold\"> p75  </span>┃<span style=\"font-weight: bold\"> p100    </span>┃<span style=\"font-weight: bold\"> hist    </span>┃  │\n",
       "│ ┡━━━━━━━━━━━━━━━━━━━━━━━━━━━━╇━━━━━╇━━━━━━━━╇━━━━━━━━╇━━━━━━━━╇━━━━━╇━━━━━━╇━━━━━━╇━━━━━━╇━━━━━━━━━╇━━━━━━━━━┩  │\n",
       "│ │ <span style=\"color: #af87ff; text-decoration-color: #af87ff\">Current school building:  </span> │ <span style=\"color: #008080; text-decoration-color: #008080\">  0</span> │ <span style=\"color: #008080; text-decoration-color: #008080\">     0</span> │ <span style=\"color: #008080; text-decoration-color: #008080\">  1000</span> │ <span style=\"color: #008080; text-decoration-color: #008080\">  8400</span> │ <span style=\"color: #008080; text-decoration-color: #008080\">  1</span> │ <span style=\"color: #008080; text-decoration-color: #008080\"> 100</span> │ <span style=\"color: #008080; text-decoration-color: #008080\"> 180</span> │ <span style=\"color: #008080; text-decoration-color: #008080\"> 340</span> │ <span style=\"color: #008080; text-decoration-color: #008080\">  90000</span> │ <span style=\"color: #008000; text-decoration-color: #008000\">   ▇   </span> │  │\n",
       "│ │ <span style=\"color: #af87ff; text-decoration-color: #af87ff\">School building code      </span> │     │        │        │        │     │      │      │      │         │         │  │\n",
       "│ └────────────────────────────┴─────┴────────┴────────┴────────┴─────┴──────┴──────┴──────┴─────────┴─────────┘  │\n",
       "│ <span style=\"font-style: italic\">                                                    string                                                    </span>  │\n",
       "│ ┏━━━━━━━━━━━━━━━━━━━━━━━━━━━━━━━━━━━━━━┳━━━━━━━━━┳━━━━━━━━━━━┳━━━━━━━━━━━━━━━━━━━━━━━━━┳━━━━━━━━━━━━━━━━━━━━━┓  │\n",
       "│ ┃<span style=\"font-weight: bold\"> column_name                          </span>┃<span style=\"font-weight: bold\"> NA      </span>┃<span style=\"font-weight: bold\"> NA %      </span>┃<span style=\"font-weight: bold\"> words per row           </span>┃<span style=\"font-weight: bold\"> total words         </span>┃  │\n",
       "│ ┡━━━━━━━━━━━━━━━━━━━━━━━━━━━━━━━━━━━━━━╇━━━━━━━━━╇━━━━━━━━━━━╇━━━━━━━━━━━━━━━━━━━━━━━━━╇━━━━━━━━━━━━━━━━━━━━━┩  │\n",
       "│ │ <span style=\"color: #af87ff; text-decoration-color: #af87ff\">Student number                      </span> │ <span style=\"color: #008080; text-decoration-color: #008080\">      0</span> │ <span style=\"color: #008080; text-decoration-color: #008080\">        0</span> │ <span style=\"color: #008080; text-decoration-color: #008080\">                      1</span> │ <span style=\"color: #008080; text-decoration-color: #008080\">               8100</span> │  │\n",
       "│ │ <span style=\"color: #af87ff; text-decoration-color: #af87ff\">Surname                             </span> │ <span style=\"color: #008080; text-decoration-color: #008080\">      0</span> │ <span style=\"color: #008080; text-decoration-color: #008080\">        0</span> │ <span style=\"color: #008080; text-decoration-color: #008080\">                      1</span> │ <span style=\"color: #008080; text-decoration-color: #008080\">               8100</span> │  │\n",
       "│ │ <span style=\"color: #af87ff; text-decoration-color: #af87ff\">given name                          </span> │ <span style=\"color: #008080; text-decoration-color: #008080\">     22</span> │ <span style=\"color: #008080; text-decoration-color: #008080\">     0.27</span> │ <span style=\"color: #008080; text-decoration-color: #008080\">                      1</span> │ <span style=\"color: #008080; text-decoration-color: #008080\">               8078</span> │  │\n",
       "│ │ <span style=\"color: #af87ff; text-decoration-color: #af87ff\">Contract date                       </span> │ <span style=\"color: #008080; text-decoration-color: #008080\">      0</span> │ <span style=\"color: #008080; text-decoration-color: #008080\">        0</span> │ <span style=\"color: #008080; text-decoration-color: #008080\">                      1</span> │ <span style=\"color: #008080; text-decoration-color: #008080\">               8100</span> │  │\n",
       "│ │ <span style=\"color: #af87ff; text-decoration-color: #af87ff\">Course end date                     </span> │ <span style=\"color: #008080; text-decoration-color: #008080\">    972</span> │ <span style=\"color: #008080; text-decoration-color: #008080\">       12</span> │ <span style=\"color: #008080; text-decoration-color: #008080\">                   0.88</span> │ <span style=\"color: #008080; text-decoration-color: #008080\">               7128</span> │  │\n",
       "│ │ <span style=\"color: #af87ff; text-decoration-color: #af87ff\">Contract number                     </span> │ <span style=\"color: #008080; text-decoration-color: #008080\">      0</span> │ <span style=\"color: #008080; text-decoration-color: #008080\">        0</span> │ <span style=\"color: #008080; text-decoration-color: #008080\">                      1</span> │ <span style=\"color: #008080; text-decoration-color: #008080\">               8100</span> │  │\n",
       "│ │ <span style=\"color: #af87ff; text-decoration-color: #af87ff\">status                              </span> │ <span style=\"color: #008080; text-decoration-color: #008080\">      0</span> │ <span style=\"color: #008080; text-decoration-color: #008080\">        0</span> │ <span style=\"color: #008080; text-decoration-color: #008080\">                      1</span> │ <span style=\"color: #008080; text-decoration-color: #008080\">               8100</span> │  │\n",
       "│ │ <span style=\"color: #af87ff; text-decoration-color: #af87ff\">Subject/test/product name           </span> │ <span style=\"color: #008080; text-decoration-color: #008080\">      0</span> │ <span style=\"color: #008080; text-decoration-color: #008080\">        0</span> │ <span style=\"color: #008080; text-decoration-color: #008080\">                      2</span> │ <span style=\"color: #008080; text-decoration-color: #008080\">              16200</span> │  │\n",
       "│ │ <span style=\"color: #af87ff; text-decoration-color: #af87ff\">skill                               </span> │ <span style=\"color: #008080; text-decoration-color: #008080\">      0</span> │ <span style=\"color: #008080; text-decoration-color: #008080\">        0</span> │ <span style=\"color: #008080; text-decoration-color: #008080\">                      2</span> │ <span style=\"color: #008080; text-decoration-color: #008080\">              16313</span> │  │\n",
       "│ │ <span style=\"color: #af87ff; text-decoration-color: #af87ff\">level                               </span> │ <span style=\"color: #008080; text-decoration-color: #008080\">      0</span> │ <span style=\"color: #008080; text-decoration-color: #008080\">        0</span> │ <span style=\"color: #008080; text-decoration-color: #008080\">                      2</span> │ <span style=\"color: #008080; text-decoration-color: #008080\">              16200</span> │  │\n",
       "│ │ <span style=\"color: #af87ff; text-decoration-color: #af87ff\">Current school building: Name       </span> │ <span style=\"color: #008080; text-decoration-color: #008080\">      0</span> │ <span style=\"color: #008080; text-decoration-color: #008080\">        0</span> │ <span style=\"color: #008080; text-decoration-color: #008080\">                      1</span> │ <span style=\"color: #008080; text-decoration-color: #008080\">               8100</span> │  │\n",
       "│ └──────────────────────────────────────┴─────────┴───────────┴─────────────────────────┴─────────────────────┘  │\n",
       "╰────────────────────────────────────────────────────── End ──────────────────────────────────────────────────────╯\n",
       "</pre>\n"
      ],
      "text/plain": [
       "╭──────────────────────────────────────────────── skimpy summary ─────────────────────────────────────────────────╮\n",
       "│ \u001b[3m         Data Summary         \u001b[0m \u001b[3m      Data Types       \u001b[0m                                                          │\n",
       "│ ┏━━━━━━━━━━━━━━━━━━━┳━━━━━━━━┓ ┏━━━━━━━━━━━━━┳━━━━━━━┓                                                          │\n",
       "│ ┃\u001b[1;36m \u001b[0m\u001b[1;36mdataframe        \u001b[0m\u001b[1;36m \u001b[0m┃\u001b[1;36m \u001b[0m\u001b[1;36mValues\u001b[0m\u001b[1;36m \u001b[0m┃ ┃\u001b[1;36m \u001b[0m\u001b[1;36mColumn Type\u001b[0m\u001b[1;36m \u001b[0m┃\u001b[1;36m \u001b[0m\u001b[1;36mCount\u001b[0m\u001b[1;36m \u001b[0m┃                                                          │\n",
       "│ ┡━━━━━━━━━━━━━━━━━━━╇━━━━━━━━┩ ┡━━━━━━━━━━━━━╇━━━━━━━┩                                                          │\n",
       "│ │ Number of rows    │ 8100   │ │ string      │ 11    │                                                          │\n",
       "│ │ Number of columns │ 12     │ │ int64       │ 1     │                                                          │\n",
       "│ └───────────────────┴────────┘ └─────────────┴───────┘                                                          │\n",
       "│ \u001b[3m                                                    number                                                    \u001b[0m  │\n",
       "│ ┏━━━━━━━━━━━━━━━━━━━━━━━━━━━━┳━━━━━┳━━━━━━━━┳━━━━━━━━┳━━━━━━━━┳━━━━━┳━━━━━━┳━━━━━━┳━━━━━━┳━━━━━━━━━┳━━━━━━━━━┓  │\n",
       "│ ┃\u001b[1m \u001b[0m\u001b[1mcolumn_name               \u001b[0m\u001b[1m \u001b[0m┃\u001b[1m \u001b[0m\u001b[1mNA \u001b[0m\u001b[1m \u001b[0m┃\u001b[1m \u001b[0m\u001b[1mNA %  \u001b[0m\u001b[1m \u001b[0m┃\u001b[1m \u001b[0m\u001b[1mmean  \u001b[0m\u001b[1m \u001b[0m┃\u001b[1m \u001b[0m\u001b[1msd    \u001b[0m\u001b[1m \u001b[0m┃\u001b[1m \u001b[0m\u001b[1mp0 \u001b[0m\u001b[1m \u001b[0m┃\u001b[1m \u001b[0m\u001b[1mp25 \u001b[0m\u001b[1m \u001b[0m┃\u001b[1m \u001b[0m\u001b[1mp50 \u001b[0m\u001b[1m \u001b[0m┃\u001b[1m \u001b[0m\u001b[1mp75 \u001b[0m\u001b[1m \u001b[0m┃\u001b[1m \u001b[0m\u001b[1mp100   \u001b[0m\u001b[1m \u001b[0m┃\u001b[1m \u001b[0m\u001b[1mhist   \u001b[0m\u001b[1m \u001b[0m┃  │\n",
       "│ ┡━━━━━━━━━━━━━━━━━━━━━━━━━━━━╇━━━━━╇━━━━━━━━╇━━━━━━━━╇━━━━━━━━╇━━━━━╇━━━━━━╇━━━━━━╇━━━━━━╇━━━━━━━━━╇━━━━━━━━━┩  │\n",
       "│ │ \u001b[38;5;141mCurrent school building:  \u001b[0m │ \u001b[36m  0\u001b[0m │ \u001b[36m     0\u001b[0m │ \u001b[36m  1000\u001b[0m │ \u001b[36m  8400\u001b[0m │ \u001b[36m  1\u001b[0m │ \u001b[36m 100\u001b[0m │ \u001b[36m 180\u001b[0m │ \u001b[36m 340\u001b[0m │ \u001b[36m  90000\u001b[0m │ \u001b[32m   ▇   \u001b[0m │  │\n",
       "│ │ \u001b[38;5;141mSchool building code      \u001b[0m │     │        │        │        │     │      │      │      │         │         │  │\n",
       "│ └────────────────────────────┴─────┴────────┴────────┴────────┴─────┴──────┴──────┴──────┴─────────┴─────────┘  │\n",
       "│ \u001b[3m                                                    string                                                    \u001b[0m  │\n",
       "│ ┏━━━━━━━━━━━━━━━━━━━━━━━━━━━━━━━━━━━━━━┳━━━━━━━━━┳━━━━━━━━━━━┳━━━━━━━━━━━━━━━━━━━━━━━━━┳━━━━━━━━━━━━━━━━━━━━━┓  │\n",
       "│ ┃\u001b[1m \u001b[0m\u001b[1mcolumn_name                         \u001b[0m\u001b[1m \u001b[0m┃\u001b[1m \u001b[0m\u001b[1mNA     \u001b[0m\u001b[1m \u001b[0m┃\u001b[1m \u001b[0m\u001b[1mNA %     \u001b[0m\u001b[1m \u001b[0m┃\u001b[1m \u001b[0m\u001b[1mwords per row          \u001b[0m\u001b[1m \u001b[0m┃\u001b[1m \u001b[0m\u001b[1mtotal words        \u001b[0m\u001b[1m \u001b[0m┃  │\n",
       "│ ┡━━━━━━━━━━━━━━━━━━━━━━━━━━━━━━━━━━━━━━╇━━━━━━━━━╇━━━━━━━━━━━╇━━━━━━━━━━━━━━━━━━━━━━━━━╇━━━━━━━━━━━━━━━━━━━━━┩  │\n",
       "│ │ \u001b[38;5;141mStudent number                      \u001b[0m │ \u001b[36m      0\u001b[0m │ \u001b[36m        0\u001b[0m │ \u001b[36m                      1\u001b[0m │ \u001b[36m               8100\u001b[0m │  │\n",
       "│ │ \u001b[38;5;141mSurname                             \u001b[0m │ \u001b[36m      0\u001b[0m │ \u001b[36m        0\u001b[0m │ \u001b[36m                      1\u001b[0m │ \u001b[36m               8100\u001b[0m │  │\n",
       "│ │ \u001b[38;5;141mgiven name                          \u001b[0m │ \u001b[36m     22\u001b[0m │ \u001b[36m     0.27\u001b[0m │ \u001b[36m                      1\u001b[0m │ \u001b[36m               8078\u001b[0m │  │\n",
       "│ │ \u001b[38;5;141mContract date                       \u001b[0m │ \u001b[36m      0\u001b[0m │ \u001b[36m        0\u001b[0m │ \u001b[36m                      1\u001b[0m │ \u001b[36m               8100\u001b[0m │  │\n",
       "│ │ \u001b[38;5;141mCourse end date                     \u001b[0m │ \u001b[36m    972\u001b[0m │ \u001b[36m       12\u001b[0m │ \u001b[36m                   0.88\u001b[0m │ \u001b[36m               7128\u001b[0m │  │\n",
       "│ │ \u001b[38;5;141mContract number                     \u001b[0m │ \u001b[36m      0\u001b[0m │ \u001b[36m        0\u001b[0m │ \u001b[36m                      1\u001b[0m │ \u001b[36m               8100\u001b[0m │  │\n",
       "│ │ \u001b[38;5;141mstatus                              \u001b[0m │ \u001b[36m      0\u001b[0m │ \u001b[36m        0\u001b[0m │ \u001b[36m                      1\u001b[0m │ \u001b[36m               8100\u001b[0m │  │\n",
       "│ │ \u001b[38;5;141mSubject/test/product name           \u001b[0m │ \u001b[36m      0\u001b[0m │ \u001b[36m        0\u001b[0m │ \u001b[36m                      2\u001b[0m │ \u001b[36m              16200\u001b[0m │  │\n",
       "│ │ \u001b[38;5;141mskill                               \u001b[0m │ \u001b[36m      0\u001b[0m │ \u001b[36m        0\u001b[0m │ \u001b[36m                      2\u001b[0m │ \u001b[36m              16313\u001b[0m │  │\n",
       "│ │ \u001b[38;5;141mlevel                               \u001b[0m │ \u001b[36m      0\u001b[0m │ \u001b[36m        0\u001b[0m │ \u001b[36m                      2\u001b[0m │ \u001b[36m              16200\u001b[0m │  │\n",
       "│ │ \u001b[38;5;141mCurrent school building: Name       \u001b[0m │ \u001b[36m      0\u001b[0m │ \u001b[36m        0\u001b[0m │ \u001b[36m                      1\u001b[0m │ \u001b[36m               8100\u001b[0m │  │\n",
       "│ └──────────────────────────────────────┴─────────┴───────────┴─────────────────────────┴─────────────────────┘  │\n",
       "╰────────────────────────────────────────────────────── End ──────────────────────────────────────────────────────╯\n"
      ]
     },
     "metadata": {},
     "output_type": "display_data"
    }
   ],
   "source": [
    "import pandas as pd\n",
    "from skimpy import skim\n",
    "\n",
    "# Replace 'your_file.xlsx' with the path to your Excel file\n",
    "file_path = 'data/dump_school.csv'\n",
    "\n",
    "# Read the Excel file into a pandas DataFrame\n",
    "df = pd.read_csv(file_path)\n",
    "df = df.drop(0)\n",
    "\n",
    "# List column names\n",
    "column_names = df.columns.tolist()\n",
    "\n",
    "# Display column names\n",
    "print(column_names)\n",
    "df = df.drop(columns=['Contract line number','Number of lessons after discount','Name in kana (first name)','Name kana (last name)','Remaining number of courses'])\n",
    "skim(df)"
   ]
  },
  {
   "cell_type": "code",
   "execution_count": 40,
   "id": "5d71b79e-e113-4d26-8966-2414ca23cfa0",
   "metadata": {
    "tags": []
   },
   "outputs": [
    {
     "name": "stdout",
     "output_type": "stream",
     "text": [
      "3969\n",
      "status\n",
      "1：契約確定     464\n",
      "2：仮解約        5\n",
      "4：契約満了     919\n",
      "5：受講修了    2965\n",
      "6：休会         9\n",
      "Name: Student number, dtype: int64\n"
     ]
    }
   ],
   "source": [
    "## Plot the graph\n",
    "unique_students = df['Student number'].nunique()\n",
    "print(unique_students)\n",
    "\n",
    "unique_students_by_status = df.groupby('status')['Student number'].unique()\n",
    "unique_students_counts_by_status = unique_students_by_status.apply(len)\n",
    "\n",
    "print(unique_students_counts_by_status)"
   ]
  },
  {
   "cell_type": "code",
   "execution_count": 38,
   "id": "6f3de081-5955-4963-990c-ee48674bc891",
   "metadata": {
    "tags": []
   },
   "outputs": [
    {
     "name": "stdout",
     "output_type": "stream",
     "text": [
      "2024-04\n",
      "1    NaT\n",
      "2    NaT\n",
      "3    NaT\n",
      "4    NaT\n",
      "5    NaT\n",
      "Name: month, dtype: period[M]\n",
      "951        NaT\n",
      "952        NaT\n",
      "953        NaT\n",
      "954        NaT\n",
      "955    2024-04\n",
      "Name: month, dtype: period[M]\n",
      "  Student number Course end date month  status\n",
      "1    L1104102882             NaT   NaT  1：契約確定\n",
      "2    L1104102882             NaT   NaT  1：契約確定\n",
      "3    L1201200276             NaT   NaT  1：契約確定\n",
      "4    L1201200276             NaT   NaT  1：契約確定\n",
      "5    L1201200276             NaT   NaT  1：契約確定\n",
      "955\n"
     ]
    }
   ],
   "source": [
    "# Filter active users only\n",
    "\n",
    "from datetime import datetime\n",
    "\n",
    "# Get current month\n",
    "current_month = datetime.now().strftime('%Y-%m')\n",
    "print(current_month)\n",
    "\n",
    "# Convert 'Course end date' column to datetime if it's not already in datetime format\n",
    "df['Course end date'] = pd.to_datetime(df['Course end date'])\n",
    "\n",
    "df['month'] = df['Course end date'].dt.to_period('M')\n",
    "\n",
    "print(df['month'].head())\n",
    "print(df['month'].tail())\n",
    "\n",
    "filtered_active_users = df[(df['status'].str.contains('1：契約確定')) | (df['month'] >= current_month)]\n",
    "print(filtered_active_users.head()[['Student number','Course end date','month','status']])\n",
    "print(len(filtered_active_users))"
   ]
  },
  {
   "cell_type": "code",
   "execution_count": 31,
   "id": "dc4e0d27-c3a6-4602-8ada-7b161f91a951",
   "metadata": {
    "tags": []
   },
   "outputs": [
    {
     "name": "stdout",
     "output_type": "stream",
     "text": [
      "Number of rows after dropping duplicates: 956\n",
      "Number of unique student numbers: 471\n",
      "Number of unique school numbers: 55\n"
     ]
    }
   ],
   "source": [
    "# Drop duplicate rows based on all columns\n",
    "filtered_active_users = filtered_active_users.drop_duplicates()\n",
    "\n",
    "# Count the number of rows after dropping duplicates\n",
    "print(\"Number of rows after dropping duplicates:\", len(filtered_active_users))\n",
    "\n",
    "# Count the number of unique student numbers after dropping duplicates\n",
    "print(\"Number of unique student numbers:\", filtered_active_users['Student number'].nunique())\n",
    "\n",
    "print(\"Number of unique school numbers:\", filtered_active_users['Current school building: School building code'].nunique())"
   ]
  },
  {
   "cell_type": "code",
   "execution_count": 32,
   "id": "395b346c-e1ba-4307-9ccf-4d5d2cf27fa5",
   "metadata": {
    "tags": []
   },
   "outputs": [],
   "source": [
    "filtered_active_users.to_csv(\"output/cleaned_school_data.csv\", index=False)"
   ]
  },
  {
   "cell_type": "code",
   "execution_count": 45,
   "id": "c8235b92-af11-44a0-a6a9-e514b56f7037",
   "metadata": {},
   "outputs": [
    {
     "name": "stdout",
     "output_type": "stream",
     "text": [
      "['BE Book1', 'BE Book2', 'BE Book3', 'BE Book4', 'BE Book5', 'BE Book6', 'BE Foundation', 'EA Book1', 'EA Book10', 'EA Book2', 'EA Book3', 'EA Book4', 'EA Book5', 'EA Book6', 'EA Book7', 'EA Book8', 'EA Book9', 'EA Foundation']\n",
      "18\n"
     ]
    }
   ],
   "source": [
    "product = filtered_active_users['Subject/test/product name'].unique()\n",
    "print(sorted(product))\n",
    "print(len(product))"
   ]
  },
  {
   "cell_type": "code",
   "execution_count": 46,
   "id": "748303ee-a7da-448a-ae05-c254ed4205a5",
   "metadata": {
    "tags": []
   },
   "outputs": [
    {
     "name": "stdout",
     "output_type": "stream",
     "text": [
      "Subject/test/product name\n",
      "EA Book2         131\n",
      "EA Book3         126\n",
      "EA Book4         121\n",
      "EA Book1         113\n",
      "EA Book5          89\n",
      "EA Book6          71\n",
      "EA Foundation     59\n",
      "EA Book7          48\n",
      "EA Book8          42\n",
      "EA Book9          35\n",
      "EA Book10         26\n",
      "BE Book4          24\n",
      "BE Book2          24\n",
      "BE Book5          14\n",
      "BE Book3          14\n",
      "BE Book1          10\n",
      "BE Book6           6\n",
      "BE Foundation      2\n",
      "Name: count, dtype: int64\n"
     ]
    }
   ],
   "source": [
    "unique_products = filtered_active_users['Subject/test/product name'].value_counts()\n",
    "\n",
    "print(unique_products)"
   ]
  },
  {
   "cell_type": "code",
   "execution_count": 63,
   "id": "0f8be7e4-68ca-4aac-bbad-d3c94ec3a55c",
   "metadata": {
    "tags": []
   },
   "outputs": [
    {
     "name": "stdout",
     "output_type": "stream",
     "text": [
      "    Student number Subject/test/product name\n",
      "949    L2404822320                  EA Book4\n",
      "    Student number Subject/test/product name\n",
      "949    L2404822320                  EA Book4\n"
     ]
    }
   ],
   "source": [
    "# Assuming filtered_active_users is your DataFrame\n",
    "filtered_product_data = filtered_active_users[filtered_active_users['Student number'] == 'L2404822320']\n",
    "\n",
    "print(filtered_product_data.loc[:, ['Student number','Subject/test/product name']])\n",
    "# Fetch only 'skill' and 'product' columns\n",
    "selected_columns = filtered_product_data.loc[:, ['Student number','Subject/test/product name']]\n",
    "\n",
    "print(selected_columns)"
   ]
  },
  {
   "cell_type": "code",
   "execution_count": 67,
   "id": "b215a1bc-482f-4bbb-9ce3-dbcb43e5af31",
   "metadata": {
    "tags": []
   },
   "outputs": [
    {
     "name": "stdout",
     "output_type": "stream",
     "text": [
      "['L1902383820' 'L2008534523' 'L2106609222' 'L2110640630' 'L2205688447'\n",
      " 'L2310787766' 'L2404822320']\n",
      "    Student number Subject/test/product name\n",
      "73     L1902383820                  EA Book7\n",
      "74     L1902383820                  EA Book8\n",
      "75     L1902383820                  EA Book9\n",
      "76     L1902383820                 EA Book10\n",
      "77     L1902383820                 EA Book10\n",
      "78     L1902383820                  EA Book9\n",
      "159    L2008534523                  EA Book5\n",
      "160    L2008534523                  EA Book6\n",
      "161    L2008534523                  EA Book7\n",
      "162    L2008534523                  EA Book8\n",
      "163    L2008534523                  EA Book9\n",
      "295    L2106609222             EA Foundation\n",
      "296    L2106609222                  EA Book1\n",
      "297    L2106609222                  EA Book2\n",
      "298    L2106609222                  EA Book3\n",
      "340    L2110640630                  EA Book1\n",
      "341    L2110640630                  EA Book2\n",
      "409    L2205688447                  BE Book5\n",
      "715    L2310787766                  BE Book2\n",
      "949    L2404822320                  EA Book4\n"
     ]
    }
   ],
   "source": [
    "# Assuming filtered_active_users is your DataFrame\n",
    "filtered_product_data = filtered_active_users[filtered_active_users['Current school building: School building code'] == 705]\n",
    "u_student = filtered_product_data['Student number'].unique()\n",
    "print(u_student)\n",
    "\n",
    "# Fetch only 'skill' and 'product' columns\n",
    "selected_columns = filtered_product_data.loc[:, ['Student number','Subject/test/product name']]\n",
    "\n",
    "print(selected_columns)"
   ]
  },
  {
   "cell_type": "code",
   "execution_count": null,
   "id": "a69955fc-8126-4c1f-bf14-588d22acc66e",
   "metadata": {},
   "outputs": [],
   "source": []
  }
 ],
 "metadata": {
  "kernelspec": {
   "display_name": "Python 3 (ipykernel)",
   "language": "python",
   "name": "python3"
  },
  "language_info": {
   "codemirror_mode": {
    "name": "ipython",
    "version": 3
   },
   "file_extension": ".py",
   "mimetype": "text/x-python",
   "name": "python",
   "nbconvert_exporter": "python",
   "pygments_lexer": "ipython3",
   "version": "3.11.5"
  }
 },
 "nbformat": 4,
 "nbformat_minor": 5
}
