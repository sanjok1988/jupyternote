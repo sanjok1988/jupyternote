{
 "cells": [
  {
   "cell_type": "code",
   "execution_count": 3,
   "id": "0a50f33f-8caf-42fe-9f15-60f8152c0f20",
   "metadata": {
    "tags": []
   },
   "outputs": [
    {
     "name": "stdout",
     "output_type": "stream",
     "text": [
      "Collecting ydata-profiling\n",
      "  Obtaining dependency information for ydata-profiling from https://files.pythonhosted.org/packages/49/03/04ce11264d78f7a9f1025a13f8a078aa18eb2a9c628bc0a9a9c18673062c/ydata_profiling-4.7.0-py2.py3-none-any.whl.metadata\n",
      "  Downloading ydata_profiling-4.7.0-py2.py3-none-any.whl.metadata (20 kB)\n",
      "Requirement already satisfied: scipy<1.12,>=1.4.1 in /Users/sanjokdangol/anaconda3/lib/python3.11/site-packages (from ydata-profiling) (1.11.1)\n",
      "Requirement already satisfied: pandas!=1.4.0,<3,>1.1 in /Users/sanjokdangol/anaconda3/lib/python3.11/site-packages (from ydata-profiling) (2.0.3)\n",
      "Requirement already satisfied: matplotlib<3.9,>=3.2 in /Users/sanjokdangol/anaconda3/lib/python3.11/site-packages (from ydata-profiling) (3.7.2)\n",
      "Collecting pydantic>=2 (from ydata-profiling)\n",
      "  Obtaining dependency information for pydantic>=2 from https://files.pythonhosted.org/packages/e5/f3/8296f550276194a58c5500d55b19a27ae0a5a3a51ffef66710c58544b32d/pydantic-2.6.4-py3-none-any.whl.metadata\n",
      "  Downloading pydantic-2.6.4-py3-none-any.whl.metadata (85 kB)\n",
      "\u001b[2K     \u001b[90m━━━━━━━━━━━━━━━━━━━━━━━━━━━━━━━━━━━━━━━\u001b[0m \u001b[32m85.1/85.1 kB\u001b[0m \u001b[31m212.5 kB/s\u001b[0m eta \u001b[36m0:00:00\u001b[0ma \u001b[36m0:00:01\u001b[0m\n",
      "\u001b[?25hRequirement already satisfied: PyYAML<6.1,>=5.0.0 in /Users/sanjokdangol/anaconda3/lib/python3.11/site-packages (from ydata-profiling) (6.0)\n",
      "Requirement already satisfied: jinja2<3.2,>=2.11.1 in /Users/sanjokdangol/anaconda3/lib/python3.11/site-packages (from ydata-profiling) (3.1.2)\n",
      "Collecting visions[type_image_path]<0.7.7,>=0.7.5 (from ydata-profiling)\n",
      "  Obtaining dependency information for visions[type_image_path]<0.7.7,>=0.7.5 from https://files.pythonhosted.org/packages/7c/bf/612b24e711ae25dea9af19b9304634b8949faa0b035fad47e8bcadf62f59/visions-0.7.6-py3-none-any.whl.metadata\n",
      "  Downloading visions-0.7.6-py3-none-any.whl.metadata (11 kB)\n",
      "Requirement already satisfied: numpy<2,>=1.16.0 in /Users/sanjokdangol/anaconda3/lib/python3.11/site-packages (from ydata-profiling) (1.24.3)\n",
      "Collecting htmlmin==0.1.12 (from ydata-profiling)\n",
      "  Downloading htmlmin-0.1.12.tar.gz (19 kB)\n",
      "  Preparing metadata (setup.py) ... \u001b[?25ldone\n",
      "\u001b[?25hCollecting phik<0.13,>=0.11.1 (from ydata-profiling)\n",
      "  Obtaining dependency information for phik<0.13,>=0.11.1 from https://files.pythonhosted.org/packages/b9/69/a42d9320b68b0d43d78db46787669b2287cba5e8db2e83fe0d63c1fd6945/phik-0.12.4-cp311-cp311-macosx_11_0_arm64.whl.metadata\n",
      "  Downloading phik-0.12.4-cp311-cp311-macosx_11_0_arm64.whl.metadata (5.6 kB)\n",
      "Requirement already satisfied: requests<3,>=2.24.0 in /Users/sanjokdangol/anaconda3/lib/python3.11/site-packages (from ydata-profiling) (2.31.0)\n",
      "Requirement already satisfied: tqdm<5,>=4.48.2 in /Users/sanjokdangol/anaconda3/lib/python3.11/site-packages (from ydata-profiling) (4.65.0)\n",
      "Requirement already satisfied: seaborn<0.13,>=0.10.1 in /Users/sanjokdangol/anaconda3/lib/python3.11/site-packages (from ydata-profiling) (0.12.2)\n",
      "Collecting multimethod<2,>=1.4 (from ydata-profiling)\n",
      "  Obtaining dependency information for multimethod<2,>=1.4 from https://files.pythonhosted.org/packages/a0/96/47dc456936530adb1360aba7300f2da2e1d277fb361e025db3926653e189/multimethod-1.11.2-py3-none-any.whl.metadata\n",
      "  Downloading multimethod-1.11.2-py3-none-any.whl.metadata (9.1 kB)\n",
      "Requirement already satisfied: statsmodels<1,>=0.13.2 in /Users/sanjokdangol/anaconda3/lib/python3.11/site-packages (from ydata-profiling) (0.14.0)\n",
      "Collecting typeguard<5,>=4.1.2 (from ydata-profiling)\n",
      "  Obtaining dependency information for typeguard<5,>=4.1.2 from https://files.pythonhosted.org/packages/d9/59/e02336eb478ccdfc9bb0d4c27ce04a4260cd8b45aa04f6b00bcfdbb66a2a/typeguard-4.2.1-py3-none-any.whl.metadata\n",
      "  Downloading typeguard-4.2.1-py3-none-any.whl.metadata (3.7 kB)\n",
      "Collecting imagehash==4.3.1 (from ydata-profiling)\n",
      "  Obtaining dependency information for imagehash==4.3.1 from https://files.pythonhosted.org/packages/2d/b4/19a746a986c6e38595fa5947c028b1b8e287773dcad766e648897ad2a4cf/ImageHash-4.3.1-py2.py3-none-any.whl.metadata\n",
      "  Downloading ImageHash-4.3.1-py2.py3-none-any.whl.metadata (8.0 kB)\n",
      "Requirement already satisfied: wordcloud>=1.9.1 in /Users/sanjokdangol/anaconda3/lib/python3.11/site-packages (from ydata-profiling) (1.9.3)\n",
      "Collecting dacite>=1.8 (from ydata-profiling)\n",
      "  Obtaining dependency information for dacite>=1.8 from https://files.pythonhosted.org/packages/21/0f/cf0943f4f55f0fbc7c6bd60caf1343061dff818b02af5a0d444e473bb78d/dacite-1.8.1-py3-none-any.whl.metadata\n",
      "  Downloading dacite-1.8.1-py3-none-any.whl.metadata (15 kB)\n",
      "Requirement already satisfied: numba<1,>=0.56.0 in /Users/sanjokdangol/anaconda3/lib/python3.11/site-packages (from ydata-profiling) (0.57.1)\n",
      "Requirement already satisfied: PyWavelets in /Users/sanjokdangol/anaconda3/lib/python3.11/site-packages (from imagehash==4.3.1->ydata-profiling) (1.4.1)\n",
      "Requirement already satisfied: pillow in /Users/sanjokdangol/anaconda3/lib/python3.11/site-packages (from imagehash==4.3.1->ydata-profiling) (9.4.0)\n",
      "Requirement already satisfied: MarkupSafe>=2.0 in /Users/sanjokdangol/anaconda3/lib/python3.11/site-packages (from jinja2<3.2,>=2.11.1->ydata-profiling) (2.1.1)\n",
      "Requirement already satisfied: contourpy>=1.0.1 in /Users/sanjokdangol/anaconda3/lib/python3.11/site-packages (from matplotlib<3.9,>=3.2->ydata-profiling) (1.0.5)\n",
      "Requirement already satisfied: cycler>=0.10 in /Users/sanjokdangol/anaconda3/lib/python3.11/site-packages (from matplotlib<3.9,>=3.2->ydata-profiling) (0.11.0)\n",
      "Requirement already satisfied: fonttools>=4.22.0 in /Users/sanjokdangol/anaconda3/lib/python3.11/site-packages (from matplotlib<3.9,>=3.2->ydata-profiling) (4.25.0)\n",
      "Requirement already satisfied: kiwisolver>=1.0.1 in /Users/sanjokdangol/anaconda3/lib/python3.11/site-packages (from matplotlib<3.9,>=3.2->ydata-profiling) (1.4.4)\n",
      "Requirement already satisfied: packaging>=20.0 in /Users/sanjokdangol/anaconda3/lib/python3.11/site-packages (from matplotlib<3.9,>=3.2->ydata-profiling) (23.2)\n",
      "Requirement already satisfied: pyparsing<3.1,>=2.3.1 in /Users/sanjokdangol/anaconda3/lib/python3.11/site-packages (from matplotlib<3.9,>=3.2->ydata-profiling) (3.0.9)\n",
      "Requirement already satisfied: python-dateutil>=2.7 in /Users/sanjokdangol/anaconda3/lib/python3.11/site-packages (from matplotlib<3.9,>=3.2->ydata-profiling) (2.8.2)\n",
      "Requirement already satisfied: llvmlite<0.41,>=0.40.0dev0 in /Users/sanjokdangol/anaconda3/lib/python3.11/site-packages (from numba<1,>=0.56.0->ydata-profiling) (0.40.0)\n",
      "Requirement already satisfied: pytz>=2020.1 in /Users/sanjokdangol/anaconda3/lib/python3.11/site-packages (from pandas!=1.4.0,<3,>1.1->ydata-profiling) (2023.3.post1)\n",
      "Requirement already satisfied: tzdata>=2022.1 in /Users/sanjokdangol/anaconda3/lib/python3.11/site-packages (from pandas!=1.4.0,<3,>1.1->ydata-profiling) (2023.3)\n",
      "Requirement already satisfied: joblib>=0.14.1 in /Users/sanjokdangol/anaconda3/lib/python3.11/site-packages (from phik<0.13,>=0.11.1->ydata-profiling) (1.2.0)\n",
      "Collecting annotated-types>=0.4.0 (from pydantic>=2->ydata-profiling)\n",
      "  Obtaining dependency information for annotated-types>=0.4.0 from https://files.pythonhosted.org/packages/28/78/d31230046e58c207284c6b2c4e8d96e6d3cb4e52354721b944d3e1ee4aa5/annotated_types-0.6.0-py3-none-any.whl.metadata\n",
      "  Downloading annotated_types-0.6.0-py3-none-any.whl.metadata (12 kB)\n",
      "Collecting pydantic-core==2.16.3 (from pydantic>=2->ydata-profiling)\n",
      "  Obtaining dependency information for pydantic-core==2.16.3 from https://files.pythonhosted.org/packages/ff/c7/e14e6ce2fe221d1046a7cc190b26b2bde2b1076d901154cdb8c20d88e6e0/pydantic_core-2.16.3-cp311-cp311-macosx_11_0_arm64.whl.metadata\n",
      "  Downloading pydantic_core-2.16.3-cp311-cp311-macosx_11_0_arm64.whl.metadata (6.5 kB)\n",
      "Requirement already satisfied: typing-extensions>=4.6.1 in /Users/sanjokdangol/anaconda3/lib/python3.11/site-packages (from pydantic>=2->ydata-profiling) (4.7.1)\n",
      "Requirement already satisfied: charset-normalizer<4,>=2 in /Users/sanjokdangol/anaconda3/lib/python3.11/site-packages (from requests<3,>=2.24.0->ydata-profiling) (2.0.4)\n",
      "Requirement already satisfied: idna<4,>=2.5 in /Users/sanjokdangol/anaconda3/lib/python3.11/site-packages (from requests<3,>=2.24.0->ydata-profiling) (3.4)\n",
      "Requirement already satisfied: urllib3<3,>=1.21.1 in /Users/sanjokdangol/anaconda3/lib/python3.11/site-packages (from requests<3,>=2.24.0->ydata-profiling) (1.26.16)\n",
      "Requirement already satisfied: certifi>=2017.4.17 in /Users/sanjokdangol/anaconda3/lib/python3.11/site-packages (from requests<3,>=2.24.0->ydata-profiling) (2023.7.22)\n",
      "Requirement already satisfied: patsy>=0.5.2 in /Users/sanjokdangol/anaconda3/lib/python3.11/site-packages (from statsmodels<1,>=0.13.2->ydata-profiling) (0.5.3)\n",
      "Collecting typing-extensions>=4.6.1 (from pydantic>=2->ydata-profiling)\n",
      "  Obtaining dependency information for typing-extensions>=4.6.1 from https://files.pythonhosted.org/packages/f9/de/dc04a3ea60b22624b51c703a84bbe0184abcd1d0b9bc8074b5d6b7ab90bb/typing_extensions-4.10.0-py3-none-any.whl.metadata\n",
      "  Downloading typing_extensions-4.10.0-py3-none-any.whl.metadata (3.0 kB)\n",
      "Requirement already satisfied: attrs>=19.3.0 in /Users/sanjokdangol/anaconda3/lib/python3.11/site-packages (from visions[type_image_path]<0.7.7,>=0.7.5->ydata-profiling) (22.1.0)\n",
      "Requirement already satisfied: networkx>=2.4 in /Users/sanjokdangol/anaconda3/lib/python3.11/site-packages (from visions[type_image_path]<0.7.7,>=0.7.5->ydata-profiling) (3.1)\n",
      "Requirement already satisfied: six in /Users/sanjokdangol/anaconda3/lib/python3.11/site-packages (from patsy>=0.5.2->statsmodels<1,>=0.13.2->ydata-profiling) (1.16.0)\n",
      "Downloading ydata_profiling-4.7.0-py2.py3-none-any.whl (357 kB)\n",
      "\u001b[2K   \u001b[90m━━━━━━━━━━━━━━━━━━━━━━━━━━━━━━━━━━━━━━━\u001b[0m \u001b[32m357.9/357.9 kB\u001b[0m \u001b[31m520.3 kB/s\u001b[0m eta \u001b[36m0:00:00\u001b[0ma \u001b[36m0:00:01\u001b[0m\n",
      "\u001b[?25hDownloading ImageHash-4.3.1-py2.py3-none-any.whl (296 kB)\n",
      "\u001b[2K   \u001b[90m━━━━━━━━━━━━━━━━━━━━━━━━━━━━━━━━━━━━━━━\u001b[0m \u001b[32m296.5/296.5 kB\u001b[0m \u001b[31m556.0 kB/s\u001b[0m eta \u001b[36m0:00:00\u001b[0ma \u001b[36m0:00:01\u001b[0m\n",
      "\u001b[?25hDownloading dacite-1.8.1-py3-none-any.whl (14 kB)\n",
      "Downloading multimethod-1.11.2-py3-none-any.whl (10 kB)\n",
      "Downloading phik-0.12.4-cp311-cp311-macosx_11_0_arm64.whl (657 kB)\n",
      "\u001b[2K   \u001b[90m━━━━━━━━━━━━━━━━━━━━━━━━━━━━━━━━━━━━━━━\u001b[0m \u001b[32m657.3/657.3 kB\u001b[0m \u001b[31m587.9 kB/s\u001b[0m eta \u001b[36m0:00:00\u001b[0m00:01\u001b[0m00:01\u001b[0m\n",
      "\u001b[?25hDownloading pydantic-2.6.4-py3-none-any.whl (394 kB)\n",
      "\u001b[2K   \u001b[90m━━━━━━━━━━━━━━━━━━━━━━━━━━━━━━━━━━━━━━━\u001b[0m \u001b[32m394.9/394.9 kB\u001b[0m \u001b[31m651.0 kB/s\u001b[0m eta \u001b[36m0:00:00\u001b[0ma \u001b[36m0:00:01\u001b[0m\n",
      "\u001b[?25hDownloading pydantic_core-2.16.3-cp311-cp311-macosx_11_0_arm64.whl (1.7 MB)\n",
      "\u001b[2K   \u001b[90m━━━━━━━━━━━━━━━━━━━━━━━━━━━━━━━━━━━━━━━━\u001b[0m \u001b[32m1.7/1.7 MB\u001b[0m \u001b[31m663.5 kB/s\u001b[0m eta \u001b[36m0:00:00\u001b[0m00:01\u001b[0m00:01\u001b[0m\n",
      "\u001b[?25hDownloading typeguard-4.2.1-py3-none-any.whl (34 kB)\n",
      "Using cached annotated_types-0.6.0-py3-none-any.whl (12 kB)\n",
      "Downloading typing_extensions-4.10.0-py3-none-any.whl (33 kB)\n",
      "Downloading visions-0.7.6-py3-none-any.whl (104 kB)\n",
      "\u001b[2K   \u001b[90m━━━━━━━━━━━━━━━━━━━━━━━━━━━━━━━━━━━━━━━\u001b[0m \u001b[32m104.8/104.8 kB\u001b[0m \u001b[31m772.0 kB/s\u001b[0m eta \u001b[36m0:00:00\u001b[0ma \u001b[36m0:00:01\u001b[0m\n",
      "\u001b[?25hBuilding wheels for collected packages: htmlmin\n",
      "  Building wheel for htmlmin (setup.py) ... \u001b[?25ldone\n",
      "\u001b[?25h  Created wheel for htmlmin: filename=htmlmin-0.1.12-py3-none-any.whl size=27081 sha256=bed037299851b44554493fdb40ca874803d4c7b72e9badcc594fa2e702f27453\n",
      "  Stored in directory: /Users/sanjokdangol/Library/Caches/pip/wheels/8d/55/1a/19cd535375ed1ede0c996405ebffe34b196d78e2d9545723a2\n",
      "Successfully built htmlmin\n",
      "Installing collected packages: htmlmin, typing-extensions, multimethod, dacite, annotated-types, typeguard, pydantic-core, imagehash, visions, pydantic, phik, ydata-profiling\n",
      "  Attempting uninstall: typing-extensions\n",
      "    Found existing installation: typing_extensions 4.7.1\n",
      "    Uninstalling typing_extensions-4.7.1:\n",
      "      Successfully uninstalled typing_extensions-4.7.1\n",
      "  Attempting uninstall: pydantic\n",
      "    Found existing installation: pydantic 1.10.8\n",
      "    Uninstalling pydantic-1.10.8:\n",
      "      Successfully uninstalled pydantic-1.10.8\n",
      "\u001b[31mERROR: pip's dependency resolver does not currently take into account all the packages that are installed. This behaviour is the source of the following dependency conflicts.\n",
      "anaconda-cloud-auth 0.1.3 requires pydantic<2.0, but you have pydantic 2.6.4 which is incompatible.\u001b[0m\u001b[31m\n",
      "\u001b[0mSuccessfully installed annotated-types-0.6.0 dacite-1.8.1 htmlmin-0.1.12 imagehash-4.3.1 multimethod-1.11.2 phik-0.12.4 pydantic-2.6.4 pydantic-core-2.16.3 typeguard-4.2.1 typing-extensions-4.10.0 visions-0.7.6 ydata-profiling-4.7.0\n",
      "Enabling notebook extension jupyter-js-widgets/extension...\n",
      "      - Validating: \u001b[32mOK\u001b[0m\n"
     ]
    }
   ],
   "source": [
    "    !pip3 install ydata-profiling\n",
    "    !jupyter nbextension enable --py widgetsnbextension\n"
   ]
  },
  {
   "cell_type": "code",
   "execution_count": 5,
   "id": "2cfc3400-3c96-4766-ac31-c802f75959b9",
   "metadata": {
    "tags": []
   },
   "outputs": [],
   "source": [
    "import numpy as np\n",
    "import pandas as pd\n",
    "from ydata_profiling import ProfileReport"
   ]
  },
  {
   "cell_type": "code",
   "execution_count": 6,
   "id": "b2eff748-2cfd-495b-9ff2-76ba3f84311d",
   "metadata": {
    "tags": []
   },
   "outputs": [
    {
     "name": "stdout",
     "output_type": "stream",
     "text": [
      "<class 'pandas.core.frame.DataFrame'>\n"
     ]
    }
   ],
   "source": [
    "file_path = 'data/schools.xlsx'\n",
    "\n",
    "# Read the Excel file into a pandas DataFrame\n",
    "df = pd.read_excel(file_path)\n",
    "print(type(df))"
   ]
  },
  {
   "cell_type": "code",
   "execution_count": 7,
   "id": "ce8d6c75-5309-4eb2-87a9-ba376c472dab",
   "metadata": {
    "tags": []
   },
   "outputs": [],
   "source": [
    "profile = ProfileReport(df, title=\"Profiling Report\", explorative=True)"
   ]
  },
  {
   "cell_type": "code",
   "execution_count": 8,
   "id": "e85185f5-b2f9-4722-bbb1-46b47c96c028",
   "metadata": {
    "tags": []
   },
   "outputs": [
    {
     "name": "stderr",
     "output_type": "stream",
     "text": [
      "/Users/sanjokdangol/anaconda3/lib/python3.11/site-packages/ydata_profiling/profile_report.py:354: UserWarning: Try running command: 'pip install --upgrade Pillow' to avoid ValueError\n",
      "  warnings.warn(\n"
     ]
    },
    {
     "data": {
      "application/vnd.jupyter.widget-view+json": {
       "model_id": "17df97ccca964237b3c37cac67f6a575",
       "version_major": 2,
       "version_minor": 0
      },
      "text/plain": [
       "Summarize dataset:   0%|          | 0/5 [00:00<?, ?it/s]"
      ]
     },
     "metadata": {},
     "output_type": "display_data"
    },
    {
     "data": {
      "application/vnd.jupyter.widget-view+json": {
       "model_id": "cc36c009cf294c3b81e9bc85e35c98a2",
       "version_major": 2,
       "version_minor": 0
      },
      "text/plain": [
       "Generate report structure:   0%|          | 0/1 [00:00<?, ?it/s]"
      ]
     },
     "metadata": {},
     "output_type": "display_data"
    },
    {
     "name": "stderr",
     "output_type": "stream",
     "text": [
      "/Users/sanjokdangol/anaconda3/lib/python3.11/site-packages/ydata_profiling/visualisation/utils.py:73: UserWarning: Glyph 65306 (\\N{FULLWIDTH COLON}) missing from current font.\n",
      "  plt.savefig(\n",
      "/Users/sanjokdangol/anaconda3/lib/python3.11/site-packages/ydata_profiling/visualisation/utils.py:73: UserWarning: Glyph 21463 (\\N{CJK UNIFIED IDEOGRAPH-53D7}) missing from current font.\n",
      "  plt.savefig(\n",
      "/Users/sanjokdangol/anaconda3/lib/python3.11/site-packages/ydata_profiling/visualisation/utils.py:73: UserWarning: Glyph 35611 (\\N{CJK UNIFIED IDEOGRAPH-8B1B}) missing from current font.\n",
      "  plt.savefig(\n",
      "/Users/sanjokdangol/anaconda3/lib/python3.11/site-packages/ydata_profiling/visualisation/utils.py:73: UserWarning: Glyph 20462 (\\N{CJK UNIFIED IDEOGRAPH-4FEE}) missing from current font.\n",
      "  plt.savefig(\n",
      "/Users/sanjokdangol/anaconda3/lib/python3.11/site-packages/ydata_profiling/visualisation/utils.py:73: UserWarning: Glyph 20102 (\\N{CJK UNIFIED IDEOGRAPH-4E86}) missing from current font.\n",
      "  plt.savefig(\n",
      "/Users/sanjokdangol/anaconda3/lib/python3.11/site-packages/ydata_profiling/visualisation/utils.py:73: UserWarning: Glyph 22865 (\\N{CJK UNIFIED IDEOGRAPH-5951}) missing from current font.\n",
      "  plt.savefig(\n",
      "/Users/sanjokdangol/anaconda3/lib/python3.11/site-packages/ydata_profiling/visualisation/utils.py:73: UserWarning: Glyph 32004 (\\N{CJK UNIFIED IDEOGRAPH-7D04}) missing from current font.\n",
      "  plt.savefig(\n",
      "/Users/sanjokdangol/anaconda3/lib/python3.11/site-packages/ydata_profiling/visualisation/utils.py:73: UserWarning: Glyph 28288 (\\N{CJK UNIFIED IDEOGRAPH-6E80}) missing from current font.\n",
      "  plt.savefig(\n",
      "/Users/sanjokdangol/anaconda3/lib/python3.11/site-packages/ydata_profiling/visualisation/utils.py:73: UserWarning: Glyph 30906 (\\N{CJK UNIFIED IDEOGRAPH-78BA}) missing from current font.\n",
      "  plt.savefig(\n",
      "/Users/sanjokdangol/anaconda3/lib/python3.11/site-packages/ydata_profiling/visualisation/utils.py:73: UserWarning: Glyph 23450 (\\N{CJK UNIFIED IDEOGRAPH-5B9A}) missing from current font.\n",
      "  plt.savefig(\n",
      "/Users/sanjokdangol/anaconda3/lib/python3.11/site-packages/ydata_profiling/visualisation/utils.py:73: UserWarning: Glyph 20206 (\\N{CJK UNIFIED IDEOGRAPH-4EEE}) missing from current font.\n",
      "  plt.savefig(\n",
      "/Users/sanjokdangol/anaconda3/lib/python3.11/site-packages/ydata_profiling/visualisation/utils.py:73: UserWarning: Glyph 35299 (\\N{CJK UNIFIED IDEOGRAPH-89E3}) missing from current font.\n",
      "  plt.savefig(\n",
      "/Users/sanjokdangol/anaconda3/lib/python3.11/site-packages/ydata_profiling/visualisation/utils.py:73: UserWarning: Glyph 20241 (\\N{CJK UNIFIED IDEOGRAPH-4F11}) missing from current font.\n",
      "  plt.savefig(\n",
      "/Users/sanjokdangol/anaconda3/lib/python3.11/site-packages/ydata_profiling/visualisation/utils.py:73: UserWarning: Glyph 20250 (\\N{CJK UNIFIED IDEOGRAPH-4F1A}) missing from current font.\n",
      "  plt.savefig(\n",
      "/Users/sanjokdangol/anaconda3/lib/python3.11/site-packages/ydata_profiling/visualisation/utils.py:73: UserWarning: Glyph 12473 (\\N{KATAKANA LETTER SU}) missing from current font.\n",
      "  plt.savefig(\n",
      "/Users/sanjokdangol/anaconda3/lib/python3.11/site-packages/ydata_profiling/visualisation/utils.py:73: UserWarning: Glyph 12486 (\\N{KATAKANA LETTER TE}) missing from current font.\n",
      "  plt.savefig(\n",
      "/Users/sanjokdangol/anaconda3/lib/python3.11/site-packages/ydata_profiling/visualisation/utils.py:73: UserWarning: Glyph 12540 (\\N{KATAKANA-HIRAGANA PROLONGED SOUND MARK}) missing from current font.\n",
      "  plt.savefig(\n",
      "/Users/sanjokdangol/anaconda3/lib/python3.11/site-packages/ydata_profiling/visualisation/utils.py:73: UserWarning: Glyph 12479 (\\N{KATAKANA LETTER TA}) missing from current font.\n",
      "  plt.savefig(\n",
      "/Users/sanjokdangol/anaconda3/lib/python3.11/site-packages/ydata_profiling/visualisation/utils.py:73: UserWarning: Glyph 12473 (\\N{KATAKANA LETTER SU}) missing from current font.\n",
      "  plt.savefig(\n",
      "/Users/sanjokdangol/anaconda3/lib/python3.11/site-packages/ydata_profiling/visualisation/utils.py:73: UserWarning: Glyph 12461 (\\N{KATAKANA LETTER KI}) missing from current font.\n",
      "  plt.savefig(\n",
      "/Users/sanjokdangol/anaconda3/lib/python3.11/site-packages/ydata_profiling/visualisation/utils.py:73: UserWarning: Glyph 12523 (\\N{KATAKANA LETTER RU}) missing from current font.\n",
      "  plt.savefig(\n"
     ]
    },
    {
     "data": {
      "application/vnd.jupyter.widget-view+json": {
       "model_id": "67280480c4284266881754979fc38f8a",
       "version_major": 2,
       "version_minor": 0
      },
      "text/plain": [
       "Render HTML:   0%|          | 0/1 [00:00<?, ?it/s]"
      ]
     },
     "metadata": {},
     "output_type": "display_data"
    },
    {
     "data": {
      "application/vnd.jupyter.widget-view+json": {
       "model_id": "b7cc7f78da3a484a844cd15aefc40cf9",
       "version_major": 2,
       "version_minor": 0
      },
      "text/plain": [
       "Export report to file:   0%|          | 0/1 [00:00<?, ?it/s]"
      ]
     },
     "metadata": {},
     "output_type": "display_data"
    }
   ],
   "source": [
    "profile.to_file(\"profile_report.html\")"
   ]
  },
  {
   "cell_type": "code",
   "execution_count": null,
   "id": "bd2d658e-501a-4897-a582-6c1bdf02c619",
   "metadata": {},
   "outputs": [],
   "source": []
  }
 ],
 "metadata": {
  "kernelspec": {
   "display_name": "Python 3 (ipykernel)",
   "language": "python",
   "name": "python3"
  },
  "language_info": {
   "codemirror_mode": {
    "name": "ipython",
    "version": 3
   },
   "file_extension": ".py",
   "mimetype": "text/x-python",
   "name": "python",
   "nbconvert_exporter": "python",
   "pygments_lexer": "ipython3",
   "version": "3.11.5"
  }
 },
 "nbformat": 4,
 "nbformat_minor": 5
}
