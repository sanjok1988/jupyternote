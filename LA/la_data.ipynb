{
 "cells": [
  {
   "cell_type": "code",
   "execution_count": 1,
   "id": "1b9fcf54-da92-4269-85a9-0da0c53d9078",
   "metadata": {
    "tags": []
   },
   "outputs": [],
   "source": [
    "import numpy as np\n",
    "import pandas as pd\n",
    "import matplotlib.pyplot as plt"
   ]
  },
  {
   "cell_type": "code",
   "execution_count": 2,
   "id": "5fa924f9-f1b8-4f2c-a2c4-0a0ccc23ca01",
   "metadata": {
    "tags": []
   },
   "outputs": [
    {
     "data": {
      "text/html": [
       "<div>\n",
       "<style scoped>\n",
       "    .dataframe tbody tr th:only-of-type {\n",
       "        vertical-align: middle;\n",
       "    }\n",
       "\n",
       "    .dataframe tbody tr th {\n",
       "        vertical-align: top;\n",
       "    }\n",
       "\n",
       "    .dataframe thead th {\n",
       "        text-align: right;\n",
       "    }\n",
       "</style>\n",
       "<table border=\"1\" class=\"dataframe\">\n",
       "  <thead>\n",
       "    <tr style=\"text-align: right;\">\n",
       "      <th></th>\n",
       "      <th>student_id</th>\n",
       "      <th>lastname</th>\n",
       "      <th>firstname</th>\n",
       "      <th>lastname_long</th>\n",
       "      <th>firstname_long</th>\n",
       "      <th>Contract date</th>\n",
       "      <th>Course end date</th>\n",
       "      <th>Contract number</th>\n",
       "      <th>status</th>\n",
       "      <th>Contract line number</th>\n",
       "      <th>Subject/test/product name</th>\n",
       "      <th>Number of lessons after discount</th>\n",
       "      <th>Remaining number of courses</th>\n",
       "      <th>skill</th>\n",
       "      <th>level</th>\n",
       "    </tr>\n",
       "  </thead>\n",
       "  <tbody>\n",
       "    <tr>\n",
       "      <th>0</th>\n",
       "      <td>L0603207052</td>\n",
       "      <td>吉田</td>\n",
       "      <td>正敏</td>\n",
       "      <td>ヨシダ</td>\n",
       "      <td>マサトシ</td>\n",
       "      <td>2020-08-28</td>\n",
       "      <td>2023-02-16</td>\n",
       "      <td>K02018365</td>\n",
       "      <td>5：受講修了</td>\n",
       "      <td>KM13604720</td>\n",
       "      <td>【販売停止】【e-text】English Advantage Ｌｅｖｅｌ 2</td>\n",
       "      <td>32</td>\n",
       "      <td>0</td>\n",
       "      <td>General English</td>\n",
       "      <td>Level 2</td>\n",
       "    </tr>\n",
       "    <tr>\n",
       "      <th>1</th>\n",
       "      <td>L0603207052</td>\n",
       "      <td>吉田</td>\n",
       "      <td>正敏</td>\n",
       "      <td>ヨシダ</td>\n",
       "      <td>マサトシ</td>\n",
       "      <td>2020-08-28</td>\n",
       "      <td>2023-02-16</td>\n",
       "      <td>K02018365</td>\n",
       "      <td>5：受講修了</td>\n",
       "      <td>KM13604723</td>\n",
       "      <td>【販売停止】【e-text】English Advantage Ｌｅｖｅｌ 3</td>\n",
       "      <td>32</td>\n",
       "      <td>0</td>\n",
       "      <td>General English</td>\n",
       "      <td>Level 3</td>\n",
       "    </tr>\n",
       "    <tr>\n",
       "      <th>2</th>\n",
       "      <td>L0603207052</td>\n",
       "      <td>吉田</td>\n",
       "      <td>正敏</td>\n",
       "      <td>ヨシダ</td>\n",
       "      <td>マサトシ</td>\n",
       "      <td>2020-08-28</td>\n",
       "      <td>2023-02-16</td>\n",
       "      <td>K02018365</td>\n",
       "      <td>5：受講修了</td>\n",
       "      <td>KM13604708</td>\n",
       "      <td>【販売停止】【e-text】【BC】English Advantage Ｌｅｖｅｌ 1</td>\n",
       "      <td>32</td>\n",
       "      <td>0</td>\n",
       "      <td>General English</td>\n",
       "      <td>Level 1</td>\n",
       "    </tr>\n",
       "    <tr>\n",
       "      <th>3</th>\n",
       "      <td>L0603207052</td>\n",
       "      <td>吉田</td>\n",
       "      <td>正敏</td>\n",
       "      <td>ヨシダ</td>\n",
       "      <td>マサトシ</td>\n",
       "      <td>2020-12-23</td>\n",
       "      <td>NaT</td>\n",
       "      <td>K02094135</td>\n",
       "      <td>1：契約確定</td>\n",
       "      <td>KM14580085</td>\n",
       "      <td>【販売停止】ロゼッタストーンTOEIC(R) 450点講座</td>\n",
       "      <td>44</td>\n",
       "      <td>1</td>\n",
       "      <td>TOEIC skills</td>\n",
       "      <td>Building</td>\n",
       "    </tr>\n",
       "    <tr>\n",
       "      <th>4</th>\n",
       "      <td>L0603207052</td>\n",
       "      <td>吉田</td>\n",
       "      <td>正敏</td>\n",
       "      <td>ヨシダ</td>\n",
       "      <td>マサトシ</td>\n",
       "      <td>2022-07-30</td>\n",
       "      <td>2023-10-12</td>\n",
       "      <td>K02440024</td>\n",
       "      <td>5：受講修了</td>\n",
       "      <td>KM18860131</td>\n",
       "      <td>【e-text】English Advantage Ｌｅｖｅｌ 3</td>\n",
       "      <td>32</td>\n",
       "      <td>0</td>\n",
       "      <td>General English</td>\n",
       "      <td>Level 3</td>\n",
       "    </tr>\n",
       "  </tbody>\n",
       "</table>\n",
       "</div>"
      ],
      "text/plain": [
       "    student_id lastname firstname lastname_long firstname_long Contract date  \\\n",
       "0  L0603207052       吉田        正敏           ヨシダ           マサトシ    2020-08-28   \n",
       "1  L0603207052       吉田        正敏           ヨシダ           マサトシ    2020-08-28   \n",
       "2  L0603207052       吉田        正敏           ヨシダ           マサトシ    2020-08-28   \n",
       "3  L0603207052       吉田        正敏           ヨシダ           マサトシ    2020-12-23   \n",
       "4  L0603207052       吉田        正敏           ヨシダ           マサトシ    2022-07-30   \n",
       "\n",
       "  Course end date Contract number  status Contract line number  \\\n",
       "0      2023-02-16       K02018365  5：受講修了           KM13604720   \n",
       "1      2023-02-16       K02018365  5：受講修了           KM13604723   \n",
       "2      2023-02-16       K02018365  5：受講修了           KM13604708   \n",
       "3             NaT       K02094135  1：契約確定           KM14580085   \n",
       "4      2023-10-12       K02440024  5：受講修了           KM18860131   \n",
       "\n",
       "                     Subject/test/product name  \\\n",
       "0      【販売停止】【e-text】English Advantage Ｌｅｖｅｌ 2   \n",
       "1      【販売停止】【e-text】English Advantage Ｌｅｖｅｌ 3   \n",
       "2  【販売停止】【e-text】【BC】English Advantage Ｌｅｖｅｌ 1   \n",
       "3                【販売停止】ロゼッタストーンTOEIC(R) 450点講座   \n",
       "4            【e-text】English Advantage Ｌｅｖｅｌ 3   \n",
       "\n",
       "   Number of lessons after discount  Remaining number of courses  \\\n",
       "0                                32                            0   \n",
       "1                                32                            0   \n",
       "2                                32                            0   \n",
       "3                                44                            1   \n",
       "4                                32                            0   \n",
       "\n",
       "             skill     level  \n",
       "0  General English   Level 2  \n",
       "1  General English   Level 3  \n",
       "2  General English   Level 1  \n",
       "3     TOEIC skills  Building  \n",
       "4  General English   Level 3  "
      ]
     },
     "execution_count": 2,
     "metadata": {},
     "output_type": "execute_result"
    }
   ],
   "source": [
    "df = pd.read_excel('data/la_stu_3.xlsx')\n",
    "df.head()"
   ]
  },
  {
   "cell_type": "markdown",
   "id": "01be72c0-1b15-4675-80e3-73b03aab19ff",
   "metadata": {},
   "source": [
    "# Add english status"
   ]
  },
  {
   "cell_type": "code",
   "execution_count": 3,
   "id": "02bad58e-3e36-4f59-8eda-dec69bd76ff6",
   "metadata": {
    "tags": []
   },
   "outputs": [
    {
     "name": "stdout",
     "output_type": "stream",
     "text": [
      "    student_id lastname firstname lastname_long firstname_long Contract date  \\\n",
      "0  L0603207052       吉田        正敏           ヨシダ           マサトシ    2020-08-28   \n",
      "1  L0603207052       吉田        正敏           ヨシダ           マサトシ    2020-08-28   \n",
      "2  L0603207052       吉田        正敏           ヨシダ           マサトシ    2020-08-28   \n",
      "3  L0603207052       吉田        正敏           ヨシダ           マサトシ    2020-12-23   \n",
      "4  L0603207052       吉田        正敏           ヨシダ           マサトシ    2022-07-30   \n",
      "\n",
      "  Course end date Contract number  status Contract line number  \\\n",
      "0      2023-02-16       K02018365  5：受講修了           KM13604720   \n",
      "1      2023-02-16       K02018365  5：受講修了           KM13604723   \n",
      "2      2023-02-16       K02018365  5：受講修了           KM13604708   \n",
      "3             NaT       K02094135  1：契約確定           KM14580085   \n",
      "4      2023-10-12       K02440024  5：受講修了           KM18860131   \n",
      "\n",
      "                     Subject/test/product name  \\\n",
      "0      【販売停止】【e-text】English Advantage Ｌｅｖｅｌ 2   \n",
      "1      【販売停止】【e-text】English Advantage Ｌｅｖｅｌ 3   \n",
      "2  【販売停止】【e-text】【BC】English Advantage Ｌｅｖｅｌ 1   \n",
      "3                【販売停止】ロゼッタストーンTOEIC(R) 450点講座   \n",
      "4            【e-text】English Advantage Ｌｅｖｅｌ 3   \n",
      "\n",
      "   Number of lessons after discount  Remaining number of courses  \\\n",
      "0                                32                            0   \n",
      "1                                32                            0   \n",
      "2                                32                            0   \n",
      "3                                44                            1   \n",
      "4                                32                            0   \n",
      "\n",
      "             skill     level           en_status  \n",
      "0  General English   Level 2   Course completion  \n",
      "1  General English   Level 3   Course completion  \n",
      "2  General English   Level 1   Course completion  \n",
      "3     TOEIC skills  Building  Contract confirmed  \n",
      "4  General English   Level 3   Course completion  \n"
     ]
    }
   ],
   "source": [
    "# English version of status codes\n",
    "english_status = {\n",
    "    '1：契約確定': 'Contract confirmed',\n",
    "    '2：仮解約': 'Provisional cancellation',\n",
    "    '3：解約確定': 'Cancellation confirmed',\n",
    "    '4：契約満了': 'Contract expiration',\n",
    "    '5：受講修了': 'Course completion',\n",
    "    '6：休会': 'Adjournment'\n",
    "}\n",
    "\n",
    "# Map Japanese status to English while grouping\n",
    "df['en_status'] = df['status'].map(english_status)\n",
    "print(df.head());"
   ]
  },
  {
   "cell_type": "markdown",
   "id": "cef0eec6-bb77-4030-acf9-0c06b2c5c76f",
   "metadata": {},
   "source": [
    "# Fill empty course end date"
   ]
  },
  {
   "cell_type": "code",
   "execution_count": 4,
   "id": "7d20f908-f8d1-4f61-be13-dd63a7a86dde",
   "metadata": {
    "tags": []
   },
   "outputs": [
    {
     "name": "stdout",
     "output_type": "stream",
     "text": [
      "1338\n"
     ]
    }
   ],
   "source": [
    "print(df['Course end date'].isna().sum())"
   ]
  },
  {
   "cell_type": "code",
   "execution_count": 5,
   "id": "01c7ece1-bc57-4af7-8e8b-62f4c63c00be",
   "metadata": {
    "tags": []
   },
   "outputs": [
    {
     "name": "stdout",
     "output_type": "stream",
     "text": [
      "    student_id lastname firstname lastname_long firstname_long Contract date  \\\n",
      "0  L0603207052       吉田        正敏           ヨシダ           マサトシ    2020-08-28   \n",
      "1  L0603207052       吉田        正敏           ヨシダ           マサトシ    2020-08-28   \n",
      "2  L0603207052       吉田        正敏           ヨシダ           マサトシ    2020-08-28   \n",
      "3  L0603207052       吉田        正敏           ヨシダ           マサトシ    2020-12-23   \n",
      "4  L0603207052       吉田        正敏           ヨシダ           マサトシ    2022-07-30   \n",
      "\n",
      "  Course end date Contract number  status Contract line number  \\\n",
      "0      2023-02-16       K02018365  5：受講修了           KM13604720   \n",
      "1      2023-02-16       K02018365  5：受講修了           KM13604723   \n",
      "2      2023-02-16       K02018365  5：受講修了           KM13604708   \n",
      "3      1990-01-01       K02094135  1：契約確定           KM14580085   \n",
      "4      2023-10-12       K02440024  5：受講修了           KM18860131   \n",
      "\n",
      "                     Subject/test/product name  \\\n",
      "0      【販売停止】【e-text】English Advantage Ｌｅｖｅｌ 2   \n",
      "1      【販売停止】【e-text】English Advantage Ｌｅｖｅｌ 3   \n",
      "2  【販売停止】【e-text】【BC】English Advantage Ｌｅｖｅｌ 1   \n",
      "3                【販売停止】ロゼッタストーンTOEIC(R) 450点講座   \n",
      "4            【e-text】English Advantage Ｌｅｖｅｌ 3   \n",
      "\n",
      "   Number of lessons after discount  Remaining number of courses  \\\n",
      "0                                32                            0   \n",
      "1                                32                            0   \n",
      "2                                32                            0   \n",
      "3                                44                            1   \n",
      "4                                32                            0   \n",
      "\n",
      "             skill     level           en_status  \n",
      "0  General English   Level 2   Course completion  \n",
      "1  General English   Level 3   Course completion  \n",
      "2  General English   Level 1   Course completion  \n",
      "3     TOEIC skills  Building  Contract confirmed  \n",
      "4  General English   Level 3   Course completion  \n"
     ]
    }
   ],
   "source": [
    "df['Course end date'].fillna('1990-01-01', inplace=True)\n",
    "print(df.head())"
   ]
  },
  {
   "cell_type": "code",
   "execution_count": 6,
   "id": "b3876f4b-f337-4f69-9e78-33bd5b538b13",
   "metadata": {
    "tags": []
   },
   "outputs": [
    {
     "name": "stdout",
     "output_type": "stream",
     "text": [
      "['5：受講修了' '1：契約確定' '4：契約満了' '3：解約確定' '6：休会' '2：仮解約']\n"
     ]
    }
   ],
   "source": [
    "unique_status = df['status'].unique()\n",
    "print(unique_status)"
   ]
  },
  {
   "cell_type": "markdown",
   "id": "0e164449-2c5d-4355-8be6-c72d1510afa6",
   "metadata": {},
   "source": [
    "# Filter active users only"
   ]
  },
  {
   "cell_type": "code",
   "execution_count": 11,
   "id": "8b833512-836f-4750-81b3-6bd2f0f64d6f",
   "metadata": {
    "tags": []
   },
   "outputs": [
    {
     "name": "stdout",
     "output_type": "stream",
     "text": [
      "2024-03\n",
      "0    2023-02\n",
      "1    2023-02\n",
      "2    2023-02\n",
      "3    1990-01\n",
      "4    2023-10\n",
      "Name: month, dtype: period[M]\n",
      "     student_id Course end date    month           en_status\n",
      "3   L0603207052      1990-01-01  1990-01  Contract confirmed\n",
      "5   L0603207052      1990-01-01  1990-01  Contract confirmed\n",
      "9   L0603209675      1990-01-01  1990-01  Contract confirmed\n",
      "25  L0603209860      1990-01-01  1990-01  Contract confirmed\n",
      "26  L0603209860      1990-01-01  1990-01  Contract confirmed\n"
     ]
    }
   ],
   "source": [
    "from datetime import datetime\n",
    "\n",
    "# Get current month\n",
    "current_month = datetime.now().strftime('%Y-%m')\n",
    "print(current_month)\n",
    "\n",
    "df['month'] = df['Course end date'].dt.to_period('M')\n",
    "\n",
    "print(df['month'].head())\n",
    "\n",
    "filtered_active_users = df[(df['status'].str.contains('1：契約確定')) | (df['month'] >= current_month)]\n",
    "print(filtered_active_users.head()[['student_id','Course end date','month','en_status']])"
   ]
  },
  {
   "cell_type": "markdown",
   "id": "25ee5132-90e4-4f8e-9ea1-755c7b854424",
   "metadata": {},
   "source": [
    "# Count Unique enrolled Users"
   ]
  },
  {
   "cell_type": "code",
   "execution_count": 12,
   "id": "000b2424-5d50-418b-9de1-1dfde5058778",
   "metadata": {
    "tags": []
   },
   "outputs": [
    {
     "name": "stdout",
     "output_type": "stream",
     "text": [
      "573\n"
     ]
    }
   ],
   "source": [
    "\n",
    "unique_enroll_users = filtered_active_users['student_id'].unique()\n",
    "print(len(unique_enroll_users))"
   ]
  },
  {
   "cell_type": "markdown",
   "id": "97e1323e-2719-4398-b1ba-4c4cef375fab",
   "metadata": {},
   "source": [
    "# filter by product"
   ]
  },
  {
   "cell_type": "code",
   "execution_count": 13,
   "id": "5f3d521c-a14a-4fa1-ad95-50b45c3ccc02",
   "metadata": {
    "tags": []
   },
   "outputs": [],
   "source": [
    "filtered_be_df = filtered_active_users[filtered_active_users['Subject/test/product name'].str.contains('Business Edge')]\n",
    "filtered_be_df.to_csv('output/business_edge.csv', index=False)\n",
    "\n",
    "filtered_ea_df = df[df['Subject/test/product name'].str.contains('English Advantage')]\n",
    "filtered_ea_df.to_csv('output/english_advantage.csv', index=False)"
   ]
  },
  {
   "cell_type": "markdown",
   "id": "aa806961-80bd-47e0-910c-203e12fc887e",
   "metadata": {},
   "source": [
    "# Export to CSV"
   ]
  },
  {
   "cell_type": "code",
   "execution_count": null,
   "id": "4d0e260f-507d-459f-a6e8-be57b4b410b6",
   "metadata": {},
   "outputs": [],
   "source": [
    "active_users_df = pd.DataFrame(filtered_active_users)\n",
    "\n",
    "# Export to CSV\n",
    "active_users_df.to_csv('output/active_users.csv', index=False)"
   ]
  },
  {
   "cell_type": "markdown",
   "id": "add72da6-4866-4183-b948-1dda285ace9b",
   "metadata": {},
   "source": [
    "# Group By Status"
   ]
  },
  {
   "cell_type": "code",
   "execution_count": 98,
   "id": "c6297e4c-b2b3-433f-97c4-e47bb10dc125",
   "metadata": {
    "tags": []
   },
   "outputs": [
    {
     "name": "stdout",
     "output_type": "stream",
     "text": [
      "en_status\n",
      "Contract confirmed    [L0603207052, L0603209675, L0603209860, L11052...\n",
      "Name: student_id, dtype: object\n"
     ]
    }
   ],
   "source": [
    "enrolled_students_by_status = filtered_active_users.groupby('en_status')['student_id'].unique()\n",
    "print(enrolled_students_by_status)"
   ]
  },
  {
   "cell_type": "code",
   "execution_count": null,
   "id": "8d4a0c12-8dc5-44e2-a057-ffc1c00d7cfe",
   "metadata": {},
   "outputs": [],
   "source": []
  },
  {
   "cell_type": "code",
   "execution_count": 99,
   "id": "735bb29d-7466-46e6-852a-17165dbf0d7c",
   "metadata": {
    "tags": []
   },
   "outputs": [
    {
     "name": "stdout",
     "output_type": "stream",
     "text": [
      "en_status\n",
      "Contract confirmed    573\n",
      "Name: student_id, dtype: int64\n"
     ]
    }
   ],
   "source": [
    "enrolled_students_counts_by_status = enrolled_students_by_status.apply(len)\n",
    "print(enrolled_students_counts_by_status)"
   ]
  },
  {
   "cell_type": "markdown",
   "id": "44d0db06-a38e-40ee-a624-7e250a742402",
   "metadata": {},
   "source": [
    "# Enrolled student distribution in Graph by contract status"
   ]
  },
  {
   "cell_type": "code",
   "execution_count": 100,
   "id": "051e4164-9256-497a-bbc7-e9b50fc86aae",
   "metadata": {
    "tags": []
   },
   "outputs": [
    {
     "data": {
      "image/png": "[encoded data removed]",
      "text/plain": [
       "<Figure size 1000x600 with 1 Axes>"
      ]
     },
     "metadata": {},
     "output_type": "display_data"
    }
   ],
   "source": [
    "## Plot the graph\n",
    "plt.figure(figsize=(10, 6))\n",
    "enrolled_students_counts_by_status.plot(kind='bar', color='skyblue')\n",
    "\n",
    "# Add labels and title\n",
    "plt.xlabel('Status')\n",
    "plt.ylabel('Count of Unique Students')\n",
    "plt.title('Counts of Unique Enrolled Students by Contract Status')\n",
    "\n",
    "# Show plot\n",
    "plt.xticks(rotation=45, ha='right')\n",
    "plt.tight_layout()\n",
    "plt.show()"
   ]
  },
  {
   "cell_type": "markdown",
   "id": "8aa661d0-6023-4be1-afe7-cd7f6733f1d2",
   "metadata": {},
   "source": [
    "# Export to csv"
   ]
  },
  {
   "cell_type": "code",
   "execution_count": 101,
   "id": "632aa2b5-17eb-4936-a248-b15007ba61e3",
   "metadata": {
    "tags": []
   },
   "outputs": [
    {
     "name": "stdout",
     "output_type": "stream",
     "text": [
      "     student_id firstname lastname Course end date    month  \\\n",
      "3   L0603207052        正敏       吉田      1990-01-01  1990-01   \n",
      "5   L0603207052        正敏       吉田      1990-01-01  1990-01   \n",
      "9   L0603209675       佳寿子       山下      1990-01-01  1990-01   \n",
      "25  L0603209860        宣光       浅井      1990-01-01  1990-01   \n",
      "26  L0603209860        宣光       浅井      1990-01-01  1990-01   \n",
      "\n",
      "             en_status          Subject/test/product name            skill  \\\n",
      "3   Contract confirmed      【販売停止】ロゼッタストーンTOEIC(R) 450点講座     TOEIC skills   \n",
      "5   Contract confirmed  【e-text】English Advantage Ｌｅｖｅｌ 4  General English   \n",
      "9   Contract confirmed  【e-text】English Advantage Ｌｅｖｅｌ 6  General English   \n",
      "25  Contract confirmed  【e-text】English Advantage Ｌｅｖｅｌ 6  General English   \n",
      "26  Contract confirmed            ロゼッタストーンTOEIC(R) 850点講座     TOEIC skills   \n",
      "\n",
      "        level  \n",
      "3    Building  \n",
      "5     Level 4  \n",
      "9     Level 6  \n",
      "25    Level 6  \n",
      "26  Mastering  \n"
     ]
    }
   ],
   "source": [
    "print(filtered_active_users.head()[['student_id', 'firstname', 'lastname', 'Course end date','month','en_status','Subject/test/product name','skill','level']])"
   ]
  },
  {
   "cell_type": "code",
   "execution_count": 102,
   "id": "2abd829c-37e6-435c-b2ac-325ae5dfcb93",
   "metadata": {
    "tags": []
   },
   "outputs": [],
   "source": [
    "# Convert unique values array to a DataFrame\n",
    "# filtered_avtive_df = filtered_active_users[filtered_active_users['student_id'].isin(unique_enroll_users)]\n",
    "\n",
    "active_users_df = pd.DataFrame(filtered_active_users)\n",
    "\n",
    "# Export to CSV\n",
    "active_users_df.to_csv('output/active_users.csv', index=False)"
   ]
  },
  {
   "cell_type": "markdown",
   "id": "0911676a-c8d3-4849-af51-07720b505c5c",
   "metadata": {},
   "source": [
    "# Overall data grouping by contract status"
   ]
  },
  {
   "cell_type": "code",
   "execution_count": 32,
   "id": "27f66668-f153-4175-8ef8-5ac87ad25ea3",
   "metadata": {
    "tags": []
   },
   "outputs": [],
   "source": [
    "unique_students_by_status = df.groupby('en_status')['student_id'].unique()\n",
    "# print(unique_students_by_status)"
   ]
  },
  {
   "cell_type": "code",
   "execution_count": 33,
   "id": "60c86044-bb46-426b-85be-5ef610b17c1d",
   "metadata": {
    "tags": []
   },
   "outputs": [
    {
     "name": "stdout",
     "output_type": "stream",
     "text": [
      "en_status\n",
      "Adjournment                  12\n",
      "Cancellation confirmed      229\n",
      "Contract confirmed          573\n",
      "Contract expiration         136\n",
      "Course completion           690\n",
      "Provisional cancellation     14\n",
      "Name: student_id, dtype: int64\n"
     ]
    }
   ],
   "source": [
    "unique_students_counts_by_status = unique_students_by_status.apply(len)\n",
    "print(unique_students_counts_by_status)"
   ]
  },
  {
   "cell_type": "markdown",
   "id": "9b830dcf-592f-48e6-9476-d6f4a816e4b5",
   "metadata": {},
   "source": [
    "# Graph for over all distribution by contract status"
   ]
  },
  {
   "cell_type": "code",
   "execution_count": 34,
   "id": "2b421310-e295-4751-b367-7697e8b8fabb",
   "metadata": {
    "tags": []
   },
   "outputs": [
    {
     "data": {
      "image/png": "[encoded data removed]",
      "text/plain": [
       "<Figure size 1000x600 with 1 Axes>"
      ]
     },
     "metadata": {},
     "output_type": "display_data"
    }
   ],
   "source": [
    "\n",
    "\n",
    "## Plot the graph\n",
    "plt.figure(figsize=(10, 6))\n",
    "unique_students_counts_by_status.plot(kind='bar', color='skyblue')\n",
    "\n",
    "# Add labels and title\n",
    "plt.xlabel('Status')\n",
    "plt.ylabel('Count of Unique Students')\n",
    "plt.title('Counts of Unique Students by Contract Status')\n",
    "\n",
    "# Show plot\n",
    "plt.xticks(rotation=45, ha='right')\n",
    "plt.tight_layout()\n",
    "plt.show()\n"
   ]
  },
  {
   "cell_type": "code",
   "execution_count": 42,
   "id": "0c3f7914-ebe8-484c-a075-8f1e32286461",
   "metadata": {
    "tags": []
   },
   "outputs": [
    {
     "name": "stdout",
     "output_type": "stream",
     "text": [
      "['科目・検定・商品名' '【販売停止】【e-text】English Advantage Ｌｅｖｅｌ 2'\n",
      " '【販売停止】【e-text】English Advantage Ｌｅｖｅｌ 3'\n",
      " '【販売停止】【e-text】【BC】English Advantage Ｌｅｖｅｌ 1'\n",
      " '【販売停止】ロゼッタストーンTOEIC(R) 450点講座' '【e-text】English Advantage Ｌｅｖｅｌ 3'\n",
      " '【e-text】English Advantage Ｌｅｖｅｌ 4' '【e-text】English Advantage Ｌｅｖｅｌ 5'\n",
      " '【e-text】English Advantage Ｌｅｖｅｌ 6' 'English Advantage 演習 2回'\n",
      " 'ロゼッタストーンTOEIC(R) 450点講座' 'ロゼッタストーンTOEIC (R) 演習5回'\n",
      " 'ロゼッタストーンTOEIC(R) 650点講座' 'ロゼッタストーンTOEIC(R) 850点講座'\n",
      " 'ロゼッタストーンTOEIC (R) 演習3回' '【e-text】【BC】English Advantage Ｌｅｖｅｌ 1'\n",
      " '【販売停止】【e-text】English Advantage Foundation' 'Business Edge Book3'\n",
      " 'Business Edge Book2' 'RS Business English Foundation'\n",
      " '【e-text】English Advantage Ｌｅｖｅｌ 2' 'RS English Book 1'\n",
      " 'RS English Book 2' 'RS English Book 3' 'Market Leader Intermediate'\n",
      " 'Business Edge Book4' 'Business Edge Book6' 'Business Edge Book5'\n",
      " '【販売停止】【e-text】English Advantage Ｌｅｖｅｌ 6'\n",
      " '【販売停止】【e-text】English Advantage Ｌｅｖｅｌ 7' 'RS English Book 4'\n",
      " '【e-text】English Advantage Ｌｅｖｅｌ 7' 'English Advantage 演習 1回'\n",
      " 'English Advantage 演習 3回' 'English Advantage 演習 5回'\n",
      " '【e-text】English Advantage Ｌｅｖｅｌ 8'\n",
      " '【e-text】English Advantage Foundation'\n",
      " '【販売停止】【e-text】English Advantage Ｌｅｖｅｌ 5'\n",
      " '【販売停止】【e-text】English Advantage Ｌｅｖｅｌ 4'\n",
      " '【販売停止】English Advantage Ｌｅｖｅｌ 2' '【販売停止】English Advantage Ｌｅｖｅｌ 1'\n",
      " '【販売停止】English Advantage Ｌｅｖｅｌ 3'\n",
      " '【ショート16】English Advantage Novice Book2' 'Business Edge Book1'\n",
      " 'RS English Book 5' 'RS Market Leader Upper-Int'\n",
      " 'RS Market Leader Advanced' 'Premium Club English B1'\n",
      " 'Premium Club English C' 'Premium Club English A2'\n",
      " 'Premium Club English B2' 'Premium Club English A1(40)'\n",
      " '【e-text】English Advantage Ｌｅｖｅｌ 9' '【e-text】English Advantage Ｌｅｖｅｌ 10'\n",
      " 'RS English Foundation' 'RS Market Leader Intermediate (Daytime)'\n",
      " 'RS Business English Book 5' 'RS Business Edge 演習 4回' 'RS TOEIC Building'\n",
      " 'RS TOEIC Developing' 'RS TOEIC Mastering' 'RS English Book 6'\n",
      " 'English Advantage 演習 4回' 'RS Market Leader Intermediate'\n",
      " 'RS English Book 7 (Daytime)'\n",
      " '【ショート継続16】RS English Advantage Pre-advance Book8' 'RS English Book 8'\n",
      " 'RS English Book 9' 'RS English Book 10'\n",
      " '【販売停止】English Advantage Ｌｅｖｅｌ 10' 'RS English 演習 5回' 'RS English Book 7'\n",
      " 'RS Business English Book 2' 'ロゼッタストーンTOEIC (R) 演習2回'\n",
      " 'RS English Book 5 (Daytime)' 'RS English Book 6 (Daytime)'\n",
      " '【販売停止】【e-text】English Advantage Ｌｅｖｅｌ 9'\n",
      " '【販売停止】【e-text】English Advantage Ｌｅｖｅｌ 10'\n",
      " '【販売停止】【e-text】English Advantage Ｌｅｖｅｌ 8' 'RS Business English Book 4'\n",
      " 'RS Business English Book 3' 'Business Edge Foundation'\n",
      " '【販売停止】ロゼッタストーンTOEIC(R) 850点講座' '【販売停止】ロゼッタストーンTOEIC(R) 650点講座'\n",
      " 'ロゼッタストーンTOEIC (R) 演習1回' '【販売停止】English Advantage Ｌｅｖｅｌ 9'\n",
      " '【販売停止】English Advantage Ｌｅｖｅｌ 8' '【販売停止】English Advantage Ｌｅｖｅｌ 7'\n",
      " '【販売停止】ロゼッタストーンTOEIC (R) 演習1回' '【販売停止】ロゼッタストーンTOEIC (R) 演習2回'\n",
      " '【販売停止】English Advantage 演習 5回' '【販売停止】English Advantage 演習 2回'\n",
      " 'RS Business English Book 1' 'Premium Club English A1'\n",
      " 'RS TOEIC Mastering (Daytime)' 'RS Business English Book 6'\n",
      " 'RS English Book 9 (Daytime)' 'RS English Book 8 (Daytime)'\n",
      " '【販売終了】RS Market Leader Pre-Intermediate' 'RS English Book 10 (Daytime)'\n",
      " 'RS Market Leader Upper-Int (Daytime)' 'RS English Book 4 (Daytime)'\n",
      " 'Premium Club English A1(10)' '【販売停止】English Advantage Foundation'\n",
      " '【販売停止】English Advantage Ｌｅｖｅｌ 5' '【販売停止】English Advantage Ｌｅｖｅｌ 6'\n",
      " 'Business Edge 演習 1回' '【販売終了】RS Market Leader Pre-Intermediate (Daytime)'\n",
      " '【ショート16】RS English Advantage Foundation'\n",
      " '【ショート8】English Advantage Intermediate Book5'\n",
      " 'Premium Club English A1(1)'\n",
      " '【ショート8】RS English Advantage Pre-advance Book7'\n",
      " '【販売停止】English Advantage Ｌｅｖｅｌ 4' 'Business Edge 演習 5回'\n",
      " '【販売終了】RS Market Leader Elementary' 'RS月謝 English Book 7'\n",
      " 'RS月謝 English Book 8' 'RS月謝 English Book 6' 'RS月謝 English Book 4'\n",
      " 'RS月謝 English Book 10' 'RS月謝 English Book 5' 'RS月謝 English Book 9'\n",
      " 'RS月謝 Market Leader Advanced' 'RS月謝 Market Leader Upper'\n",
      " '【ショート継続24】RS English Advantage Intermediate Book5'\n",
      " '【ショート継続16】RS English Advantage Intermediate Book5'\n",
      " 'RS Market Leader Advanced (Daytime)' 'Premium Club English A1(54)'\n",
      " 'RS English Book 3 (Daytime)' 'RS English 演習 2回'\n",
      " 'RS English Book 2 (Daytime)'\n",
      " '【ショート16】English Advantage Pre-advance Book7'\n",
      " '【ショート8】RS English Advantage Novice Book3' 'RS English Book 1 (Daytime)'\n",
      " 'RS TOEIC Developing (Daytime)' 'Business Edge 演習 3回' 'RS English 演習 1回'\n",
      " 'RS Market Leader 演習 1回' 'RS Market Leader 演習 5回'\n",
      " 'RS English Foundation (Daytime)' 'Premium Club English A1(30)'\n",
      " '【ショート16】RS English Advantage Intermediate Book6' 'Market Leader 演習 1回'\n",
      " 'Business Edge 演習 2回' 'RS Business Edge 演習 1回' 'RS English 演習 3回'\n",
      " '【ショート16】English Advantage Starter Book1'\n",
      " '【ショート継続16】English Advantage Pre-advance Book7'\n",
      " '【ショート継続16】English Advantage Foundation' 'RS TOEIC Building (Daytime)'\n",
      " '【ショート16】English Advantage Novice Book3'\n",
      " '【ショート16】English Advantage Foundation'\n",
      " '【ショート8】English Advantage Pre-advance Book7'\n",
      " '【ショート継続16】English Advantage Starter Book1' 'Market Leader Upper-Int']\n"
     ]
    }
   ],
   "source": [
    "unique_values = df['Subject/test/product name'].unique()\n",
    "print(unique_values)"
   ]
  },
  {
   "cell_type": "code",
   "execution_count": 11,
   "id": "6ef97480-7ca9-47bd-b986-ab7303f4a125",
   "metadata": {
    "tags": []
   },
   "outputs": [],
   "source": [
    "# Convert unique values array to a DataFrame\n",
    "unique_values_df = pd.DataFrame(unique_values, columns=['Unique Values'])\n",
    "\n",
    "# Export to CSV\n",
    "unique_values_df.to_csv('output/unique_values.csv', index=False)"
   ]
  },
  {
   "cell_type": "code",
   "execution_count": null,
   "id": "e5d01dcc-9ce6-4201-b7ef-35e4bef1284c",
   "metadata": {},
   "outputs": [],
   "source": [
    "count = df['Subject/test/product name'].value_counts()\n",
    "print(count)"
   ]
  },
  {
   "cell_type": "code",
   "execution_count": 9,
   "id": "02fc83a1-2475-4e4e-af4e-4661be56cd86",
   "metadata": {
    "tags": []
   },
   "outputs": [
    {
     "name": "stdout",
     "output_type": "stream",
     "text": [
      "Number of unique values: 155\n"
     ]
    }
   ],
   "source": [
    "# Count the number of unique values\n",
    "num_unique_values = len(unique_values)\n",
    "\n",
    "# Print the count\n",
    "print(\"Number of unique values:\", num_unique_values)"
   ]
  },
  {
   "cell_type": "code",
   "execution_count": 10,
   "id": "144618bf-cd15-4743-afcf-1a1a75f5cc4f",
   "metadata": {
    "tags": []
   },
   "outputs": [
    {
     "name": "stdout",
     "output_type": "stream",
     "text": [
      "       student_id lastname firstname lastname_long firstname_long  \\\n",
      "30    L0704201328        秦        英明            ハタ           ヒデアキ   \n",
      "31    L0704201328        秦        英明            ハタ           ヒデアキ   \n",
      "32    L0704201328        秦        英明            ハタ           ヒデアキ   \n",
      "33    L0704201328        秦        英明            ハタ           ヒデアキ   \n",
      "35    L1105200352       阿部        新平            アベ           シンペイ   \n",
      "...           ...      ...       ...           ...            ...   \n",
      "3371  L2401805242       冨岡        孝仁          トミオカ           タカヒト   \n",
      "3376  L2401806196       細田         圭           ホソダ             ケイ   \n",
      "3379  L2401806509       平本        貴之          ヒラモト           タカユキ   \n",
      "3380  L2401806509       平本        貴之          ヒラモト           タカユキ   \n",
      "3381  L2401806657       西岡        大貴          ニシオカ            ヒロキ   \n",
      "\n",
      "     Contract date Course end date Contract number  status  \\\n",
      "30      2022-07-31      2023-01-24       K02440675  3：解約確定   \n",
      "31      2022-12-16      2023-01-24       K02503500  3：解約確定   \n",
      "32      2023-01-15      2023-02-24       K02516994  3：解約確定   \n",
      "33      2023-01-15      2023-02-24       K02516994  3：解約確定   \n",
      "35      2023-09-23      1990-01-01       K02633305  1：契約確定   \n",
      "...            ...             ...             ...     ...   \n",
      "3371    2024-01-30      1990-01-01       K02684552  1：契約確定   \n",
      "3376    2024-01-28      1990-01-01       K02688211  1：契約確定   \n",
      "3379    2024-01-29      1990-01-01       K02687067  1：契約確定   \n",
      "3380    2024-01-29      1990-01-01       K02687067  1：契約確定   \n",
      "3381    2024-01-28      1990-01-01       K02687222  1：契約確定   \n",
      "\n",
      "     Contract line number Subject/test/product name  \\\n",
      "30             KM18868814       Business Edge Book3   \n",
      "31             KM19710395       Business Edge Book2   \n",
      "32             KM19858597       Business Edge Book2   \n",
      "33             KM19858598       Business Edge Book3   \n",
      "35             KM21116509       Business Edge Book2   \n",
      "...                   ...                       ...   \n",
      "3371           KM21696196       Business Edge Book2   \n",
      "3376           KM21743173       Business Edge Book4   \n",
      "3379           KM21728436       Business Edge Book1   \n",
      "3380           KM21728434  Business Edge Foundation   \n",
      "3381           KM21730299       Business Edge Book4   \n",
      "\n",
      "      Number of lessons after discount  Remaining number of courses  \\\n",
      "30                                  32                           32   \n",
      "31                                  32                           32   \n",
      "32                                  32                           31   \n",
      "33                                  32                           32   \n",
      "35                                  32                           28   \n",
      "...                                ...                          ...   \n",
      "3371                                32                           32   \n",
      "3376                                32                           32   \n",
      "3379                                32                           32   \n",
      "3380                                32                           32   \n",
      "3381                                32                           32   \n",
      "\n",
      "                 skill    level               en_status    month  \n",
      "30    Business English  Level 3  Cancellation confirmed  2023-01  \n",
      "31    Business English  Level 2  Cancellation confirmed  2023-01  \n",
      "32    Business English  Level 2  Cancellation confirmed  2023-02  \n",
      "33    Business English  Level 3  Cancellation confirmed  2023-02  \n",
      "35    Business English  Level 2      Contract confirmed  1990-01  \n",
      "...                ...      ...                     ...      ...  \n",
      "3371  Business English  Level 2      Contract confirmed  1990-01  \n",
      "3376  Business English  Level 4      Contract confirmed  1990-01  \n",
      "3379  Business English  Level 1      Contract confirmed  1990-01  \n",
      "3380  Business English  Level 0      Contract confirmed  1990-01  \n",
      "3381  Business English  Level 4      Contract confirmed  1990-01  \n",
      "\n",
      "[195 rows x 17 columns]\n"
     ]
    }
   ],
   "source": [
    "filtered_df = df[df['Subject/test/product name'].str.contains('Business Edge')]\n",
    "filtered_df.to_csv('output/business_edge.csv', index=False)\n",
    "# Print the filtered DataFrame\n",
    "print(filtered_df)"
   ]
  },
  {
   "cell_type": "code",
   "execution_count": 15,
   "id": "63e5b401-21b0-42db-9884-9dfa66818419",
   "metadata": {
    "tags": []
   },
   "outputs": [],
   "source": [
    "filtered_df_av = df[df['Subject/test/product name'].str.contains('English Advantage')]\n",
    "filtered_df_av.to_csv('output/english_advantage.csv', index=False)"
   ]
  },
  {
   "cell_type": "code",
   "execution_count": 76,
   "id": "764387dd-6747-4e64-8e65-01c8a7f533f3",
   "metadata": {
    "tags": []
   },
   "outputs": [
    {
     "name": "stdout",
     "output_type": "stream",
     "text": [
      "Number of unique users: 1351\n",
      "     student_id firstname lastname\n",
      "0         受講生番号         名        姓\n",
      "1   L0603207052        正敏       吉田\n",
      "7   L0603209675       佳寿子       山下\n",
      "11  L0603209860        宣光       浅井\n",
      "28  L0604203283        晴望       平野\n"
     ]
    }
   ],
   "source": [
    "# unique_students = df['student_id'].unique()\n",
    "# Get unique combinations of 'student_id' and 'firstname'\n",
    "unique_students = df[['student_id', 'firstname','lastname']].drop_duplicates()\n",
    "num_unique_students = len(unique_students)\n",
    "\n",
    "# Print the count\n",
    "print(\"Number of unique users:\", num_unique_students)\n",
    "print(unique_students.head())"
   ]
  },
  {
   "cell_type": "code",
   "execution_count": 80,
   "id": "88fa2b85-b77b-4012-8883-8346b172b815",
   "metadata": {},
   "outputs": [
    {
     "name": "stdout",
     "output_type": "stream",
     "text": [
      "     student_id firstname lastname                                Email\n",
      "0         受講生番号         名        姓        受講生番号@globalenglishcampus.com\n",
      "1   L0603207052        正敏       吉田  L0603207052@globalenglishcampus.com\n",
      "7   L0603209675       佳寿子       山下  L0603209675@globalenglishcampus.com\n",
      "11  L0603209860        宣光       浅井  L0603209860@globalenglishcampus.com\n",
      "28  L0604203283        晴望       平野  L0604203283@globalenglishcampus.com\n",
      "       student_id firstname lastname                                Email\n",
      "3378  L2401806456        りえ       坂本  L2401806456@globalenglishcampus.com\n",
      "3380  L2401806509        貴之       平本  L2401806509@globalenglishcampus.com\n",
      "3382  L2401806657        大貴       西岡  L2401806657@globalenglishcampus.com\n",
      "3383  L2401807427        都月       福井  L2401807427@globalenglishcampus.com\n",
      "3384  L2401807602       真寿美       西村  L2401807602@globalenglishcampus.com\n"
     ]
    }
   ],
   "source": [
    "def generate_email(student_id):\n",
    "    domain = 'globalenglishcampus.com'  # Replace 'example.com' with your desired domain\n",
    "    return f\"{student_id}@{domain}\"\n",
    "\n",
    "\n",
    "# Apply the function to generate emails for each student number and store them in the DataFrame\n",
    "unique_students['Email'] = unique_students['student_id'].apply(generate_email)\n",
    "\n",
    "# Print the updated DataFram\n",
    "print(unique_students.head())\n",
    "print(unique_students.tail())"
   ]
  },
  {
   "cell_type": "code",
   "execution_count": 81,
   "id": "7f1776d7-02b1-4b5f-8f19-4faf53b1f3e9",
   "metadata": {
    "tags": []
   },
   "outputs": [],
   "source": [
    "selected_df = unique_students.drop_duplicates()\n",
    "selected_df = selected_df.dropna(subset=['Email'])\n"
   ]
  },
  {
   "cell_type": "code",
   "execution_count": 82,
   "id": "9a0944e1-d85f-453b-a579-dd84c90fb855",
   "metadata": {
    "tags": []
   },
   "outputs": [],
   "source": [
    "\n",
    "selected_df.to_csv('output/students_list.csv', index=False)"
   ]
  },
  {
   "cell_type": "code",
   "execution_count": 65,
   "id": "8556563a-01cf-4694-9a36-80215301d60d",
   "metadata": {
    "tags": []
   },
   "outputs": [
    {
     "name": "stdout",
     "output_type": "stream",
     "text": [
      "Number of unique users: 1351\n"
     ]
    }
   ],
   "source": [
    "num_selected_columns_df = len(selected_df)\n",
    "\n",
    "# Print the count\n",
    "print(\"Number of unique users:\", num_selected_columns_df)"
   ]
  },
  {
   "cell_type": "code",
   "execution_count": null,
   "id": "aa9597d2-8861-49d6-9f66-b3dea8469e9c",
   "metadata": {},
   "outputs": [],
   "source": []
  }
 ],
 "metadata": {
  "kernelspec": {
   "display_name": "Python 3 (ipykernel)",
   "language": "python",
   "name": "python3"
  },
  "language_info": {
   "codemirror_mode": {
    "name": "ipython",
    "version": 3
   },
   "file_extension": ".py",
   "mimetype": "text/x-python",
   "name": "python",
   "nbconvert_exporter": "python",
   "pygments_lexer": "ipython3",
   "version": "3.11.5"
  }
 },
 "nbformat": 4,
 "nbformat_minor": 5
}
