{
 "cells": [
  {
   "cell_type": "code",
   "execution_count": 34,
   "id": "c87518d5-e8c4-4844-8021-4b16bc462b1d",
   "metadata": {
    "tags": []
   },
   "outputs": [
    {
     "name": "stdout",
     "output_type": "stream",
     "text": [
      "                   skill     level\n",
      "0       Business English   Level 2\n",
      "1    RS Business English   Level 0\n",
      "2       Business English   Level 3\n",
      "4       Business English   Level 5\n",
      "5       Business English   Level 0\n",
      "7       Business English   Level 6\n",
      "10      Business English   Level 4\n",
      "20      Business English   Level 1\n",
      "71       General English   Level 2\n",
      "72       General English   Level 3\n",
      "73       General English   Level 1\n",
      "75       General English   Level 4\n",
      "78       General English   Level 5\n",
      "79       General English   Level 6\n",
      "80       General English   Level 0\n",
      "90       General English   Level 7\n",
      "109      General English   Level 8\n",
      "149      General English   Level 9\n",
      "151      General English  Level 10\n",
      "171           RS English   Level 8\n",
      "359           RS English   Level 0\n",
      "379           RS English   Level 7\n",
      "520           RS English   Level 5\n",
      "590           RS English   Level 3\n",
      "901           RS English   Level 6\n"
     ]
    }
   ],
   "source": [
    "import pandas as pd\n",
    "\n",
    "df = pd.read_csv('output/final_student_cleaned_data.csv')\n",
    "\n",
    "unique_combinations = df[['skill', 'level']].drop_duplicates()\n",
    "# Print unique combinations\n",
    "print(unique_combinations)\n",
    "# if not isinstance(unique_skills, pd.Series):\n",
    "#     unique_skills = pd.Series(unique_skills)\n",
    "# unique_skills.to_csv(\"output/product_classroom_mapper.csv\")"
   ]
  },
  {
   "cell_type": "code",
   "execution_count": 29,
   "id": "40c6e311-15ce-4ec9-8b4b-7fe9703b70b8",
   "metadata": {
    "tags": []
   },
   "outputs": [
    {
     "name": "stdout",
     "output_type": "stream",
     "text": [
      "['Business Edge Book2' 'Business Edge 演習 4回' 'Business Edge Book3'\n",
      " 'Business Edge Book5' 'Business Edge 演習 1回' 'Business Edge Book6'\n",
      " 'Business Edge Book4' 'Business Edge Book1' 'Business Edge 演習 3回'\n",
      " 'Business Edge Foundation' 'Business Edge 演習 5回'\n",
      " 'English Advantage Ｌｅｖｅｌ 2' 'English Advantage Ｌｅｖｅｌ 3'\n",
      " 'English Advantage Ｌｅｖｅｌ 1' 'English Advantage Ｌｅｖｅｌ 4'\n",
      " 'English Advantage Ｌｅｖｅｌ 5' 'English Advantage Ｌｅｖｅｌ 6'\n",
      " 'English Advantage 演習 2回' 'English Advantage Foundation'\n",
      " 'English Advantage Ｌｅｖｅｌ 7' 'English Advantage 演習 1回'\n",
      " 'English Advantage 演習 3回' 'English Advantage 演習 5回'\n",
      " 'English Advantage Ｌｅｖｅｌ 8' 'English Advantage Novice Book2'\n",
      " 'English Advantage Ｌｅｖｅｌ 9' 'English Advantage Ｌｅｖｅｌ 10'\n",
      " 'English Advantage 演習 4回' 'English Advantage Pre-advance Book8'\n",
      " 'English Advantage Intermediate Book5'\n",
      " 'English Advantage Pre-advance Book7' 'English Advantage Novice Book3'\n",
      " 'English Advantage Intermediate Book6' 'English Advantage Starter Book1']\n"
     ]
    }
   ],
   "source": [
    "# Convert to pandas Series if not already\n",
    "if not isinstance(unique_skills, pd.Series):\n",
    "    english_business_skills = pd.Series(unique_skills)\n",
    "\n",
    "# Remove everything before 'English' in the strings\n",
    "english_business_skills = english_business_skills.str.replace('.*English Advantage', 'English Advantage', regex=True)\n",
    "english_business_skills = english_business_skills.str.replace('.*Business Edge', 'Business Edge', regex=True)\n",
    "\n",
    "print(english_business_skills.unique())"
   ]
  },
  {
   "cell_type": "code",
   "execution_count": 10,
   "id": "13519245-f818-46a9-8024-69a718e538a5",
   "metadata": {
    "tags": []
   },
   "outputs": [],
   "source": [
    "english_business_skills.to_csv('output/product_class_mapper.csv')"
   ]
  },
  {
   "cell_type": "code",
   "execution_count": null,
   "id": "e479048e-16d2-4044-8195-79d9a2c498d9",
   "metadata": {},
   "outputs": [],
   "source": []
  }
 ],
 "metadata": {
  "kernelspec": {
   "display_name": "Python 3 (ipykernel)",
   "language": "python",
   "name": "python3"
  },
  "language_info": {
   "codemirror_mode": {
    "name": "ipython",
    "version": 3
   },
   "file_extension": ".py",
   "mimetype": "text/x-python",
   "name": "python",
   "nbconvert_exporter": "python",
   "pygments_lexer": "ipython3",
   "version": "3.11.5"
  }
 },
 "nbformat": 4,
 "nbformat_minor": 5
}
