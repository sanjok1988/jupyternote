{
 "cells": [
  {
   "cell_type": "code",
   "execution_count": 3,
   "id": "897950ae-043f-4a17-af4f-326be921d291",
   "metadata": {
    "tags": []
   },
   "outputs": [],
   "source": [
    "import numpy as np\n",
    "import pandas as pd"
   ]
  },
  {
   "cell_type": "code",
   "execution_count": 4,
   "id": "46d5e560-aa5c-4ff2-9a2d-5751282e0dff",
   "metadata": {
    "tags": []
   },
   "outputs": [
    {
     "data": {
      "text/html": [
       "<div>\n",
       "<style scoped>\n",
       "    .dataframe tbody tr th:only-of-type {\n",
       "        vertical-align: middle;\n",
       "    }\n",
       "\n",
       "    .dataframe tbody tr th {\n",
       "        vertical-align: top;\n",
       "    }\n",
       "\n",
       "    .dataframe thead th {\n",
       "        text-align: right;\n",
       "    }\n",
       "</style>\n",
       "<table border=\"1\" class=\"dataframe\">\n",
       "  <thead>\n",
       "    <tr style=\"text-align: right;\">\n",
       "      <th></th>\n",
       "      <th>student_id</th>\n",
       "      <th>product</th>\n",
       "      <th>skill</th>\n",
       "      <th>level</th>\n",
       "    </tr>\n",
       "  </thead>\n",
       "  <tbody>\n",
       "    <tr>\n",
       "      <th>0</th>\n",
       "      <td>L0704201328</td>\n",
       "      <td>Business Edge Book3</td>\n",
       "      <td>Business English</td>\n",
       "      <td>Level 3</td>\n",
       "    </tr>\n",
       "    <tr>\n",
       "      <th>1</th>\n",
       "      <td>L0704201328</td>\n",
       "      <td>Business Edge Book2</td>\n",
       "      <td>Business English</td>\n",
       "      <td>Level 2</td>\n",
       "    </tr>\n",
       "    <tr>\n",
       "      <th>2</th>\n",
       "      <td>L0704201328</td>\n",
       "      <td>Business Edge Book2</td>\n",
       "      <td>Business English</td>\n",
       "      <td>Level 2</td>\n",
       "    </tr>\n",
       "    <tr>\n",
       "      <th>3</th>\n",
       "      <td>L0704201328</td>\n",
       "      <td>Business Edge Book3</td>\n",
       "      <td>Business English</td>\n",
       "      <td>Level 3</td>\n",
       "    </tr>\n",
       "    <tr>\n",
       "      <th>4</th>\n",
       "      <td>L1105200352</td>\n",
       "      <td>Business Edge Book2</td>\n",
       "      <td>Business English</td>\n",
       "      <td>Level 2</td>\n",
       "    </tr>\n",
       "  </tbody>\n",
       "</table>\n",
       "</div>"
      ],
      "text/plain": [
       "    student_id              product             skill    level\n",
       "0  L0704201328  Business Edge Book3  Business English  Level 3\n",
       "1  L0704201328  Business Edge Book2  Business English  Level 2\n",
       "2  L0704201328  Business Edge Book2  Business English  Level 2\n",
       "3  L0704201328  Business Edge Book3  Business English  Level 3\n",
       "4  L1105200352  Business Edge Book2  Business English  Level 2"
      ]
     },
     "execution_count": 4,
     "metadata": {},
     "output_type": "execute_result"
    }
   ],
   "source": [
    "df = pd.read_csv('output/business_edge.csv')\n",
    "data = df[['student_id','product','skill','level']]\n",
    "\n",
    "data.head()"
   ]
  },
  {
   "cell_type": "code",
   "execution_count": 5,
   "id": "1baaf2d1-5509-41e7-ab77-c260d7694813",
   "metadata": {
    "tags": []
   },
   "outputs": [
    {
     "name": "stdout",
     "output_type": "stream",
     "text": [
      "      student_id                   product             skill    level  \\\n",
      "0    L0704201328       Business Edge Book3  Business English  Level 3   \n",
      "1    L0704201328       Business Edge Book2  Business English  Level 2   \n",
      "2    L0704201328       Business Edge Book2  Business English  Level 2   \n",
      "3    L0704201328       Business Edge Book3  Business English  Level 3   \n",
      "4    L1105200352       Business Edge Book2  Business English  Level 2   \n",
      "..           ...                       ...               ...      ...   \n",
      "190  L2401805242       Business Edge Book2  Business English  Level 2   \n",
      "191  L2401806196       Business Edge Book4  Business English  Level 4   \n",
      "192  L2401806509       Business Edge Book1  Business English  Level 1   \n",
      "193  L2401806509  Business Edge Foundation  Business English  Level 0   \n",
      "194  L2401806657       Business Edge Book4  Business English  Level 4   \n",
      "\n",
      "     class_id  \n",
      "0        1741  \n",
      "1        1740  \n",
      "2        1740  \n",
      "3        1741  \n",
      "4        1740  \n",
      "..        ...  \n",
      "190      1740  \n",
      "191      1742  \n",
      "192      1745  \n",
      "193      1739  \n",
      "194      1742  \n",
      "\n",
      "[195 rows x 5 columns]\n"
     ]
    },
    {
     "name": "stderr",
     "output_type": "stream",
     "text": [
      "/var/folders/20/f03891t56yxd6lbd6m22l5rh0000gn/T/ipykernel_16792/2125637838.py:13: SettingWithCopyWarning: \n",
      "A value is trying to be set on a copy of a slice from a DataFrame.\n",
      "Try using .loc[row_indexer,col_indexer] = value instead\n",
      "\n",
      "See the caveats in the documentation: https://pandas.pydata.org/pandas-docs/stable/user_guide/indexing.html#returning-a-view-versus-a-copy\n",
      "  data.loc[:, 'class_id'] = data['level'].map(gec_classrooms)\n"
     ]
    }
   ],
   "source": [
    "gec_classrooms = {\n",
    "    'Level 0': 1739,\n",
    "    'Level 2': 1740,\n",
    "    'Level 3': 1741,\n",
    "    'Level 4': 1742,\n",
    "    'Level 5': 1743,\n",
    "    'Level 6': 1744,\n",
    "    'Level 1': 1745\n",
    "}\n",
    "\n",
    "# Add a new column 'class_id' to the DataFrame based on the 'level' column\n",
    "# data['class_id'] = data['level'].map(gec_classrooms)\n",
    "data.loc[:, 'class_id'] = data['level'].map(gec_classrooms)\n",
    "print(data)"
   ]
  },
  {
   "cell_type": "code",
   "execution_count": 6,
   "id": "2a01afd3-c06d-45ce-96a4-fd19a77c2070",
   "metadata": {
    "tags": []
   },
   "outputs": [
    {
     "name": "stdout",
     "output_type": "stream",
     "text": [
      "before cleaning:  195\n",
      "after cleaning:  186\n"
     ]
    }
   ],
   "source": [
    "print(\"before cleaning: \", len(data))\n",
    "data = data.drop_duplicates()\n",
    "print(\"after cleaning: \", len(data))\n",
    "data.to_csv('output/business_edge_gec_clean_data.csv', index=False)"
   ]
  },
  {
   "cell_type": "code",
   "execution_count": null,
   "id": "0e607928-80ab-4f3c-ae73-bac7928405fc",
   "metadata": {},
   "outputs": [],
   "source": []
  },
  {
   "cell_type": "code",
   "execution_count": null,
   "id": "0adf8403-bee1-40fc-a099-087cc2b97a85",
   "metadata": {},
   "outputs": [],
   "source": []
  }
 ],
 "metadata": {
  "kernelspec": {
   "display_name": "Python 3 (ipykernel)",
   "language": "python",
   "name": "python3"
  },
  "language_info": {
   "codemirror_mode": {
    "name": "ipython",
    "version": 3
   },
   "file_extension": ".py",
   "mimetype": "text/x-python",
   "name": "python",
   "nbconvert_exporter": "python",
   "pygments_lexer": "ipython3",
   "version": "3.11.5"
  }
 },
 "nbformat": 4,
 "nbformat_minor": 5
}
