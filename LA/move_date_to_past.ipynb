{
 "cells": [
  {
   "cell_type": "code",
   "execution_count": 2,
   "id": "3115d193-8f96-4fe2-a091-1bca1a78e641",
   "metadata": {
    "tags": []
   },
   "outputs": [
    {
     "name": "stdout",
     "output_type": "stream",
     "text": [
      "{'Lesson': 'Lesson 1', 'Start Date': '2019-12-16', 'End Date': '2020-01-01'}\n",
      "{'Lesson': 'Lesson 2', 'Start Date': '2019-12-23', 'End Date': '2020-01-06'}\n",
      "{'Lesson': 'Lesson 3', 'Start Date': '2019-12-11', 'End Date': '2019-12-27'}\n",
      "{'Lesson': 'Lesson 4', 'Start Date': '2019-12-27', 'End Date': '2020-01-11'}\n",
      "{'Lesson': 'Lesson 5', 'Start Date': '2020-01-01', 'End Date': '2020-01-16'}\n"
     ]
    }
   ],
   "source": [
    "from datetime import datetime, timedelta\n",
    "\n",
    "def move_lessons_to_past(lessons, new_start_date):\n",
    "    # Convert new_start_date string to datetime object\n",
    "    new_start_date_obj = datetime.strptime(new_start_date, '%Y-%m-%d')\n",
    "    \n",
    "    # Calculate the interval between original start date and new start date\n",
    "    old_start_date_obj = datetime.strptime(lessons[-1]['Start Date'], '%Y-%m-%d')\n",
    "    interval = old_start_date_obj - new_start_date_obj\n",
    "    \n",
    "    # Iterate through lessons and update start and end dates\n",
    "    for lesson in lessons:\n",
    "        # Calculate new start date for each lesson\n",
    "        lesson_start_date_obj = datetime.strptime(lesson['Start Date'], '%Y-%m-%d')\n",
    "        new_start_date_obj = lesson_start_date_obj - interval\n",
    "        \n",
    "        # Calculate new end date for each lesson\n",
    "        lesson_end_date_obj = datetime.strptime(lesson['End Date'], '%Y-%m-%d')\n",
    "        new_end_date_obj = lesson_end_date_obj - interval\n",
    "        \n",
    "        # Update lesson start and end dates\n",
    "        lesson['Start Date'] = new_start_date_obj.strftime('%Y-%m-%d')\n",
    "        lesson['End Date'] = new_end_date_obj.strftime('%Y-%m-%d')\n",
    "    \n",
    "    return lessons\n",
    "\n",
    "# Example usage:\n",
    "lessons = [\n",
    "    {'Lesson': 'Lesson 1', 'Start Date': '2024-03-25', 'End Date': '2024-04-10'},\n",
    "    {'Lesson': 'Lesson 2', 'Start Date': '2024-04-01', 'End Date': '2024-04-15'},\n",
    "    {'Lesson': 'Lesson 3', 'Start Date': '2024-03-20', 'End Date': '2024-04-05'},\n",
    "    {'Lesson': 'Lesson 4', 'Start Date': '2024-04-05', 'End Date': '2024-04-20'},\n",
    "    {'Lesson': 'Lesson 5', 'Start Date': '2024-04-10', 'End Date': '2024-04-25'}\n",
    "]\n",
    "\n",
    "new_start_date = '2020-01-01'\n",
    "\n",
    "moved_lessons = move_lessons_to_past(lessons, new_start_date)\n",
    "for lesson in moved_lessons:\n",
    "    print(lesson)\n"
   ]
  },
  {
   "cell_type": "code",
   "execution_count": null,
   "id": "4853c4d6-60e8-43fb-acbb-46e7226f27bd",
   "metadata": {},
   "outputs": [],
   "source": []
  }
 ],
 "metadata": {
  "kernelspec": {
   "display_name": "Python 3 (ipykernel)",
   "language": "python",
   "name": "python3"
  },
  "language_info": {
   "codemirror_mode": {
    "name": "ipython",
    "version": 3
   },
   "file_extension": ".py",
   "mimetype": "text/x-python",
   "name": "python",
   "nbconvert_exporter": "python",
   "pygments_lexer": "ipython3",
   "version": "3.11.5"
  }
 },
 "nbformat": 4,
 "nbformat_minor": 5
}
