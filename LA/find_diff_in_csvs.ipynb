{
 "cells": [
  {
   "cell_type": "code",
   "execution_count": 8,
   "id": "3f31416a-abdc-4f22-b69d-78d662db85fe",
   "metadata": {
    "tags": []
   },
   "outputs": [
    {
     "name": "stdout",
     "output_type": "stream",
     "text": [
      "Rows distinct in data/20240416_GEC連携レポート.csv but not in data/20240417_GEC連携レポート.csv :\n",
      "Empty DataFrame\n",
      "Columns: [受講生番号, 現校舎: 校舎コード, 受講終了日, 科目・検定・商品名, ステータス, _merge]\n",
      "Index: []\n",
      "\n",
      "Rows distinct in data/20240417_GEC連携レポート.csv but not in data/20240416_GEC連携レポート.csv :\n",
      "            受講生番号  現校舎: 校舎コード 受講終了日 科目・検定・商品名   ステータス     _merge\n",
      "7790  L2404824873         160   NaN  BE Book2  1：契約確定  left_only\n"
     ]
    }
   ],
   "source": [
    "import pandas as pd\n",
    "\n",
    "def find_distinct_rows(file1, file2):\n",
    "    \"\"\"Find the distinct rows based on specific columns between two files.\"\"\"\n",
    "    # Read the contents of both files into DataFrames\n",
    "    df1 = pd.read_csv(file1)\n",
    "\n",
    "    df2 = pd.read_csv(file2)\n",
    "\n",
    "    # Keep only the columns of interest (student_id and school_id)\n",
    "    df1_subset = df1[['受講生番号', '現校舎: 校舎コード','受講終了日','科目・検定・商品名','ステータス']]\n",
    "    df2_subset = df2[['受講生番号', '現校舎: 校舎コード','受講終了日','科目・検定・商品名','ステータス']]\n",
    "\n",
    "    # Find distinct rows based on the specified columns\n",
    "    distinct_in_df1 = df1_subset.merge(df2_subset, indicator=True, how='outer').loc[lambda x: x['_merge'] == 'left_only']\n",
    "    distinct_in_df2 = df2_subset.merge(df1_subset, indicator=True, how='outer').loc[lambda x: x['_merge'] == 'left_only']\n",
    "\n",
    "    return distinct_in_df1, distinct_in_df2\n",
    "\n",
    "def main():\n",
    "    file1 = 'data/20240416_GEC連携レポート.csv'\n",
    "    \n",
    "    file2 = 'data/20240417_GEC連携レポート.csv'\n",
    "\n",
    "    distinct_in_df1, distinct_in_df2 = find_distinct_rows(file1, file2)\n",
    "\n",
    "    print(\"Rows distinct in\", file1, \"but not in\", file2, \":\")\n",
    "    print(distinct_in_df1)\n",
    "\n",
    "    print(\"\\nRows distinct in\", file2, \"but not in\", file1, \":\")\n",
    "    print(distinct_in_df2)\n",
    "\n",
    "if __name__ == \"__main__\":\n",
    "    main()\n"
   ]
  },
  {
   "cell_type": "code",
   "execution_count": null,
   "id": "da974c8f-ee92-4537-b739-bc1f6be7d70b",
   "metadata": {},
   "outputs": [],
   "source": []
  },
  {
   "cell_type": "code",
   "execution_count": null,
   "id": "f21cef1b-cbe7-4974-b712-dafbc65a8276",
   "metadata": {},
   "outputs": [],
   "source": []
  }
 ],
 "metadata": {
  "kernelspec": {
   "display_name": "Python 3 (ipykernel)",
   "language": "python",
   "name": "python3"
  },
  "language_info": {
   "codemirror_mode": {
    "name": "ipython",
    "version": 3
   },
   "file_extension": ".py",
   "mimetype": "text/x-python",
   "name": "python",
   "nbconvert_exporter": "python",
   "pygments_lexer": "ipython3",
   "version": "3.11.5"
  }
 },
 "nbformat": 4,
 "nbformat_minor": 5
}
