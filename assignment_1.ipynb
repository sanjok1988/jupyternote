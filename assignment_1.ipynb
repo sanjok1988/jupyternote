{
 "cells": [
  {
   "cell_type": "code",
   "execution_count": 2,
   "id": "ce267fe6-d2ad-4b02-a278-acb2f904f878",
   "metadata": {
    "tags": []
   },
   "outputs": [
    {
     "name": "stdout",
     "output_type": "stream",
     "text": [
      "Collecting whoosh\n",
      "  Downloading Whoosh-2.7.4-py2.py3-none-any.whl (468 kB)\n",
      "\u001b[2K     \u001b[90m━━━━━━━━━━━━━━━━━━━━━━━━━━━━━━━━━━━━━━━\u001b[0m \u001b[32m468.8/468.8 kB\u001b[0m \u001b[31m2.7 MB/s\u001b[0m eta \u001b[36m0:00:00\u001b[0m00:01\u001b[0m00:01\u001b[0m\n",
      "\u001b[?25hInstalling collected packages: whoosh\n",
      "Successfully installed whoosh-2.7.4\n"
     ]
    }
   ],
   "source": [
    "!pip3 install whoosh"
   ]
  },
  {
   "cell_type": "code",
   "execution_count": 1,
   "id": "9e341acd-adc4-460f-b310-ba6a04d8ea3f",
   "metadata": {},
   "outputs": [],
   "source": [
    "import os\n",
    "import os.path\n",
    "\n",
    "import requests\n",
    "from bs4 import BeautifulSoup\n",
    "from urllib.parse import urljoin\n",
    "from collections import defaultdict\n",
    "from whoosh.fields import Schema, TEXT, KEYWORD, ID, STORED\n",
    "from whoosh.index import create_in, open_dir\n",
    "from whoosh.qparser import QueryParser\n",
    "from whoosh import scoring\n",
    "from whoosh.index import LockError"
   ]
  },
  {
   "cell_type": "code",
   "execution_count": 29,
   "id": "d9f74ee6-4981-4308-8e57-8068e3b4c59b",
   "metadata": {
    "tags": []
   },
   "outputs": [],
   "source": [
    "# Crawler to fetch data from the Coventry University Research Centre for Health and Life Sciences (RCHL) portal\n",
    "def crawl_and_index(base_url, index_path):\n",
    "    # Fetch the page containing the list of publications\n",
    "    response = requests.get(base_url)\n",
    "    soup = BeautifulSoup(response.text, 'html.parser')\n",
    "\n",
    "    # Initialize Whoosh index\n",
    "    # schema = Schema(title=TEXT(stored=True))\n",
    "    schema = Schema(title=TEXT(stored=True), authors=TEXT(stored=True), year=ID(stored=True), \n",
    "                    publication_url=ID(stored=True, unique=True), author_profile_url=ID(stored=True))\n",
    "    \n",
    "    if not os.path.exists(index_path):\n",
    "        os.mkdir(index_path)\n",
    "        \n",
    "    ix = create_in(index_path, schema)\n",
    "    writer = ix.writer()\n",
    "\n",
    "    # Extract publication information\n",
    "    for publication_div in soup.find_all('div', class_='result-container'):\n",
    "        \n",
    "        # print(publication_div)\n",
    "        \n",
    "        title_tag = publication_div.find('h3', class_=\"title\")\n",
    "\n",
    "        if title_tag:\n",
    "            title = title_tag.get_text(strip = True)\n",
    "        else:\n",
    "            title = \"N/A\"\n",
    "            \n",
    "        print(title)\n",
    "        \n",
    "            \n",
    "        authors_tags = publication_div.find_all('a', class_='link person')\n",
    "        authors = [author.text.strip() for author in authors_tags] if authors_tags else [\"N/A\"]\n",
    "\n",
    "\n",
    "        year_tag = publication_div.find('span', class_='date')\n",
    "        year = year_tag.text.strip() if year_tag else \"N/A\"\n",
    "\n",
    "        publication_url_tag = publication_div.find('a', class_='title')\n",
    "        publication_url = urljoin(base_url, publication_url_tag['href']) if publication_url_tag else \"N/A\"\n",
    "\n",
    "        author_profile_url_tag = publication_div.find('a', class_='link person')\n",
    "        author_profile_url = urljoin(base_url, author_profile_url_tag['href']) if author_profile_url_tag else \"N/A\"\n",
    "        \n",
    "        # Add data to the Whoosh index\n",
    "        try:\n",
    "            writer.add_document(title=title, authors=', '.join(authors), year=year,\n",
    "                            publication_url=publication_url, author_profile_url=author_profile_url)\n",
    "            \n",
    "            # print(title, authors, year, publication_url, author_profile_url)\n",
    "\n",
    "        except LockError as e:\n",
    "            print(f\"LockError: {e}\")\n",
    "            print(\"Attempting to clean up lock files...\")\n",
    "\n",
    "            # Manually clean up lock files\n",
    "            lock_file_path = f\"{index_path}/write.lock\"\n",
    "\n",
    "            try:\n",
    "                os.remove(lock_file_path)\n",
    "                print(f\"Lock file {lock_file_path} removed.\")\n",
    "            except Exception as cleanup_error:\n",
    "                print(f\"Error cleaning up lock file: {cleanup_error}\")\n",
    "\n",
    "    # Commit changes to the index\n",
    "    print(\"Committing please wait...\")\n",
    "    writer.commit()\n",
    "    print(\"Finished\")"
   ]
  },
  {
   "cell_type": "code",
   "execution_count": 23,
   "id": "0180679c-9771-4c51-8677-9e5ab3520010",
   "metadata": {
    "tags": []
   },
   "outputs": [],
   "source": [
    "# Function to search the index\n",
    "def search(query, index_path):\n",
    "    ix = open_dir(index_path)\n",
    "    \n",
    "    with ix.searcher(weighting=scoring.TF_IDF()) as searcher:\n",
    "        query_parser = QueryParser(\"title\", ix.schema)\n",
    "        query = query_parser.parse(query)\n",
    "        results = searcher.search(query, terms=True)\n",
    "\n",
    "        # Display search results\n",
    "        for result in results:\n",
    "            print(f\"Title: {result['title']}\")\n",
    "            print(f\"Authors:  {result['authors']}\")\n",
    "            print(f\"Year: {result['year']}\")\n",
    "            print(f\"Publication URL: {result['publication_url']}\")\n",
    "            print(f\"Author Profile URL: {result['author_profile_url']}\")\n",
    "            print(\"\\n\")"
   ]
  },
  {
   "cell_type": "code",
   "execution_count": 31,
   "id": "90df05dd-cb5c-4d70-8a5b-e058a2226657",
   "metadata": {
    "tags": []
   },
   "outputs": [
    {
     "name": "stdout",
     "output_type": "stream",
     "text": [
      "Barriers and Facilitators to Participation and Key Components of Sleep Health Programs: perspectives for the corporate work environment\n",
      "Doxorubicin alters G-protein coupled receptor-mediated vasocontraction in rat coronary arteries\n",
      "Human gut microbiota and endocrinology: paradigm shift from genome to its regulation\n",
      "SGABU computational platform for multiscale modeling: Bridging the gap between education and research\n",
      "A Comparative Study of FLL and PLL in Boost PFC Converter Control for Smart Greenhouse Farming Application\n",
      "A comprehensive review of bioleaching optimization by statistical approaches: recycling mechanisms, factors affecting, challenges, and sustainability\n",
      "Age-Related Differences in Trunk Kinematics and Interplanar Decoupling with the Pelvis during Gait in Healthy Older versus Younger Men\n",
      "Application of non‐invasive bioreactance to assess hemodynamic function in patients with hypertrophic cardiomyopathy\n",
      "Associations between the Gut Microbiome and Metabolic, Inflammatory and Appetitive Effects of Sleeve Gastrectomy\n",
      "Behavioural and physiological indicators of anxiety reflect shared and distinct profiles across individuals with neurogenetic syndromes\n",
      "Big Data in multiscale modelling: from medical image processing to personalized models\n",
      "CellShip®: an ambient temperature transport and short-term storage medium for mammalian cell cultures\n",
      "Challenges in the Management of Non-Alcoholic Fatty Liver Disease (NAFLD): Towards a Compassionate Approach\n",
      "Computer-aided de novo design and optimization of novel potential inhibitors of HIV-1 Nef protein\n",
      "Designer GLP1 poly-agonist peptides in the management of diabesity\n",
      "Disruption of Dcp1 leads to a Dcp2‐dependent aberrant ribosome profiles in Aspergillus nidulans\n",
      "Effects of Acute Caffeine Ingestion on Cognitive Performance before and after Repeated Small-Sided Games in Professional Soccer Players: A Placebo-Controlled, Randomized Crossover Trial\n",
      "Effects of resistance exercise and whey protein supplementation on metabolic flexibility and glucose homeostasis in healthy older men\n",
      "GWAS of random glucose in 476,326 individuals provide insights into diabetes pathophysiology, complications and treatment stratification\n",
      "Heart rate variability and haemodynamic function in individuals with hypertrophic cardiomyopathy\n",
      "Influence of mobile genetic elements and insertion sequences in long- and short-term adaptive processes of Acidithiobacillus ferrooxidans strains\n",
      "Klotho, the Greek goddess controlling the fate of skeletal muscle satellite cells\n",
      "Longitudinal associations between self-reported sleep duration and cardiometabolic disease risk in corporate executives\n",
      "Machine learning and physical based modeling for cardiac hypertrophy\n",
      "Physical Activity, Inactivity and Sleep in Individuals with Hypertrophic Cardiomyopathy\n",
      "PLL-based Enhanced Control of Boost PFC Converter for Smart Farming Lighting Application\n",
      "Probing the Interactions of Thiazole Abietane Inhibitors with the Human Serine Hydrolases ABHD16A and ABHD12\n",
      "Random glucose GWAS in 493,036 individuals provides insights into diabetes pathophysiology, complications and treatment stratification\n",
      "Sacubitril/valsartan reverses cardiac structure and function in experimental model of hypertension-induced hypertrophic cardiomyopathy\n",
      "Targeting hPKM2 in cancer: A bio isosteric approach for ligand design\n",
      "The effect of medical grade compression garments on the repeated-bout effect in non-resistance trained men\n",
      "The impact of metabolic endotoxaemia on the browning process in human adipocytes\n",
      "The Role of Cardiopulmonary Exercise Testing in Hypertrophic Cardiomyopathy\n",
      "Transcriptional Landscape of 3D vs. 2D Ovarian Cancer Cell Models\n",
      "Triplex metallohelices have enantiomer-dependent mechanisms of action in colon cancer cells\n",
      "Unlocking Dendritic Cell-Based Vaccine Efficacy through Genetic Modulation: How Soon Is Now?\n",
      "Prolonged Sedentary Time May Modulate Glycemic Response To A 12-week Dietary Intervention In Obesity\n",
      "Committing please wait...\n",
      "Finished\n"
     ]
    },
    {
     "name": "stdin",
     "output_type": "stream",
     "text": [
      "Enter your query:  Greenhouse Farming Application\n"
     ]
    },
    {
     "name": "stdout",
     "output_type": "stream",
     "text": [
      "Title: A Comparative Study of FLL and PLL in Boost PFC Converter Control for Smart Greenhouse Farming Application\n",
      "Authors:  Pay, M. L., Christensen, J., He, F., Roden, L. C.\n",
      "Year: 28 Sept 2023\n",
      "Publication URL: N/A\n",
      "Author Profile URL: https://pureportal.coventry.ac.uk/en/persons/miao-lin-pay\n",
      "\n",
      "\n"
     ]
    }
   ],
   "source": [
    "# Example usage\n",
    "base_url = \"https://pureportal.coventry.ac.uk/en/organisations/ihw-centre-for-health-and-life-sciences-chls/publications/\"\n",
    "index_path = \"storage\"\n",
    "\n",
    "# Crawl and index data (This should be scheduled to run once per week)\n",
    "crawl_and_index(base_url, index_path)\n",
    "\n",
    "# Search for publications\n",
    "#Barriers and Facilitators\n",
    "user_query = input(\"Enter your query: \")\n",
    "search(user_query, index_path)"
   ]
  },
  {
   "cell_type": "code",
   "execution_count": null,
   "id": "e42003d7-dd21-44e7-8a33-6eff64cbb739",
   "metadata": {},
   "outputs": [],
   "source": []
  },
  {
   "cell_type": "code",
   "execution_count": null,
   "id": "d1530b5c-6017-4af3-8c0a-e7f856c875a5",
   "metadata": {},
   "outputs": [],
   "source": []
  }
 ],
 "metadata": {
  "kernelspec": {
   "display_name": "Python 3 (ipykernel)",
   "language": "python",
   "name": "python3"
  },
  "language_info": {
   "codemirror_mode": {
    "name": "ipython",
    "version": 3
   },
   "file_extension": ".py",
   "mimetype": "text/x-python",
   "name": "python",
   "nbconvert_exporter": "python",
   "pygments_lexer": "ipython3",
   "version": "3.11.5"
  }
 },
 "nbformat": 4,
 "nbformat_minor": 5
}
